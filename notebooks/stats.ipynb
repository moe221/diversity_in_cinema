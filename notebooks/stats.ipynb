{
 "cells": [
  {
   "cell_type": "code",
   "execution_count": 28,
   "id": "e8f564b9",
   "metadata": {},
   "outputs": [],
   "source": [
    "import pandas as pd"
   ]
  },
  {
   "cell_type": "code",
   "execution_count": 29,
   "id": "61880c3e",
   "metadata": {},
   "outputs": [],
   "source": [
    "ace_ventura_df = pd.read_csv(\"https://raw.githubusercontent.com/moe221/diversity_in_cinema/moe221_prediction_pipeline/results/ace_ventura_results.csv\")"
   ]
  },
  {
   "cell_type": "code",
   "execution_count": 30,
   "id": "53a02fa8",
   "metadata": {},
   "outputs": [
    {
     "data": {
      "text/html": [
       "<div>\n",
       "<style scoped>\n",
       "    .dataframe tbody tr th:only-of-type {\n",
       "        vertical-align: middle;\n",
       "    }\n",
       "\n",
       "    .dataframe tbody tr th {\n",
       "        vertical-align: top;\n",
       "    }\n",
       "\n",
       "    .dataframe thead th {\n",
       "        text-align: right;\n",
       "    }\n",
       "</style>\n",
       "<table border=\"1\" class=\"dataframe\">\n",
       "  <thead>\n",
       "    <tr style=\"text-align: right;\">\n",
       "      <th></th>\n",
       "      <th>Unnamed: 0</th>\n",
       "      <th>frame_number</th>\n",
       "      <th>face_id</th>\n",
       "      <th>gender</th>\n",
       "      <th>race</th>\n",
       "    </tr>\n",
       "  </thead>\n",
       "  <tbody>\n",
       "    <tr>\n",
       "      <th>0</th>\n",
       "      <td>0</td>\n",
       "      <td>31.0</td>\n",
       "      <td>0.0</td>\n",
       "      <td>Man</td>\n",
       "      <td>white</td>\n",
       "    </tr>\n",
       "    <tr>\n",
       "      <th>1</th>\n",
       "      <td>0</td>\n",
       "      <td>51.0</td>\n",
       "      <td>1.0</td>\n",
       "      <td>Man</td>\n",
       "      <td>white</td>\n",
       "    </tr>\n",
       "    <tr>\n",
       "      <th>2</th>\n",
       "      <td>0</td>\n",
       "      <td>71.0</td>\n",
       "      <td>2.0</td>\n",
       "      <td>Man</td>\n",
       "      <td>black</td>\n",
       "    </tr>\n",
       "    <tr>\n",
       "      <th>3</th>\n",
       "      <td>0</td>\n",
       "      <td>91.0</td>\n",
       "      <td>3.0</td>\n",
       "      <td>Man</td>\n",
       "      <td>latino hispanic</td>\n",
       "    </tr>\n",
       "    <tr>\n",
       "      <th>4</th>\n",
       "      <td>0</td>\n",
       "      <td>101.0</td>\n",
       "      <td>4.0</td>\n",
       "      <td>Man</td>\n",
       "      <td>asian</td>\n",
       "    </tr>\n",
       "    <tr>\n",
       "      <th>...</th>\n",
       "      <td>...</td>\n",
       "      <td>...</td>\n",
       "      <td>...</td>\n",
       "      <td>...</td>\n",
       "      <td>...</td>\n",
       "    </tr>\n",
       "    <tr>\n",
       "      <th>1171</th>\n",
       "      <td>0</td>\n",
       "      <td>9741.0</td>\n",
       "      <td>1171.0</td>\n",
       "      <td>Man</td>\n",
       "      <td>black</td>\n",
       "    </tr>\n",
       "    <tr>\n",
       "      <th>1172</th>\n",
       "      <td>1</td>\n",
       "      <td>9741.0</td>\n",
       "      <td>1172.0</td>\n",
       "      <td>Man</td>\n",
       "      <td>black</td>\n",
       "    </tr>\n",
       "    <tr>\n",
       "      <th>1173</th>\n",
       "      <td>2</td>\n",
       "      <td>9741.0</td>\n",
       "      <td>1173.0</td>\n",
       "      <td>Woman</td>\n",
       "      <td>white</td>\n",
       "    </tr>\n",
       "    <tr>\n",
       "      <th>1174</th>\n",
       "      <td>0</td>\n",
       "      <td>9761.0</td>\n",
       "      <td>1174.0</td>\n",
       "      <td>Man</td>\n",
       "      <td>asian</td>\n",
       "    </tr>\n",
       "    <tr>\n",
       "      <th>1175</th>\n",
       "      <td>0</td>\n",
       "      <td>9771.0</td>\n",
       "      <td>1175.0</td>\n",
       "      <td>Man</td>\n",
       "      <td>white</td>\n",
       "    </tr>\n",
       "  </tbody>\n",
       "</table>\n",
       "<p>1176 rows × 5 columns</p>\n",
       "</div>"
      ],
      "text/plain": [
       "      Unnamed: 0  frame_number  face_id gender             race\n",
       "0              0          31.0      0.0    Man            white\n",
       "1              0          51.0      1.0    Man            white\n",
       "2              0          71.0      2.0    Man            black\n",
       "3              0          91.0      3.0    Man  latino hispanic\n",
       "4              0         101.0      4.0    Man            asian\n",
       "...          ...           ...      ...    ...              ...\n",
       "1171           0        9741.0   1171.0    Man            black\n",
       "1172           1        9741.0   1172.0    Man            black\n",
       "1173           2        9741.0   1173.0  Woman            white\n",
       "1174           0        9761.0   1174.0    Man            asian\n",
       "1175           0        9771.0   1175.0    Man            white\n",
       "\n",
       "[1176 rows x 5 columns]"
      ]
     },
     "execution_count": 30,
     "metadata": {},
     "output_type": "execute_result"
    }
   ],
   "source": [
    "ace_ventura_df"
   ]
  },
  {
   "cell_type": "code",
   "execution_count": 31,
   "id": "f7bd08cd",
   "metadata": {},
   "outputs": [
    {
     "data": {
      "text/html": [
       "<div>\n",
       "<style scoped>\n",
       "    .dataframe tbody tr th:only-of-type {\n",
       "        vertical-align: middle;\n",
       "    }\n",
       "\n",
       "    .dataframe tbody tr th {\n",
       "        vertical-align: top;\n",
       "    }\n",
       "\n",
       "    .dataframe thead th {\n",
       "        text-align: right;\n",
       "    }\n",
       "</style>\n",
       "<table border=\"1\" class=\"dataframe\">\n",
       "  <thead>\n",
       "    <tr style=\"text-align: right;\">\n",
       "      <th></th>\n",
       "      <th>frame_number</th>\n",
       "      <th>face_id</th>\n",
       "      <th>gender</th>\n",
       "      <th>race</th>\n",
       "    </tr>\n",
       "  </thead>\n",
       "  <tbody>\n",
       "    <tr>\n",
       "      <th>0</th>\n",
       "      <td>31.0</td>\n",
       "      <td>0.0</td>\n",
       "      <td>Man</td>\n",
       "      <td>white</td>\n",
       "    </tr>\n",
       "    <tr>\n",
       "      <th>1</th>\n",
       "      <td>51.0</td>\n",
       "      <td>1.0</td>\n",
       "      <td>Man</td>\n",
       "      <td>white</td>\n",
       "    </tr>\n",
       "    <tr>\n",
       "      <th>2</th>\n",
       "      <td>71.0</td>\n",
       "      <td>2.0</td>\n",
       "      <td>Man</td>\n",
       "      <td>black</td>\n",
       "    </tr>\n",
       "    <tr>\n",
       "      <th>3</th>\n",
       "      <td>91.0</td>\n",
       "      <td>3.0</td>\n",
       "      <td>Man</td>\n",
       "      <td>latino hispanic</td>\n",
       "    </tr>\n",
       "    <tr>\n",
       "      <th>4</th>\n",
       "      <td>101.0</td>\n",
       "      <td>4.0</td>\n",
       "      <td>Man</td>\n",
       "      <td>asian</td>\n",
       "    </tr>\n",
       "    <tr>\n",
       "      <th>...</th>\n",
       "      <td>...</td>\n",
       "      <td>...</td>\n",
       "      <td>...</td>\n",
       "      <td>...</td>\n",
       "    </tr>\n",
       "    <tr>\n",
       "      <th>1171</th>\n",
       "      <td>9741.0</td>\n",
       "      <td>1171.0</td>\n",
       "      <td>Man</td>\n",
       "      <td>black</td>\n",
       "    </tr>\n",
       "    <tr>\n",
       "      <th>1172</th>\n",
       "      <td>9741.0</td>\n",
       "      <td>1172.0</td>\n",
       "      <td>Man</td>\n",
       "      <td>black</td>\n",
       "    </tr>\n",
       "    <tr>\n",
       "      <th>1173</th>\n",
       "      <td>9741.0</td>\n",
       "      <td>1173.0</td>\n",
       "      <td>Woman</td>\n",
       "      <td>white</td>\n",
       "    </tr>\n",
       "    <tr>\n",
       "      <th>1174</th>\n",
       "      <td>9761.0</td>\n",
       "      <td>1174.0</td>\n",
       "      <td>Man</td>\n",
       "      <td>asian</td>\n",
       "    </tr>\n",
       "    <tr>\n",
       "      <th>1175</th>\n",
       "      <td>9771.0</td>\n",
       "      <td>1175.0</td>\n",
       "      <td>Man</td>\n",
       "      <td>white</td>\n",
       "    </tr>\n",
       "  </tbody>\n",
       "</table>\n",
       "<p>1176 rows × 4 columns</p>\n",
       "</div>"
      ],
      "text/plain": [
       "      frame_number  face_id gender             race\n",
       "0             31.0      0.0    Man            white\n",
       "1             51.0      1.0    Man            white\n",
       "2             71.0      2.0    Man            black\n",
       "3             91.0      3.0    Man  latino hispanic\n",
       "4            101.0      4.0    Man            asian\n",
       "...            ...      ...    ...              ...\n",
       "1171        9741.0   1171.0    Man            black\n",
       "1172        9741.0   1172.0    Man            black\n",
       "1173        9741.0   1173.0  Woman            white\n",
       "1174        9761.0   1174.0    Man            asian\n",
       "1175        9771.0   1175.0    Man            white\n",
       "\n",
       "[1176 rows x 4 columns]"
      ]
     },
     "execution_count": 31,
     "metadata": {},
     "output_type": "execute_result"
    }
   ],
   "source": [
    "ace_ventura_df.drop(columns=['Unnamed: 0'])"
   ]
  },
  {
   "cell_type": "markdown",
   "id": "d7d12d69",
   "metadata": {},
   "source": [
    "# Movie data"
   ]
  },
  {
   "cell_type": "markdown",
   "id": "66c4f1a7",
   "metadata": {},
   "source": [
    "## Movie length"
   ]
  },
  {
   "cell_type": "markdown",
   "id": "a2485ec3",
   "metadata": {},
   "source": [
    "Movie in seconds"
   ]
  },
  {
   "cell_type": "code",
   "execution_count": 32,
   "id": "aab778f3",
   "metadata": {},
   "outputs": [
    {
     "ename": "SyntaxError",
     "evalue": "invalid syntax (805390521.py, line 1)",
     "output_type": "error",
     "traceback": [
      "\u001b[0;36m  File \u001b[0;32m\"/var/folders/rr/_6cndbxd5336__5_jkqg_kmm0000gn/T/ipykernel_10545/805390521.py\"\u001b[0;36m, line \u001b[0;32m1\u001b[0m\n\u001b[0;31m    movie_length_sec =\u001b[0m\n\u001b[0m                      ^\u001b[0m\n\u001b[0;31mSyntaxError\u001b[0m\u001b[0;31m:\u001b[0m invalid syntax\n"
     ]
    }
   ],
   "source": [
    "movie_length_sec ="
   ]
  },
  {
   "cell_type": "markdown",
   "id": "23c28c6a",
   "metadata": {},
   "source": [
    "## Face frames"
   ]
  },
  {
   "cell_type": "code",
   "execution_count": 33,
   "id": "a31101dd",
   "metadata": {},
   "outputs": [
    {
     "data": {
      "text/plain": [
       "687"
      ]
     },
     "execution_count": 33,
     "metadata": {},
     "output_type": "execute_result"
    }
   ],
   "source": [
    "face_frames = len(pd.unique(ace_ventura_df['frame_number']))\n",
    "face_frames"
   ]
  },
  {
   "cell_type": "markdown",
   "id": "3d671987",
   "metadata": {},
   "source": [
    "`??` 1 sec = 2 frames `??`"
   ]
  },
  {
   "cell_type": "code",
   "execution_count": 34,
   "id": "830dd5ad",
   "metadata": {},
   "outputs": [
    {
     "data": {
      "text/plain": [
       "343.5"
      ]
     },
     "execution_count": 34,
     "metadata": {},
     "output_type": "execute_result"
    }
   ],
   "source": [
    "face_frames_sec = face_frames / 2\n",
    "face_frames_sec"
   ]
  },
  {
   "cell_type": "markdown",
   "id": "20747f3d",
   "metadata": {},
   "source": [
    "# Total number"
   ]
  },
  {
   "cell_type": "markdown",
   "id": "99945623",
   "metadata": {},
   "source": [
    "## people"
   ]
  },
  {
   "cell_type": "markdown",
   "id": "71a411c6",
   "metadata": {},
   "source": [
    "`??` number of how many times a woman/men appears in frames != how many women/men are in the movie"
   ]
  },
  {
   "cell_type": "markdown",
   "id": "f3bd5b5a",
   "metadata": {},
   "source": [
    "### total number of women"
   ]
  },
  {
   "cell_type": "code",
   "execution_count": null,
   "id": "f2cf427d",
   "metadata": {},
   "outputs": [],
   "source": [
    "woman_df = ace_ventura_df[ace_ventura_df['gender']=='Woman']"
   ]
  },
  {
   "cell_type": "code",
   "execution_count": 48,
   "id": "9004aaa1",
   "metadata": {},
   "outputs": [
    {
     "data": {
      "text/plain": [
       "222"
      ]
     },
     "execution_count": 48,
     "metadata": {},
     "output_type": "execute_result"
    }
   ],
   "source": [
    "number_women = len(woman_df)\n",
    "number_women"
   ]
  },
  {
   "cell_type": "markdown",
   "id": "d68d718c",
   "metadata": {},
   "source": [
    "### total number of men"
   ]
  },
  {
   "cell_type": "code",
   "execution_count": 49,
   "id": "32936d5f",
   "metadata": {},
   "outputs": [],
   "source": [
    "man_df = ace_ventura_df[ace_ventura_df['gender']=='Man']"
   ]
  },
  {
   "cell_type": "code",
   "execution_count": 50,
   "id": "9256f748",
   "metadata": {},
   "outputs": [
    {
     "data": {
      "text/plain": [
       "954"
      ]
     },
     "execution_count": 50,
     "metadata": {},
     "output_type": "execute_result"
    }
   ],
   "source": [
    "number_men = len(man_df)\n",
    "number_men"
   ]
  },
  {
   "cell_type": "markdown",
   "id": "7392bd6b",
   "metadata": {},
   "source": [
    "## white"
   ]
  },
  {
   "cell_type": "markdown",
   "id": "dfc2d2ab",
   "metadata": {},
   "source": [
    "### number of women-white"
   ]
  },
  {
   "cell_type": "code",
   "execution_count": 60,
   "id": "4d6e1f50",
   "metadata": {},
   "outputs": [
    {
     "data": {
      "text/plain": [
       "race\n",
       "asian               10\n",
       "black                3\n",
       "indian               1\n",
       "latino hispanic     15\n",
       "middle eastern       8\n",
       "white              185\n",
       "Name: race, dtype: int64"
      ]
     },
     "execution_count": 60,
     "metadata": {},
     "output_type": "execute_result"
    }
   ],
   "source": [
    "woman_df.groupby('race')['race'].count()"
   ]
  },
  {
   "cell_type": "code",
   "execution_count": 63,
   "id": "26037371",
   "metadata": {},
   "outputs": [
    {
     "data": {
      "text/plain": [
       "185"
      ]
     },
     "execution_count": 63,
     "metadata": {},
     "output_type": "execute_result"
    }
   ],
   "source": [
    "women_white = woman_df.groupby('race')['race'].count()['white']\n",
    "women_white"
   ]
  },
  {
   "cell_type": "markdown",
   "id": "7d1c197a",
   "metadata": {},
   "source": [
    "### number of men-white"
   ]
  },
  {
   "cell_type": "code",
   "execution_count": 61,
   "id": "50d11584",
   "metadata": {},
   "outputs": [
    {
     "data": {
      "text/plain": [
       "race\n",
       "asian               93\n",
       "black               69\n",
       "indian               6\n",
       "latino hispanic     83\n",
       "middle eastern      88\n",
       "white              615\n",
       "Name: race, dtype: int64"
      ]
     },
     "execution_count": 61,
     "metadata": {},
     "output_type": "execute_result"
    }
   ],
   "source": [
    "man_df.groupby('race')['race'].count()"
   ]
  },
  {
   "cell_type": "code",
   "execution_count": 64,
   "id": "17c593ed",
   "metadata": {},
   "outputs": [
    {
     "data": {
      "text/plain": [
       "615"
      ]
     },
     "execution_count": 64,
     "metadata": {},
     "output_type": "execute_result"
    }
   ],
   "source": [
    "men_white = man_df.groupby('race')['race'].count()['white']\n",
    "men_white"
   ]
  },
  {
   "cell_type": "markdown",
   "id": "a6cf59f4",
   "metadata": {},
   "source": [
    "## latino"
   ]
  },
  {
   "cell_type": "markdown",
   "id": "5d26831c",
   "metadata": {},
   "source": [
    "### number of women-latino"
   ]
  },
  {
   "cell_type": "code",
   "execution_count": 66,
   "id": "e1a84687",
   "metadata": {},
   "outputs": [
    {
     "data": {
      "text/plain": [
       "15"
      ]
     },
     "execution_count": 66,
     "metadata": {},
     "output_type": "execute_result"
    }
   ],
   "source": [
    "women_latino = woman_df.groupby('race')['race'].count()['latino hispanic']\n",
    "women_latino"
   ]
  },
  {
   "cell_type": "markdown",
   "id": "403bdc42",
   "metadata": {},
   "source": [
    "### number of men-latino"
   ]
  },
  {
   "cell_type": "code",
   "execution_count": 67,
   "id": "6b43bd85",
   "metadata": {},
   "outputs": [
    {
     "data": {
      "text/plain": [
       "83"
      ]
     },
     "execution_count": 67,
     "metadata": {},
     "output_type": "execute_result"
    }
   ],
   "source": [
    "men_latino = man_df.groupby('race')['race'].count()['latino hispanic']\n",
    "men_latino"
   ]
  },
  {
   "cell_type": "markdown",
   "id": "d9d29cac",
   "metadata": {},
   "source": [
    "## black"
   ]
  },
  {
   "cell_type": "markdown",
   "id": "ed9205c0",
   "metadata": {},
   "source": [
    "### number of women-black"
   ]
  },
  {
   "cell_type": "code",
   "execution_count": 65,
   "id": "19a8be05",
   "metadata": {},
   "outputs": [
    {
     "data": {
      "text/plain": [
       "3"
      ]
     },
     "execution_count": 65,
     "metadata": {},
     "output_type": "execute_result"
    }
   ],
   "source": [
    "women_black = woman_df.groupby('race')['race'].count()['black']\n",
    "women_black"
   ]
  },
  {
   "cell_type": "markdown",
   "id": "3c241d06",
   "metadata": {},
   "source": [
    "### number of men-balck"
   ]
  },
  {
   "cell_type": "code",
   "execution_count": 68,
   "id": "0747053d",
   "metadata": {},
   "outputs": [
    {
     "data": {
      "text/plain": [
       "69"
      ]
     },
     "execution_count": 68,
     "metadata": {},
     "output_type": "execute_result"
    }
   ],
   "source": [
    "men_black = man_df.groupby('race')['race'].count()['black']\n",
    "men_black"
   ]
  },
  {
   "cell_type": "markdown",
   "id": "0b535c36",
   "metadata": {},
   "source": [
    "## asian"
   ]
  },
  {
   "cell_type": "markdown",
   "id": "ea87d8df",
   "metadata": {},
   "source": [
    "### number of women-asian"
   ]
  },
  {
   "cell_type": "code",
   "execution_count": 69,
   "id": "b3ac4910",
   "metadata": {},
   "outputs": [
    {
     "data": {
      "text/plain": [
       "10"
      ]
     },
     "execution_count": 69,
     "metadata": {},
     "output_type": "execute_result"
    }
   ],
   "source": [
    "women_asian = woman_df.groupby('race')['race'].count()['asian']\n",
    "women_asian"
   ]
  },
  {
   "cell_type": "markdown",
   "id": "a3733b61",
   "metadata": {},
   "source": [
    "### number of men-asian"
   ]
  },
  {
   "cell_type": "code",
   "execution_count": 70,
   "id": "8bc39dbf",
   "metadata": {},
   "outputs": [
    {
     "data": {
      "text/plain": [
       "93"
      ]
     },
     "execution_count": 70,
     "metadata": {},
     "output_type": "execute_result"
    }
   ],
   "source": [
    "men_asian = man_df.groupby('race')['race'].count()['asian']\n",
    "men_asian"
   ]
  },
  {
   "cell_type": "markdown",
   "id": "db0e6c5a",
   "metadata": {},
   "source": [
    "## indian"
   ]
  },
  {
   "cell_type": "markdown",
   "id": "0570d81c",
   "metadata": {},
   "source": [
    "### number of women-indian"
   ]
  },
  {
   "cell_type": "code",
   "execution_count": 71,
   "id": "cc8fab0e",
   "metadata": {},
   "outputs": [
    {
     "data": {
      "text/plain": [
       "1"
      ]
     },
     "execution_count": 71,
     "metadata": {},
     "output_type": "execute_result"
    }
   ],
   "source": [
    "women_indian = woman_df.groupby('race')['race'].count()['indian']\n",
    "women_indian"
   ]
  },
  {
   "cell_type": "markdown",
   "id": "9de43a95",
   "metadata": {},
   "source": [
    "### number of men-indian"
   ]
  },
  {
   "cell_type": "code",
   "execution_count": 72,
   "id": "62bf580d",
   "metadata": {},
   "outputs": [
    {
     "data": {
      "text/plain": [
       "6"
      ]
     },
     "execution_count": 72,
     "metadata": {},
     "output_type": "execute_result"
    }
   ],
   "source": [
    "men_indian = man_df.groupby('race')['race'].count()['indian']\n",
    "men_indian"
   ]
  },
  {
   "cell_type": "markdown",
   "id": "ec9d92cb",
   "metadata": {},
   "source": [
    "## non white"
   ]
  },
  {
   "cell_type": "markdown",
   "id": "d1d895f7",
   "metadata": {},
   "source": [
    "### number of women-non white"
   ]
  },
  {
   "cell_type": "code",
   "execution_count": 76,
   "id": "734372ae",
   "metadata": {},
   "outputs": [],
   "source": [
    "women_nonwhite = number_women-women_white"
   ]
  },
  {
   "cell_type": "markdown",
   "id": "51f25b66",
   "metadata": {},
   "source": [
    "### number of men-non white"
   ]
  },
  {
   "cell_type": "code",
   "execution_count": 75,
   "id": "c6d3996e",
   "metadata": {},
   "outputs": [],
   "source": [
    "men_nonwhite = number_men-men_white"
   ]
  },
  {
   "cell_type": "markdown",
   "id": "db5827d5",
   "metadata": {},
   "source": [
    "# Number of frames"
   ]
  },
  {
   "cell_type": "markdown",
   "id": "ea1e4d93",
   "metadata": {},
   "source": [
    "## number of frames with only women"
   ]
  },
  {
   "cell_type": "code",
   "execution_count": 37,
   "id": "77349497",
   "metadata": {},
   "outputs": [
    {
     "data": {
      "text/html": [
       "<div>\n",
       "<style scoped>\n",
       "    .dataframe tbody tr th:only-of-type {\n",
       "        vertical-align: middle;\n",
       "    }\n",
       "\n",
       "    .dataframe tbody tr th {\n",
       "        vertical-align: top;\n",
       "    }\n",
       "\n",
       "    .dataframe thead th {\n",
       "        text-align: right;\n",
       "    }\n",
       "</style>\n",
       "<table border=\"1\" class=\"dataframe\">\n",
       "  <thead>\n",
       "    <tr style=\"text-align: right;\">\n",
       "      <th></th>\n",
       "      <th>Unnamed: 0</th>\n",
       "      <th>frame_number</th>\n",
       "      <th>face_id</th>\n",
       "      <th>gender</th>\n",
       "      <th>race</th>\n",
       "    </tr>\n",
       "  </thead>\n",
       "  <tbody>\n",
       "    <tr>\n",
       "      <th>0</th>\n",
       "      <td>0</td>\n",
       "      <td>31.0</td>\n",
       "      <td>0.0</td>\n",
       "      <td>Man</td>\n",
       "      <td>white</td>\n",
       "    </tr>\n",
       "    <tr>\n",
       "      <th>1</th>\n",
       "      <td>0</td>\n",
       "      <td>51.0</td>\n",
       "      <td>1.0</td>\n",
       "      <td>Man</td>\n",
       "      <td>white</td>\n",
       "    </tr>\n",
       "    <tr>\n",
       "      <th>2</th>\n",
       "      <td>0</td>\n",
       "      <td>71.0</td>\n",
       "      <td>2.0</td>\n",
       "      <td>Man</td>\n",
       "      <td>black</td>\n",
       "    </tr>\n",
       "    <tr>\n",
       "      <th>3</th>\n",
       "      <td>0</td>\n",
       "      <td>91.0</td>\n",
       "      <td>3.0</td>\n",
       "      <td>Man</td>\n",
       "      <td>latino hispanic</td>\n",
       "    </tr>\n",
       "    <tr>\n",
       "      <th>4</th>\n",
       "      <td>0</td>\n",
       "      <td>101.0</td>\n",
       "      <td>4.0</td>\n",
       "      <td>Man</td>\n",
       "      <td>asian</td>\n",
       "    </tr>\n",
       "    <tr>\n",
       "      <th>...</th>\n",
       "      <td>...</td>\n",
       "      <td>...</td>\n",
       "      <td>...</td>\n",
       "      <td>...</td>\n",
       "      <td>...</td>\n",
       "    </tr>\n",
       "    <tr>\n",
       "      <th>1171</th>\n",
       "      <td>0</td>\n",
       "      <td>9741.0</td>\n",
       "      <td>1171.0</td>\n",
       "      <td>Man</td>\n",
       "      <td>black</td>\n",
       "    </tr>\n",
       "    <tr>\n",
       "      <th>1172</th>\n",
       "      <td>1</td>\n",
       "      <td>9741.0</td>\n",
       "      <td>1172.0</td>\n",
       "      <td>Man</td>\n",
       "      <td>black</td>\n",
       "    </tr>\n",
       "    <tr>\n",
       "      <th>1173</th>\n",
       "      <td>2</td>\n",
       "      <td>9741.0</td>\n",
       "      <td>1173.0</td>\n",
       "      <td>Woman</td>\n",
       "      <td>white</td>\n",
       "    </tr>\n",
       "    <tr>\n",
       "      <th>1174</th>\n",
       "      <td>0</td>\n",
       "      <td>9761.0</td>\n",
       "      <td>1174.0</td>\n",
       "      <td>Man</td>\n",
       "      <td>asian</td>\n",
       "    </tr>\n",
       "    <tr>\n",
       "      <th>1175</th>\n",
       "      <td>0</td>\n",
       "      <td>9771.0</td>\n",
       "      <td>1175.0</td>\n",
       "      <td>Man</td>\n",
       "      <td>white</td>\n",
       "    </tr>\n",
       "  </tbody>\n",
       "</table>\n",
       "<p>1176 rows × 5 columns</p>\n",
       "</div>"
      ],
      "text/plain": [
       "      Unnamed: 0  frame_number  face_id gender             race\n",
       "0              0          31.0      0.0    Man            white\n",
       "1              0          51.0      1.0    Man            white\n",
       "2              0          71.0      2.0    Man            black\n",
       "3              0          91.0      3.0    Man  latino hispanic\n",
       "4              0         101.0      4.0    Man            asian\n",
       "...          ...           ...      ...    ...              ...\n",
       "1171           0        9741.0   1171.0    Man            black\n",
       "1172           1        9741.0   1172.0    Man            black\n",
       "1173           2        9741.0   1173.0  Woman            white\n",
       "1174           0        9761.0   1174.0    Man            asian\n",
       "1175           0        9771.0   1175.0    Man            white\n",
       "\n",
       "[1176 rows x 5 columns]"
      ]
     },
     "execution_count": 37,
     "metadata": {},
     "output_type": "execute_result"
    }
   ],
   "source": [
    "ace_ventura_df"
   ]
  },
  {
   "cell_type": "markdown",
   "id": "1156c249",
   "metadata": {},
   "source": [
    "## number of frames with only men"
   ]
  },
  {
   "cell_type": "code",
   "execution_count": null,
   "id": "8ceaaea8",
   "metadata": {},
   "outputs": [],
   "source": []
  },
  {
   "cell_type": "markdown",
   "id": "e603922a",
   "metadata": {},
   "source": [
    "## number of frames with 2 or more woman"
   ]
  },
  {
   "cell_type": "code",
   "execution_count": null,
   "id": "9931720f",
   "metadata": {},
   "outputs": [],
   "source": []
  },
  {
   "cell_type": "markdown",
   "id": "de13cb0e",
   "metadata": {},
   "source": [
    "## number of frames with 2 or more men"
   ]
  },
  {
   "cell_type": "code",
   "execution_count": null,
   "id": "e9cd9e55",
   "metadata": {},
   "outputs": [],
   "source": []
  },
  {
   "cell_type": "markdown",
   "id": "25c6c606",
   "metadata": {},
   "source": [
    "# Average screentime"
   ]
  },
  {
   "cell_type": "markdown",
   "id": "dfcfe6aa",
   "metadata": {},
   "source": [
    "## Gender"
   ]
  },
  {
   "cell_type": "markdown",
   "id": "66a3a968",
   "metadata": {},
   "source": [
    "## Race"
   ]
  },
  {
   "cell_type": "code",
   "execution_count": null,
   "id": "a3bb63f6",
   "metadata": {},
   "outputs": [],
   "source": []
  }
 ],
 "metadata": {
  "kernelspec": {
   "display_name": "Python 3 (ipykernel)",
   "language": "python",
   "name": "python3"
  },
  "language_info": {
   "codemirror_mode": {
    "name": "ipython",
    "version": 3
   },
   "file_extension": ".py",
   "mimetype": "text/x-python",
   "name": "python",
   "nbconvert_exporter": "python",
   "pygments_lexer": "ipython3",
   "version": "3.8.12"
  },
  "toc": {
   "base_numbering": 1,
   "nav_menu": {},
   "number_sections": true,
   "sideBar": true,
   "skip_h1_title": false,
   "title_cell": "Table of Contents",
   "title_sidebar": "Contents",
   "toc_cell": false,
   "toc_position": {},
   "toc_section_display": true,
   "toc_window_display": false
  }
 },
 "nbformat": 4,
 "nbformat_minor": 5
}
