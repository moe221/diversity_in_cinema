{
 "cells": [
  {
   "cell_type": "code",
   "execution_count": 28,
   "id": "26e3c836",
   "metadata": {},
   "outputs": [],
   "source": [
    "import pandas as pd"
   ]
  },
  {
   "cell_type": "code",
   "execution_count": 29,
   "id": "0eadd636",
   "metadata": {},
   "outputs": [],
   "source": [
    "ace_ventura_df = pd.read_csv(\"https://raw.githubusercontent.com/moe221/diversity_in_cinema/moe221_prediction_pipeline/results/ace_ventura_results.csv\")"
   ]
  },
  {
   "cell_type": "code",
   "execution_count": 30,
   "id": "d066c062",
   "metadata": {},
   "outputs": [
    {
     "data": {
      "text/html": [
       "<div>\n",
       "<style scoped>\n",
       "    .dataframe tbody tr th:only-of-type {\n",
       "        vertical-align: middle;\n",
       "    }\n",
       "\n",
       "    .dataframe tbody tr th {\n",
       "        vertical-align: top;\n",
       "    }\n",
       "\n",
       "    .dataframe thead th {\n",
       "        text-align: right;\n",
       "    }\n",
       "</style>\n",
       "<table border=\"1\" class=\"dataframe\">\n",
       "  <thead>\n",
       "    <tr style=\"text-align: right;\">\n",
       "      <th></th>\n",
       "      <th>Unnamed: 0</th>\n",
       "      <th>frame_number</th>\n",
       "      <th>face_id</th>\n",
       "      <th>gender</th>\n",
       "      <th>race</th>\n",
       "    </tr>\n",
       "  </thead>\n",
       "  <tbody>\n",
       "    <tr>\n",
       "      <th>0</th>\n",
       "      <td>0</td>\n",
       "      <td>31.0</td>\n",
       "      <td>0.0</td>\n",
       "      <td>Man</td>\n",
       "      <td>white</td>\n",
       "    </tr>\n",
       "    <tr>\n",
       "      <th>1</th>\n",
       "      <td>0</td>\n",
       "      <td>51.0</td>\n",
       "      <td>1.0</td>\n",
       "      <td>Man</td>\n",
       "      <td>white</td>\n",
       "    </tr>\n",
       "    <tr>\n",
       "      <th>2</th>\n",
       "      <td>0</td>\n",
       "      <td>71.0</td>\n",
       "      <td>2.0</td>\n",
       "      <td>Man</td>\n",
       "      <td>black</td>\n",
       "    </tr>\n",
       "    <tr>\n",
       "      <th>3</th>\n",
       "      <td>0</td>\n",
       "      <td>91.0</td>\n",
       "      <td>3.0</td>\n",
       "      <td>Man</td>\n",
       "      <td>latino hispanic</td>\n",
       "    </tr>\n",
       "    <tr>\n",
       "      <th>4</th>\n",
       "      <td>0</td>\n",
       "      <td>101.0</td>\n",
       "      <td>4.0</td>\n",
       "      <td>Man</td>\n",
       "      <td>asian</td>\n",
       "    </tr>\n",
       "    <tr>\n",
       "      <th>...</th>\n",
       "      <td>...</td>\n",
       "      <td>...</td>\n",
       "      <td>...</td>\n",
       "      <td>...</td>\n",
       "      <td>...</td>\n",
       "    </tr>\n",
       "    <tr>\n",
       "      <th>1171</th>\n",
       "      <td>0</td>\n",
       "      <td>9741.0</td>\n",
       "      <td>1171.0</td>\n",
       "      <td>Man</td>\n",
       "      <td>black</td>\n",
       "    </tr>\n",
       "    <tr>\n",
       "      <th>1172</th>\n",
       "      <td>1</td>\n",
       "      <td>9741.0</td>\n",
       "      <td>1172.0</td>\n",
       "      <td>Man</td>\n",
       "      <td>black</td>\n",
       "    </tr>\n",
       "    <tr>\n",
       "      <th>1173</th>\n",
       "      <td>2</td>\n",
       "      <td>9741.0</td>\n",
       "      <td>1173.0</td>\n",
       "      <td>Woman</td>\n",
       "      <td>white</td>\n",
       "    </tr>\n",
       "    <tr>\n",
       "      <th>1174</th>\n",
       "      <td>0</td>\n",
       "      <td>9761.0</td>\n",
       "      <td>1174.0</td>\n",
       "      <td>Man</td>\n",
       "      <td>asian</td>\n",
       "    </tr>\n",
       "    <tr>\n",
       "      <th>1175</th>\n",
       "      <td>0</td>\n",
       "      <td>9771.0</td>\n",
       "      <td>1175.0</td>\n",
       "      <td>Man</td>\n",
       "      <td>white</td>\n",
       "    </tr>\n",
       "  </tbody>\n",
       "</table>\n",
       "<p>1176 rows × 5 columns</p>\n",
       "</div>"
      ],
      "text/plain": [
       "      Unnamed: 0  frame_number  face_id gender             race\n",
       "0              0          31.0      0.0    Man            white\n",
       "1              0          51.0      1.0    Man            white\n",
       "2              0          71.0      2.0    Man            black\n",
       "3              0          91.0      3.0    Man  latino hispanic\n",
       "4              0         101.0      4.0    Man            asian\n",
       "...          ...           ...      ...    ...              ...\n",
       "1171           0        9741.0   1171.0    Man            black\n",
       "1172           1        9741.0   1172.0    Man            black\n",
       "1173           2        9741.0   1173.0  Woman            white\n",
       "1174           0        9761.0   1174.0    Man            asian\n",
       "1175           0        9771.0   1175.0    Man            white\n",
       "\n",
       "[1176 rows x 5 columns]"
      ]
     },
     "execution_count": 30,
     "metadata": {},
     "output_type": "execute_result"
    }
   ],
   "source": [
    "ace_ventura_df"
   ]
  },
  {
   "cell_type": "code",
   "execution_count": 81,
   "id": "588fb9e1",
   "metadata": {},
   "outputs": [],
   "source": [
    "ace_ventura_df = ace_ventura_df.drop(columns=['Unnamed: 0'])"
   ]
  },
  {
   "cell_type": "markdown",
   "id": "e27a2a9b",
   "metadata": {},
   "source": [
    "# Movie data"
   ]
  },
  {
   "cell_type": "markdown",
   "id": "d9298506",
   "metadata": {},
   "source": [
    "## Movie length"
   ]
  },
  {
   "cell_type": "markdown",
   "id": "dcb04c5f",
   "metadata": {},
   "source": [
    "Movie in seconds"
   ]
  },
  {
   "cell_type": "code",
   "execution_count": 82,
   "id": "6bb8618a",
   "metadata": {},
   "outputs": [
    {
     "ename": "SyntaxError",
     "evalue": "invalid syntax (805390521.py, line 1)",
     "output_type": "error",
     "traceback": [
      "\u001b[0;36m  File \u001b[0;32m\"/var/folders/rr/_6cndbxd5336__5_jkqg_kmm0000gn/T/ipykernel_10545/805390521.py\"\u001b[0;36m, line \u001b[0;32m1\u001b[0m\n\u001b[0;31m    movie_length_sec =\u001b[0m\n\u001b[0m                      ^\u001b[0m\n\u001b[0;31mSyntaxError\u001b[0m\u001b[0;31m:\u001b[0m invalid syntax\n"
     ]
    }
   ],
   "source": [
    "movie_length_sec ="
   ]
  },
  {
   "cell_type": "markdown",
   "id": "3bb39aad",
   "metadata": {},
   "source": [
    "## Face frames"
   ]
  },
  {
   "cell_type": "code",
   "execution_count": 83,
   "id": "018ea106",
   "metadata": {},
   "outputs": [
    {
     "data": {
      "text/plain": [
       "687"
      ]
     },
     "execution_count": 83,
     "metadata": {},
     "output_type": "execute_result"
    }
   ],
   "source": [
    "face_frames = len(pd.unique(ace_ventura_df['frame_number']))\n",
    "face_frames"
   ]
  },
  {
   "cell_type": "markdown",
   "id": "ea5f0501",
   "metadata": {},
   "source": [
    "`??` 1 sec = 2 frames `??`"
   ]
  },
  {
   "cell_type": "code",
   "execution_count": 84,
   "id": "52a39b18",
   "metadata": {},
   "outputs": [
    {
     "data": {
      "text/plain": [
       "343.5"
      ]
     },
     "execution_count": 84,
     "metadata": {},
     "output_type": "execute_result"
    }
   ],
   "source": [
    "face_frames_sec = face_frames / 2\n",
    "face_frames_sec"
   ]
  },
  {
   "cell_type": "markdown",
   "id": "8bfba082",
   "metadata": {},
   "source": [
    "# Total number"
   ]
  },
  {
   "cell_type": "markdown",
   "id": "1c06f7ea",
   "metadata": {},
   "source": [
    "## people"
   ]
  },
  {
   "cell_type": "markdown",
   "id": "be1fa620",
   "metadata": {},
   "source": [
    "`??` number of how many times a woman/men appears in frames != how many women/men are in the movie"
   ]
  },
  {
   "cell_type": "markdown",
   "id": "f9350baa",
   "metadata": {},
   "source": [
    "### total number of women"
   ]
  },
  {
   "cell_type": "code",
   "execution_count": 85,
   "id": "b0684baf",
   "metadata": {},
   "outputs": [],
   "source": [
    "woman_df = ace_ventura_df[ace_ventura_df['gender']=='Woman']"
   ]
  },
  {
   "cell_type": "code",
   "execution_count": 86,
   "id": "f8a43667",
   "metadata": {},
   "outputs": [
    {
     "data": {
      "text/plain": [
       "222"
      ]
     },
     "execution_count": 86,
     "metadata": {},
     "output_type": "execute_result"
    }
   ],
   "source": [
    "number_women = len(woman_df)\n",
    "number_women"
   ]
  },
  {
   "cell_type": "markdown",
   "id": "43305714",
   "metadata": {},
   "source": [
    "### total number of men"
   ]
  },
  {
   "cell_type": "code",
   "execution_count": 87,
   "id": "23ed541e",
   "metadata": {},
   "outputs": [],
   "source": [
    "man_df = ace_ventura_df[ace_ventura_df['gender']=='Man']"
   ]
  },
  {
   "cell_type": "code",
   "execution_count": 88,
   "id": "33ce3910",
   "metadata": {},
   "outputs": [
    {
     "data": {
      "text/plain": [
       "954"
      ]
     },
     "execution_count": 88,
     "metadata": {},
     "output_type": "execute_result"
    }
   ],
   "source": [
    "number_men = len(man_df)\n",
    "number_men"
   ]
  },
  {
   "cell_type": "markdown",
   "id": "f1a286e9",
   "metadata": {},
   "source": [
    "## white"
   ]
  },
  {
   "cell_type": "markdown",
   "id": "92c94d69",
   "metadata": {},
   "source": [
    "### number of women-white"
   ]
  },
  {
   "cell_type": "code",
   "execution_count": 89,
   "id": "b615bb13",
   "metadata": {},
   "outputs": [
    {
     "data": {
      "text/plain": [
       "race\n",
       "asian               10\n",
       "black                3\n",
       "indian               1\n",
       "latino hispanic     15\n",
       "middle eastern       8\n",
       "white              185\n",
       "Name: race, dtype: int64"
      ]
     },
     "execution_count": 89,
     "metadata": {},
     "output_type": "execute_result"
    }
   ],
   "source": [
    "woman_df.groupby('race')['race'].count()"
   ]
  },
  {
   "cell_type": "code",
   "execution_count": 90,
   "id": "f7ee0264",
   "metadata": {},
   "outputs": [
    {
     "data": {
      "text/plain": [
       "185"
      ]
     },
     "execution_count": 90,
     "metadata": {},
     "output_type": "execute_result"
    }
   ],
   "source": [
    "women_white = woman_df.groupby('race')['race'].count()['white']\n",
    "women_white"
   ]
  },
  {
   "cell_type": "markdown",
   "id": "8150cd5b",
   "metadata": {},
   "source": [
    "### number of men-white"
   ]
  },
  {
   "cell_type": "code",
   "execution_count": 91,
   "id": "d9a98a24",
   "metadata": {},
   "outputs": [
    {
     "data": {
      "text/plain": [
       "race\n",
       "asian               93\n",
       "black               69\n",
       "indian               6\n",
       "latino hispanic     83\n",
       "middle eastern      88\n",
       "white              615\n",
       "Name: race, dtype: int64"
      ]
     },
     "execution_count": 91,
     "metadata": {},
     "output_type": "execute_result"
    }
   ],
   "source": [
    "man_df.groupby('race')['race'].count()"
   ]
  },
  {
   "cell_type": "code",
   "execution_count": 92,
   "id": "c4bb3426",
   "metadata": {},
   "outputs": [
    {
     "data": {
      "text/plain": [
       "615"
      ]
     },
     "execution_count": 92,
     "metadata": {},
     "output_type": "execute_result"
    }
   ],
   "source": [
    "men_white = man_df.groupby('race')['race'].count()['white']\n",
    "men_white"
   ]
  },
  {
   "cell_type": "markdown",
   "id": "f374a4c5",
   "metadata": {},
   "source": [
    "## latino"
   ]
  },
  {
   "cell_type": "markdown",
   "id": "46d775d9",
   "metadata": {},
   "source": [
    "### number of women-latino"
   ]
  },
  {
   "cell_type": "code",
   "execution_count": 93,
   "id": "4b6abac4",
   "metadata": {},
   "outputs": [
    {
     "data": {
      "text/plain": [
       "15"
      ]
     },
     "execution_count": 93,
     "metadata": {},
     "output_type": "execute_result"
    }
   ],
   "source": [
    "women_latino = woman_df.groupby('race')['race'].count()['latino hispanic']\n",
    "women_latino"
   ]
  },
  {
   "cell_type": "markdown",
   "id": "e6860975",
   "metadata": {},
   "source": [
    "### number of men-latino"
   ]
  },
  {
   "cell_type": "code",
   "execution_count": 94,
   "id": "4900db43",
   "metadata": {},
   "outputs": [
    {
     "data": {
      "text/plain": [
       "83"
      ]
     },
     "execution_count": 94,
     "metadata": {},
     "output_type": "execute_result"
    }
   ],
   "source": [
    "men_latino = man_df.groupby('race')['race'].count()['latino hispanic']\n",
    "men_latino"
   ]
  },
  {
   "cell_type": "markdown",
   "id": "38fc7a6b",
   "metadata": {},
   "source": [
    "## black"
   ]
  },
  {
   "cell_type": "markdown",
   "id": "69d9e11a",
   "metadata": {},
   "source": [
    "### number of women-black"
   ]
  },
  {
   "cell_type": "code",
   "execution_count": 95,
   "id": "fb2c56f6",
   "metadata": {},
   "outputs": [
    {
     "data": {
      "text/plain": [
       "3"
      ]
     },
     "execution_count": 95,
     "metadata": {},
     "output_type": "execute_result"
    }
   ],
   "source": [
    "women_black = woman_df.groupby('race')['race'].count()['black']\n",
    "women_black"
   ]
  },
  {
   "cell_type": "markdown",
   "id": "2aeba222",
   "metadata": {},
   "source": [
    "### number of men-balck"
   ]
  },
  {
   "cell_type": "code",
   "execution_count": 96,
   "id": "19a28dbd",
   "metadata": {},
   "outputs": [
    {
     "data": {
      "text/plain": [
       "69"
      ]
     },
     "execution_count": 96,
     "metadata": {},
     "output_type": "execute_result"
    }
   ],
   "source": [
    "men_black = man_df.groupby('race')['race'].count()['black']\n",
    "men_black"
   ]
  },
  {
   "cell_type": "markdown",
   "id": "b40f0d2a",
   "metadata": {},
   "source": [
    "## asian"
   ]
  },
  {
   "cell_type": "markdown",
   "id": "1126d52d",
   "metadata": {},
   "source": [
    "### number of women-asian"
   ]
  },
  {
   "cell_type": "code",
   "execution_count": 97,
   "id": "59f482b5",
   "metadata": {},
   "outputs": [
    {
     "data": {
      "text/plain": [
       "10"
      ]
     },
     "execution_count": 97,
     "metadata": {},
     "output_type": "execute_result"
    }
   ],
   "source": [
    "women_asian = woman_df.groupby('race')['race'].count()['asian']\n",
    "women_asian"
   ]
  },
  {
   "cell_type": "markdown",
   "id": "6cb9134e",
   "metadata": {},
   "source": [
    "### number of men-asian"
   ]
  },
  {
   "cell_type": "code",
   "execution_count": 98,
   "id": "c5d95819",
   "metadata": {},
   "outputs": [
    {
     "data": {
      "text/plain": [
       "93"
      ]
     },
     "execution_count": 98,
     "metadata": {},
     "output_type": "execute_result"
    }
   ],
   "source": [
    "men_asian = man_df.groupby('race')['race'].count()['asian']\n",
    "men_asian"
   ]
  },
  {
   "cell_type": "markdown",
   "id": "2fd711d1",
   "metadata": {},
   "source": [
    "## indian"
   ]
  },
  {
   "cell_type": "markdown",
   "id": "d80341e5",
   "metadata": {},
   "source": [
    "### number of women-indian"
   ]
  },
  {
   "cell_type": "code",
   "execution_count": 99,
   "id": "d7976965",
   "metadata": {},
   "outputs": [
    {
     "data": {
      "text/plain": [
       "1"
      ]
     },
     "execution_count": 99,
     "metadata": {},
     "output_type": "execute_result"
    }
   ],
   "source": [
    "women_indian = woman_df.groupby('race')['race'].count()['indian']\n",
    "women_indian"
   ]
  },
  {
   "cell_type": "markdown",
   "id": "c4fb8d19",
   "metadata": {},
   "source": [
    "### number of men-indian"
   ]
  },
  {
   "cell_type": "code",
   "execution_count": 100,
   "id": "d7072e68",
   "metadata": {},
   "outputs": [
    {
     "data": {
      "text/plain": [
       "6"
      ]
     },
     "execution_count": 100,
     "metadata": {},
     "output_type": "execute_result"
    }
   ],
   "source": [
    "men_indian = man_df.groupby('race')['race'].count()['indian']\n",
    "men_indian"
   ]
  },
  {
   "cell_type": "markdown",
   "id": "c8597636",
   "metadata": {},
   "source": [
    "## non white"
   ]
  },
  {
   "cell_type": "markdown",
   "id": "5063033c",
   "metadata": {},
   "source": [
    "### number of women-non white"
   ]
  },
  {
   "cell_type": "code",
   "execution_count": 101,
   "id": "b1ada946",
   "metadata": {},
   "outputs": [],
   "source": [
    "women_nonwhite = number_women-women_white"
   ]
  },
  {
   "cell_type": "markdown",
   "id": "ef9abbb1",
   "metadata": {},
   "source": [
    "### number of men-non white"
   ]
  },
  {
   "cell_type": "code",
   "execution_count": 102,
   "id": "3c6d7093",
   "metadata": {},
   "outputs": [],
   "source": [
    "men_nonwhite = number_men-men_white"
   ]
  },
  {
   "cell_type": "markdown",
   "id": "48918951",
   "metadata": {},
   "source": [
    "# Number of frames"
   ]
  },
  {
   "cell_type": "markdown",
   "id": "e1a1d8c6",
   "metadata": {},
   "source": [
    "## number of frames with only women"
   ]
  },
  {
   "cell_type": "code",
   "execution_count": 103,
   "id": "c101133f",
   "metadata": {},
   "outputs": [
    {
     "data": {
      "text/html": [
       "<div>\n",
       "<style scoped>\n",
       "    .dataframe tbody tr th:only-of-type {\n",
       "        vertical-align: middle;\n",
       "    }\n",
       "\n",
       "    .dataframe tbody tr th {\n",
       "        vertical-align: top;\n",
       "    }\n",
       "\n",
       "    .dataframe thead th {\n",
       "        text-align: right;\n",
       "    }\n",
       "</style>\n",
       "<table border=\"1\" class=\"dataframe\">\n",
       "  <thead>\n",
       "    <tr style=\"text-align: right;\">\n",
       "      <th></th>\n",
       "      <th>frame_number</th>\n",
       "      <th>face_id</th>\n",
       "      <th>gender</th>\n",
       "      <th>race</th>\n",
       "    </tr>\n",
       "  </thead>\n",
       "  <tbody>\n",
       "    <tr>\n",
       "      <th>0</th>\n",
       "      <td>31.0</td>\n",
       "      <td>0.0</td>\n",
       "      <td>Man</td>\n",
       "      <td>white</td>\n",
       "    </tr>\n",
       "    <tr>\n",
       "      <th>1</th>\n",
       "      <td>51.0</td>\n",
       "      <td>1.0</td>\n",
       "      <td>Man</td>\n",
       "      <td>white</td>\n",
       "    </tr>\n",
       "    <tr>\n",
       "      <th>2</th>\n",
       "      <td>71.0</td>\n",
       "      <td>2.0</td>\n",
       "      <td>Man</td>\n",
       "      <td>black</td>\n",
       "    </tr>\n",
       "    <tr>\n",
       "      <th>3</th>\n",
       "      <td>91.0</td>\n",
       "      <td>3.0</td>\n",
       "      <td>Man</td>\n",
       "      <td>latino hispanic</td>\n",
       "    </tr>\n",
       "    <tr>\n",
       "      <th>4</th>\n",
       "      <td>101.0</td>\n",
       "      <td>4.0</td>\n",
       "      <td>Man</td>\n",
       "      <td>asian</td>\n",
       "    </tr>\n",
       "    <tr>\n",
       "      <th>...</th>\n",
       "      <td>...</td>\n",
       "      <td>...</td>\n",
       "      <td>...</td>\n",
       "      <td>...</td>\n",
       "    </tr>\n",
       "    <tr>\n",
       "      <th>1171</th>\n",
       "      <td>9741.0</td>\n",
       "      <td>1171.0</td>\n",
       "      <td>Man</td>\n",
       "      <td>black</td>\n",
       "    </tr>\n",
       "    <tr>\n",
       "      <th>1172</th>\n",
       "      <td>9741.0</td>\n",
       "      <td>1172.0</td>\n",
       "      <td>Man</td>\n",
       "      <td>black</td>\n",
       "    </tr>\n",
       "    <tr>\n",
       "      <th>1173</th>\n",
       "      <td>9741.0</td>\n",
       "      <td>1173.0</td>\n",
       "      <td>Woman</td>\n",
       "      <td>white</td>\n",
       "    </tr>\n",
       "    <tr>\n",
       "      <th>1174</th>\n",
       "      <td>9761.0</td>\n",
       "      <td>1174.0</td>\n",
       "      <td>Man</td>\n",
       "      <td>asian</td>\n",
       "    </tr>\n",
       "    <tr>\n",
       "      <th>1175</th>\n",
       "      <td>9771.0</td>\n",
       "      <td>1175.0</td>\n",
       "      <td>Man</td>\n",
       "      <td>white</td>\n",
       "    </tr>\n",
       "  </tbody>\n",
       "</table>\n",
       "<p>1176 rows × 4 columns</p>\n",
       "</div>"
      ],
      "text/plain": [
       "      frame_number  face_id gender             race\n",
       "0             31.0      0.0    Man            white\n",
       "1             51.0      1.0    Man            white\n",
       "2             71.0      2.0    Man            black\n",
       "3             91.0      3.0    Man  latino hispanic\n",
       "4            101.0      4.0    Man            asian\n",
       "...            ...      ...    ...              ...\n",
       "1171        9741.0   1171.0    Man            black\n",
       "1172        9741.0   1172.0    Man            black\n",
       "1173        9741.0   1173.0  Woman            white\n",
       "1174        9761.0   1174.0    Man            asian\n",
       "1175        9771.0   1175.0    Man            white\n",
       "\n",
       "[1176 rows x 4 columns]"
      ]
     },
     "execution_count": 103,
     "metadata": {},
     "output_type": "execute_result"
    }
   ],
   "source": [
    "ace_ventura_df"
   ]
  },
  {
   "cell_type": "code",
   "execution_count": 105,
   "id": "59828902",
   "metadata": {},
   "outputs": [
    {
     "data": {
      "text/plain": [
       "frame_number\n",
       "31.0      1\n",
       "51.0      1\n",
       "71.0      1\n",
       "91.0      1\n",
       "101.0     1\n",
       "         ..\n",
       "9711.0    1\n",
       "9731.0    2\n",
       "9741.0    2\n",
       "9761.0    1\n",
       "9771.0    1\n",
       "Name: gender, Length: 687, dtype: int64"
      ]
     },
     "execution_count": 105,
     "metadata": {},
     "output_type": "execute_result"
    }
   ],
   "source": [
    "ace_ventura_df.groupby('frame_number')['gender'].nunique()"
   ]
  },
  {
   "cell_type": "markdown",
   "id": "fdc39b20",
   "metadata": {},
   "source": [
    "## number of frames with only men"
   ]
  },
  {
   "cell_type": "code",
   "execution_count": null,
   "id": "7863e5e7",
   "metadata": {},
   "outputs": [],
   "source": []
  },
  {
   "cell_type": "markdown",
   "id": "986cab6c",
   "metadata": {},
   "source": [
    "## number of frames with 2 or more woman"
   ]
  },
  {
   "cell_type": "code",
   "execution_count": null,
   "id": "c006a9c1",
   "metadata": {},
   "outputs": [],
   "source": []
  },
  {
   "cell_type": "markdown",
   "id": "208c556a",
   "metadata": {},
   "source": [
    "## number of frames with 2 or more men"
   ]
  },
  {
   "cell_type": "code",
   "execution_count": null,
   "id": "105735cf",
   "metadata": {},
   "outputs": [],
   "source": []
  },
  {
   "cell_type": "markdown",
   "id": "525d471b",
   "metadata": {},
   "source": [
    "# Average screentime"
   ]
  },
  {
   "cell_type": "markdown",
   "id": "74d6c9c5",
   "metadata": {},
   "source": [
    "## Gender"
   ]
  },
  {
   "cell_type": "markdown",
   "id": "7d9334dc",
   "metadata": {},
   "source": [
    "## Race"
   ]
  },
  {
   "cell_type": "code",
   "execution_count": null,
   "id": "a8210a65",
   "metadata": {},
   "outputs": [],
   "source": []
  }
 ],
 "metadata": {
  "kernelspec": {
   "display_name": "Python 3 (ipykernel)",
   "language": "python",
   "name": "python3"
  },
  "language_info": {
   "codemirror_mode": {
    "name": "ipython",
    "version": 3
   },
   "file_extension": ".py",
   "mimetype": "text/x-python",
   "name": "python",
   "nbconvert_exporter": "python",
   "pygments_lexer": "ipython3",
   "version": "3.8.12"
  },
  "toc": {
   "base_numbering": 1,
   "nav_menu": {},
   "number_sections": true,
   "sideBar": true,
   "skip_h1_title": false,
   "title_cell": "Table of Contents",
   "title_sidebar": "Contents",
   "toc_cell": false,
   "toc_position": {},
   "toc_section_display": true,
   "toc_window_display": false
  }
 },
 "nbformat": 4,
 "nbformat_minor": 5
}
