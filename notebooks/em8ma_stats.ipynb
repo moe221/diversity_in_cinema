{
 "cells": [
  {
   "cell_type": "code",
   "execution_count": 14,
   "id": "ffab68d9",
   "metadata": {},
   "outputs": [],
   "source": [
    "import pandas as pd\n",
    "import numpy as np\n",
    "from functools import reduce"
   ]
  },
  {
   "cell_type": "code",
   "execution_count": 15,
   "id": "0f736bb4",
   "metadata": {},
   "outputs": [],
   "source": [
    "csv_file = \"output_Air Bud Seventh Inning Fetch (2002).csv\"\n",
    "csv_file_ace_ventura = \"https://raw.githubusercontent.com/moe221/diversity_in_cinema/moe221_prediction_pipeline/results/ace_ventura_results.csv\"\n",
    "csv_file_A_team = \"output_The A-Team (2010).csv\""
   ]
  },
  {
   "cell_type": "code",
   "execution_count": 16,
   "id": "4dea6e28",
   "metadata": {},
   "outputs": [],
   "source": [
    "df_movie = pd.read_csv(csv_file)"
   ]
  },
  {
   "cell_type": "code",
   "execution_count": 17,
   "id": "4683eef5",
   "metadata": {},
   "outputs": [
    {
     "data": {
      "text/html": [
       "<div>\n",
       "<style scoped>\n",
       "    .dataframe tbody tr th:only-of-type {\n",
       "        vertical-align: middle;\n",
       "    }\n",
       "\n",
       "    .dataframe tbody tr th {\n",
       "        vertical-align: top;\n",
       "    }\n",
       "\n",
       "    .dataframe thead th {\n",
       "        text-align: right;\n",
       "    }\n",
       "</style>\n",
       "<table border=\"1\" class=\"dataframe\">\n",
       "  <thead>\n",
       "    <tr style=\"text-align: right;\">\n",
       "      <th></th>\n",
       "      <th>Unnamed: 0</th>\n",
       "      <th>frame_number</th>\n",
       "      <th>face_id</th>\n",
       "      <th>gender</th>\n",
       "      <th>race</th>\n",
       "    </tr>\n",
       "  </thead>\n",
       "  <tbody>\n",
       "    <tr>\n",
       "      <th>0</th>\n",
       "      <td>0</td>\n",
       "      <td>201</td>\n",
       "      <td>0.0</td>\n",
       "      <td>Man</td>\n",
       "      <td>black</td>\n",
       "    </tr>\n",
       "    <tr>\n",
       "      <th>1</th>\n",
       "      <td>1</td>\n",
       "      <td>201</td>\n",
       "      <td>1.0</td>\n",
       "      <td>Man</td>\n",
       "      <td>white</td>\n",
       "    </tr>\n",
       "    <tr>\n",
       "      <th>2</th>\n",
       "      <td>0</td>\n",
       "      <td>437</td>\n",
       "      <td>2.0</td>\n",
       "      <td>Man</td>\n",
       "      <td>white</td>\n",
       "    </tr>\n",
       "    <tr>\n",
       "      <th>3</th>\n",
       "      <td>1</td>\n",
       "      <td>437</td>\n",
       "      <td>3.0</td>\n",
       "      <td>Woman</td>\n",
       "      <td>white</td>\n",
       "    </tr>\n",
       "    <tr>\n",
       "      <th>4</th>\n",
       "      <td>2</td>\n",
       "      <td>437</td>\n",
       "      <td>4.0</td>\n",
       "      <td>Man</td>\n",
       "      <td>latino hispanic</td>\n",
       "    </tr>\n",
       "    <tr>\n",
       "      <th>...</th>\n",
       "      <td>...</td>\n",
       "      <td>...</td>\n",
       "      <td>...</td>\n",
       "      <td>...</td>\n",
       "      <td>...</td>\n",
       "    </tr>\n",
       "    <tr>\n",
       "      <th>104</th>\n",
       "      <td>0</td>\n",
       "      <td>10181</td>\n",
       "      <td>104.0</td>\n",
       "      <td>Man</td>\n",
       "      <td>white</td>\n",
       "    </tr>\n",
       "    <tr>\n",
       "      <th>105</th>\n",
       "      <td>0</td>\n",
       "      <td>10201</td>\n",
       "      <td>105.0</td>\n",
       "      <td>Woman</td>\n",
       "      <td>white</td>\n",
       "    </tr>\n",
       "    <tr>\n",
       "      <th>106</th>\n",
       "      <td>0</td>\n",
       "      <td>10349</td>\n",
       "      <td>106.0</td>\n",
       "      <td>Man</td>\n",
       "      <td>white</td>\n",
       "    </tr>\n",
       "    <tr>\n",
       "      <th>107</th>\n",
       "      <td>0</td>\n",
       "      <td>10401</td>\n",
       "      <td>107.0</td>\n",
       "      <td>Man</td>\n",
       "      <td>black</td>\n",
       "    </tr>\n",
       "    <tr>\n",
       "      <th>108</th>\n",
       "      <td>0</td>\n",
       "      <td>10477</td>\n",
       "      <td>108.0</td>\n",
       "      <td>Man</td>\n",
       "      <td>white</td>\n",
       "    </tr>\n",
       "  </tbody>\n",
       "</table>\n",
       "<p>109 rows × 5 columns</p>\n",
       "</div>"
      ],
      "text/plain": [
       "     Unnamed: 0  frame_number  face_id gender             race\n",
       "0             0           201      0.0    Man            black\n",
       "1             1           201      1.0    Man            white\n",
       "2             0           437      2.0    Man            white\n",
       "3             1           437      3.0  Woman            white\n",
       "4             2           437      4.0    Man  latino hispanic\n",
       "..          ...           ...      ...    ...              ...\n",
       "104           0         10181    104.0    Man            white\n",
       "105           0         10201    105.0  Woman            white\n",
       "106           0         10349    106.0    Man            white\n",
       "107           0         10401    107.0    Man            black\n",
       "108           0         10477    108.0    Man            white\n",
       "\n",
       "[109 rows x 5 columns]"
      ]
     },
     "execution_count": 17,
     "metadata": {},
     "output_type": "execute_result"
    }
   ],
   "source": [
    "df_movie"
   ]
  },
  {
   "cell_type": "code",
   "execution_count": 18,
   "id": "dd77d7bd",
   "metadata": {},
   "outputs": [
    {
     "data": {
      "text/html": [
       "<div>\n",
       "<style scoped>\n",
       "    .dataframe tbody tr th:only-of-type {\n",
       "        vertical-align: middle;\n",
       "    }\n",
       "\n",
       "    .dataframe tbody tr th {\n",
       "        vertical-align: top;\n",
       "    }\n",
       "\n",
       "    .dataframe thead th {\n",
       "        text-align: right;\n",
       "    }\n",
       "</style>\n",
       "<table border=\"1\" class=\"dataframe\">\n",
       "  <thead>\n",
       "    <tr style=\"text-align: right;\">\n",
       "      <th></th>\n",
       "      <th>frame_number</th>\n",
       "      <th>face_id</th>\n",
       "      <th>gender</th>\n",
       "      <th>race</th>\n",
       "    </tr>\n",
       "  </thead>\n",
       "  <tbody>\n",
       "    <tr>\n",
       "      <th>0</th>\n",
       "      <td>201</td>\n",
       "      <td>0.0</td>\n",
       "      <td>Man</td>\n",
       "      <td>black</td>\n",
       "    </tr>\n",
       "    <tr>\n",
       "      <th>1</th>\n",
       "      <td>201</td>\n",
       "      <td>1.0</td>\n",
       "      <td>Man</td>\n",
       "      <td>white</td>\n",
       "    </tr>\n",
       "    <tr>\n",
       "      <th>2</th>\n",
       "      <td>437</td>\n",
       "      <td>2.0</td>\n",
       "      <td>Man</td>\n",
       "      <td>white</td>\n",
       "    </tr>\n",
       "    <tr>\n",
       "      <th>3</th>\n",
       "      <td>437</td>\n",
       "      <td>3.0</td>\n",
       "      <td>Woman</td>\n",
       "      <td>white</td>\n",
       "    </tr>\n",
       "    <tr>\n",
       "      <th>4</th>\n",
       "      <td>437</td>\n",
       "      <td>4.0</td>\n",
       "      <td>Man</td>\n",
       "      <td>latino hispanic</td>\n",
       "    </tr>\n",
       "    <tr>\n",
       "      <th>...</th>\n",
       "      <td>...</td>\n",
       "      <td>...</td>\n",
       "      <td>...</td>\n",
       "      <td>...</td>\n",
       "    </tr>\n",
       "    <tr>\n",
       "      <th>104</th>\n",
       "      <td>10181</td>\n",
       "      <td>104.0</td>\n",
       "      <td>Man</td>\n",
       "      <td>white</td>\n",
       "    </tr>\n",
       "    <tr>\n",
       "      <th>105</th>\n",
       "      <td>10201</td>\n",
       "      <td>105.0</td>\n",
       "      <td>Woman</td>\n",
       "      <td>white</td>\n",
       "    </tr>\n",
       "    <tr>\n",
       "      <th>106</th>\n",
       "      <td>10349</td>\n",
       "      <td>106.0</td>\n",
       "      <td>Man</td>\n",
       "      <td>white</td>\n",
       "    </tr>\n",
       "    <tr>\n",
       "      <th>107</th>\n",
       "      <td>10401</td>\n",
       "      <td>107.0</td>\n",
       "      <td>Man</td>\n",
       "      <td>black</td>\n",
       "    </tr>\n",
       "    <tr>\n",
       "      <th>108</th>\n",
       "      <td>10477</td>\n",
       "      <td>108.0</td>\n",
       "      <td>Man</td>\n",
       "      <td>white</td>\n",
       "    </tr>\n",
       "  </tbody>\n",
       "</table>\n",
       "<p>109 rows × 4 columns</p>\n",
       "</div>"
      ],
      "text/plain": [
       "     frame_number  face_id gender             race\n",
       "0             201      0.0    Man            black\n",
       "1             201      1.0    Man            white\n",
       "2             437      2.0    Man            white\n",
       "3             437      3.0  Woman            white\n",
       "4             437      4.0    Man  latino hispanic\n",
       "..            ...      ...    ...              ...\n",
       "104         10181    104.0    Man            white\n",
       "105         10201    105.0  Woman            white\n",
       "106         10349    106.0    Man            white\n",
       "107         10401    107.0    Man            black\n",
       "108         10477    108.0    Man            white\n",
       "\n",
       "[109 rows x 4 columns]"
      ]
     },
     "execution_count": 18,
     "metadata": {},
     "output_type": "execute_result"
    }
   ],
   "source": [
    "df_movie = df_movie.drop(columns=['Unnamed: 0'])\n",
    "df_movie"
   ]
  },
  {
   "cell_type": "markdown",
   "id": "c0533af8",
   "metadata": {},
   "source": [
    "# Movie data"
   ]
  },
  {
   "cell_type": "markdown",
   "id": "70c9b967",
   "metadata": {},
   "source": [
    "## Movie length"
   ]
  },
  {
   "cell_type": "markdown",
   "id": "4408252c",
   "metadata": {},
   "source": [
    "Movie in seconds, not sure if needed at all"
   ]
  },
  {
   "cell_type": "code",
   "execution_count": null,
   "id": "8870a3b9",
   "metadata": {},
   "outputs": [],
   "source": []
  },
  {
   "cell_type": "markdown",
   "id": "c602975b",
   "metadata": {},
   "source": [
    "Number of genders and races"
   ]
  },
  {
   "cell_type": "code",
   "execution_count": 36,
   "id": "91ddfb5e",
   "metadata": {},
   "outputs": [
    {
     "data": {
      "text/plain": [
       "array(['Man', 'Woman'], dtype=object)"
      ]
     },
     "execution_count": 36,
     "metadata": {},
     "output_type": "execute_result"
    }
   ],
   "source": [
    "gender_number = pd.unique(df_movie['gender'])\n",
    "gender_number"
   ]
  },
  {
   "cell_type": "code",
   "execution_count": 38,
   "id": "4a2b2ce8",
   "metadata": {},
   "outputs": [
    {
     "data": {
      "text/plain": [
       "'Man'"
      ]
     },
     "execution_count": 38,
     "metadata": {},
     "output_type": "execute_result"
    }
   ],
   "source": [
    "gender_number[0]"
   ]
  },
  {
   "cell_type": "code",
   "execution_count": 37,
   "id": "4484ae7f",
   "metadata": {},
   "outputs": [
    {
     "data": {
      "text/plain": [
       "array(['black', 'white', 'latino hispanic', 'asian', 'indian',\n",
       "       'middle eastern'], dtype=object)"
      ]
     },
     "execution_count": 37,
     "metadata": {},
     "output_type": "execute_result"
    }
   ],
   "source": [
    "race_number = pd.unique(df_movie['race'])\n",
    "race_number"
   ]
  },
  {
   "cell_type": "markdown",
   "id": "4b2ff850",
   "metadata": {},
   "source": [
    "## Face frames"
   ]
  },
  {
   "cell_type": "code",
   "execution_count": 20,
   "id": "d487e1e5",
   "metadata": {},
   "outputs": [
    {
     "data": {
      "text/plain": [
       "66"
      ]
     },
     "execution_count": 20,
     "metadata": {},
     "output_type": "execute_result"
    }
   ],
   "source": [
    "face_frames = len(pd.unique(df_movie['frame_number']))\n",
    "face_frames"
   ]
  },
  {
   "cell_type": "markdown",
   "id": "6c9e28e1",
   "metadata": {},
   "source": [
    "`??` 1 sec = 2 frames `??`"
   ]
  },
  {
   "cell_type": "code",
   "execution_count": 21,
   "id": "a92e1772",
   "metadata": {},
   "outputs": [
    {
     "data": {
      "text/plain": [
       "33.0"
      ]
     },
     "execution_count": 21,
     "metadata": {},
     "output_type": "execute_result"
    }
   ],
   "source": [
    "face_frames_sec = face_frames / 2\n",
    "face_frames_sec"
   ]
  },
  {
   "cell_type": "markdown",
   "id": "ccde54ec",
   "metadata": {},
   "source": [
    "# Total number"
   ]
  },
  {
   "cell_type": "markdown",
   "id": "f42dfa8b",
   "metadata": {},
   "source": [
    "## people"
   ]
  },
  {
   "cell_type": "markdown",
   "id": "56d69ff1",
   "metadata": {},
   "source": [
    "`??` number of how many times a woman/men appears in frames != how many women/men are in the movie"
   ]
  },
  {
   "cell_type": "markdown",
   "id": "6219eac8",
   "metadata": {},
   "source": [
    "### total number of women"
   ]
  },
  {
   "cell_type": "code",
   "execution_count": 22,
   "id": "85713e46",
   "metadata": {},
   "outputs": [],
   "source": [
    "woman_df = df_movie[df_movie['gender']=='Woman']"
   ]
  },
  {
   "cell_type": "code",
   "execution_count": 23,
   "id": "7dc07ac8",
   "metadata": {},
   "outputs": [
    {
     "data": {
      "text/plain": [
       "18"
      ]
     },
     "execution_count": 23,
     "metadata": {},
     "output_type": "execute_result"
    }
   ],
   "source": [
    "number_women = len(woman_df)\n",
    "number_women"
   ]
  },
  {
   "cell_type": "markdown",
   "id": "60196935",
   "metadata": {},
   "source": [
    "### total number of men"
   ]
  },
  {
   "cell_type": "code",
   "execution_count": 24,
   "id": "b27e105a",
   "metadata": {},
   "outputs": [],
   "source": [
    "man_df = df_movie[df_movie['gender']=='Man']"
   ]
  },
  {
   "cell_type": "code",
   "execution_count": 25,
   "id": "b37f1f9e",
   "metadata": {},
   "outputs": [
    {
     "data": {
      "text/plain": [
       "91"
      ]
     },
     "execution_count": 25,
     "metadata": {},
     "output_type": "execute_result"
    }
   ],
   "source": [
    "number_men = len(man_df)\n",
    "number_men"
   ]
  },
  {
   "cell_type": "markdown",
   "id": "094a1d4c",
   "metadata": {},
   "source": [
    "## white"
   ]
  },
  {
   "cell_type": "markdown",
   "id": "97c793e0",
   "metadata": {},
   "source": [
    "### number of women-white"
   ]
  },
  {
   "cell_type": "code",
   "execution_count": 31,
   "id": "f0432c3f",
   "metadata": {},
   "outputs": [
    {
     "data": {
      "text/plain": [
       "race   race \n",
       "white  white    18\n",
       "Name: race, dtype: int64"
      ]
     },
     "execution_count": 31,
     "metadata": {},
     "output_type": "execute_result"
    }
   ],
   "source": [
    "woman_df.groupby('race')['race'].value_counts()"
   ]
  },
  {
   "cell_type": "code",
   "execution_count": 14,
   "id": "143a0a28",
   "metadata": {},
   "outputs": [
    {
     "data": {
      "text/plain": [
       "race\n",
       "asian               10\n",
       "black                3\n",
       "indian               1\n",
       "latino hispanic     15\n",
       "middle eastern       8\n",
       "white              185\n",
       "Name: race, dtype: int64"
      ]
     },
     "execution_count": 14,
     "metadata": {},
     "output_type": "execute_result"
    }
   ],
   "source": [
    "woman_df.groupby('race')['race'].count()"
   ]
  },
  {
   "cell_type": "code",
   "execution_count": 15,
   "id": "5fa73587",
   "metadata": {},
   "outputs": [
    {
     "data": {
      "text/plain": [
       "185"
      ]
     },
     "execution_count": 15,
     "metadata": {},
     "output_type": "execute_result"
    }
   ],
   "source": [
    "women_white = woman_df.groupby('race')['race'].count()['white']\n",
    "women_white"
   ]
  },
  {
   "cell_type": "markdown",
   "id": "2b0a8df9",
   "metadata": {},
   "source": [
    "### number of men-white"
   ]
  },
  {
   "cell_type": "code",
   "execution_count": 16,
   "id": "7740be93",
   "metadata": {},
   "outputs": [
    {
     "data": {
      "text/plain": [
       "race\n",
       "asian               93\n",
       "black               69\n",
       "indian               6\n",
       "latino hispanic     83\n",
       "middle eastern      88\n",
       "white              615\n",
       "Name: race, dtype: int64"
      ]
     },
     "execution_count": 16,
     "metadata": {},
     "output_type": "execute_result"
    }
   ],
   "source": [
    "man_df.groupby('race')['race'].count()"
   ]
  },
  {
   "cell_type": "code",
   "execution_count": 17,
   "id": "e3ad9b73",
   "metadata": {},
   "outputs": [
    {
     "data": {
      "text/plain": [
       "615"
      ]
     },
     "execution_count": 17,
     "metadata": {},
     "output_type": "execute_result"
    }
   ],
   "source": [
    "men_white = man_df.groupby('race')['race'].count()['white']\n",
    "men_white"
   ]
  },
  {
   "cell_type": "markdown",
   "id": "ee3f579f",
   "metadata": {},
   "source": [
    "## latino"
   ]
  },
  {
   "cell_type": "markdown",
   "id": "bad3113c",
   "metadata": {},
   "source": [
    "### number of women-latino"
   ]
  },
  {
   "cell_type": "code",
   "execution_count": 18,
   "id": "c834d870",
   "metadata": {},
   "outputs": [
    {
     "data": {
      "text/plain": [
       "15"
      ]
     },
     "execution_count": 18,
     "metadata": {},
     "output_type": "execute_result"
    }
   ],
   "source": [
    "women_latino = woman_df.groupby('race')['race'].count()['latino hispanic']\n",
    "women_latino"
   ]
  },
  {
   "cell_type": "markdown",
   "id": "dee652f6",
   "metadata": {},
   "source": [
    "### number of men-latino"
   ]
  },
  {
   "cell_type": "code",
   "execution_count": 19,
   "id": "69a56f40",
   "metadata": {},
   "outputs": [
    {
     "data": {
      "text/plain": [
       "83"
      ]
     },
     "execution_count": 19,
     "metadata": {},
     "output_type": "execute_result"
    }
   ],
   "source": [
    "men_latino = man_df.groupby('race')['race'].count()['latino hispanic']\n",
    "men_latino"
   ]
  },
  {
   "cell_type": "markdown",
   "id": "33290fa7",
   "metadata": {},
   "source": [
    "## black"
   ]
  },
  {
   "cell_type": "markdown",
   "id": "3f7284d5",
   "metadata": {},
   "source": [
    "### number of women-black"
   ]
  },
  {
   "cell_type": "code",
   "execution_count": 20,
   "id": "49d31602",
   "metadata": {},
   "outputs": [
    {
     "data": {
      "text/plain": [
       "3"
      ]
     },
     "execution_count": 20,
     "metadata": {},
     "output_type": "execute_result"
    }
   ],
   "source": [
    "women_black = woman_df.groupby('race')['race'].count()['black']\n",
    "women_black"
   ]
  },
  {
   "cell_type": "markdown",
   "id": "496d4aa0",
   "metadata": {},
   "source": [
    "### number of men-balck"
   ]
  },
  {
   "cell_type": "code",
   "execution_count": 21,
   "id": "6e447a6b",
   "metadata": {},
   "outputs": [
    {
     "data": {
      "text/plain": [
       "69"
      ]
     },
     "execution_count": 21,
     "metadata": {},
     "output_type": "execute_result"
    }
   ],
   "source": [
    "men_black = man_df.groupby('race')['race'].count()['black']\n",
    "men_black"
   ]
  },
  {
   "cell_type": "markdown",
   "id": "a01efc22",
   "metadata": {},
   "source": [
    "## asian"
   ]
  },
  {
   "cell_type": "markdown",
   "id": "548294f8",
   "metadata": {},
   "source": [
    "### number of women-asian"
   ]
  },
  {
   "cell_type": "code",
   "execution_count": 22,
   "id": "f41e2172",
   "metadata": {},
   "outputs": [
    {
     "data": {
      "text/plain": [
       "10"
      ]
     },
     "execution_count": 22,
     "metadata": {},
     "output_type": "execute_result"
    }
   ],
   "source": [
    "women_asian = woman_df.groupby('race')['race'].count()['asian']\n",
    "women_asian"
   ]
  },
  {
   "cell_type": "markdown",
   "id": "233da889",
   "metadata": {},
   "source": [
    "### number of men-asian"
   ]
  },
  {
   "cell_type": "code",
   "execution_count": 23,
   "id": "738a64f0",
   "metadata": {},
   "outputs": [
    {
     "data": {
      "text/plain": [
       "93"
      ]
     },
     "execution_count": 23,
     "metadata": {},
     "output_type": "execute_result"
    }
   ],
   "source": [
    "men_asian = man_df.groupby('race')['race'].count()['asian']\n",
    "men_asian"
   ]
  },
  {
   "cell_type": "markdown",
   "id": "b2403228",
   "metadata": {},
   "source": [
    "## middle eastern"
   ]
  },
  {
   "cell_type": "markdown",
   "id": "9c8efc8f",
   "metadata": {},
   "source": [
    "### number of women-middle eastern"
   ]
  },
  {
   "cell_type": "code",
   "execution_count": 24,
   "id": "e274d2f3",
   "metadata": {},
   "outputs": [
    {
     "data": {
      "text/plain": [
       "8"
      ]
     },
     "execution_count": 24,
     "metadata": {},
     "output_type": "execute_result"
    }
   ],
   "source": [
    "women_middleeastern = woman_df.groupby('race')['race'].count()['middle eastern']\n",
    "women_middleeastern"
   ]
  },
  {
   "cell_type": "markdown",
   "id": "e629eb12",
   "metadata": {},
   "source": [
    "### number of men-middle eastern"
   ]
  },
  {
   "cell_type": "code",
   "execution_count": 106,
   "id": "397e2914",
   "metadata": {},
   "outputs": [
    {
     "data": {
      "text/plain": [
       "88"
      ]
     },
     "execution_count": 106,
     "metadata": {},
     "output_type": "execute_result"
    }
   ],
   "source": [
    "men_middleeastern = man_df.groupby('race')['race'].count()['middle eastern']\n",
    "men_middleeastern"
   ]
  },
  {
   "cell_type": "markdown",
   "id": "e6599486",
   "metadata": {},
   "source": [
    "## indian"
   ]
  },
  {
   "cell_type": "markdown",
   "id": "76f2f5f0",
   "metadata": {},
   "source": [
    "### number of women-indian"
   ]
  },
  {
   "cell_type": "code",
   "execution_count": 99,
   "id": "d8c46128",
   "metadata": {},
   "outputs": [
    {
     "data": {
      "text/plain": [
       "1"
      ]
     },
     "execution_count": 99,
     "metadata": {},
     "output_type": "execute_result"
    }
   ],
   "source": [
    "women_indian = woman_df.groupby('race')['race'].count()['indian']\n",
    "women_indian"
   ]
  },
  {
   "cell_type": "markdown",
   "id": "26216e2d",
   "metadata": {},
   "source": [
    "### number of men-indian"
   ]
  },
  {
   "cell_type": "code",
   "execution_count": 25,
   "id": "dcbfe545",
   "metadata": {},
   "outputs": [
    {
     "data": {
      "text/plain": [
       "6"
      ]
     },
     "execution_count": 25,
     "metadata": {},
     "output_type": "execute_result"
    }
   ],
   "source": [
    "men_indian = man_df.groupby('race')['race'].count()['indian']\n",
    "men_indian"
   ]
  },
  {
   "cell_type": "markdown",
   "id": "80e50439",
   "metadata": {},
   "source": [
    "## non white"
   ]
  },
  {
   "cell_type": "markdown",
   "id": "f62bec6a",
   "metadata": {},
   "source": [
    "### number of women-non white"
   ]
  },
  {
   "cell_type": "code",
   "execution_count": 26,
   "id": "0248c77e",
   "metadata": {},
   "outputs": [],
   "source": [
    "women_nonwhite = number_women-women_white"
   ]
  },
  {
   "cell_type": "markdown",
   "id": "5e0d97ba",
   "metadata": {},
   "source": [
    "### number of men-non white"
   ]
  },
  {
   "cell_type": "code",
   "execution_count": 27,
   "id": "50eb9968",
   "metadata": {},
   "outputs": [],
   "source": [
    "men_nonwhite = number_men-men_white"
   ]
  },
  {
   "cell_type": "markdown",
   "id": "188f5a69",
   "metadata": {},
   "source": [
    "# Number of frames"
   ]
  },
  {
   "cell_type": "markdown",
   "id": "330d7deb",
   "metadata": {},
   "source": [
    "## number of frames with only women"
   ]
  },
  {
   "cell_type": "code",
   "execution_count": 28,
   "id": "81c4fa53",
   "metadata": {},
   "outputs": [],
   "source": [
    "df = ace_ventura_df"
   ]
  },
  {
   "cell_type": "code",
   "execution_count": 29,
   "id": "1a44662d",
   "metadata": {},
   "outputs": [],
   "source": [
    "df2 = df.groupby([\"frame_number\"]).nunique()[\"gender\"].reset_index()"
   ]
  },
  {
   "cell_type": "code",
   "execution_count": 30,
   "id": "aa3b286f",
   "metadata": {},
   "outputs": [],
   "source": [
    "df2['gender_value'] = df['gender']"
   ]
  },
  {
   "cell_type": "code",
   "execution_count": 31,
   "id": "32ee9f52",
   "metadata": {},
   "outputs": [
    {
     "data": {
      "text/plain": [
       "gender_value\n",
       "Man      433\n",
       "Woman    108\n",
       "Name: gender_value, dtype: int64"
      ]
     },
     "execution_count": 31,
     "metadata": {},
     "output_type": "execute_result"
    }
   ],
   "source": [
    "df3 = df2[df2.gender == 1]\n",
    "df3.groupby('gender_value')['gender_value'].count()"
   ]
  },
  {
   "cell_type": "code",
   "execution_count": 32,
   "id": "8dbd7203",
   "metadata": {},
   "outputs": [],
   "source": [
    "only_women = len(df3[df3['gender_value']=='Woman'])"
   ]
  },
  {
   "cell_type": "markdown",
   "id": "9e3d07f9",
   "metadata": {},
   "source": [
    "## number of frames with only men"
   ]
  },
  {
   "cell_type": "code",
   "execution_count": 33,
   "id": "d37e78ab",
   "metadata": {},
   "outputs": [],
   "source": [
    "only_men = len(df3[df3['gender_value']=='Man'])"
   ]
  },
  {
   "cell_type": "markdown",
   "id": "3f5db710",
   "metadata": {},
   "source": [
    "# Average screentime"
   ]
  },
  {
   "cell_type": "markdown",
   "id": "9e40ec63",
   "metadata": {},
   "source": [
    "## Gender"
   ]
  },
  {
   "cell_type": "code",
   "execution_count": 34,
   "id": "b3207393",
   "metadata": {},
   "outputs": [
    {
     "data": {
      "text/plain": [
       "687"
      ]
     },
     "execution_count": 34,
     "metadata": {},
     "output_type": "execute_result"
    }
   ],
   "source": [
    "face_frames"
   ]
  },
  {
   "cell_type": "code",
   "execution_count": 35,
   "id": "c07dadcd",
   "metadata": {},
   "outputs": [],
   "source": [
    "only_women_perc = only_women/face_frames*100"
   ]
  },
  {
   "cell_type": "code",
   "execution_count": 36,
   "id": "e3b35605",
   "metadata": {},
   "outputs": [
    {
     "data": {
      "text/plain": [
       "15.72052401746725"
      ]
     },
     "execution_count": 36,
     "metadata": {},
     "output_type": "execute_result"
    }
   ],
   "source": [
    "only_women_perc"
   ]
  },
  {
   "cell_type": "code",
   "execution_count": 38,
   "id": "c06e7672",
   "metadata": {},
   "outputs": [],
   "source": [
    "only_men_perc = only_men/face_frames*100"
   ]
  },
  {
   "cell_type": "code",
   "execution_count": 39,
   "id": "801a4e71",
   "metadata": {},
   "outputs": [
    {
     "data": {
      "text/plain": [
       "63.02765647743813"
      ]
     },
     "execution_count": 39,
     "metadata": {},
     "output_type": "execute_result"
    }
   ],
   "source": [
    "only_men_perc"
   ]
  },
  {
   "cell_type": "code",
   "execution_count": 40,
   "id": "c7d43385",
   "metadata": {},
   "outputs": [],
   "source": [
    "df_gender = df.groupby(['gender']).count().reset_index().drop(columns=['face_id','race'])"
   ]
  },
  {
   "cell_type": "code",
   "execution_count": 41,
   "id": "bb33132f",
   "metadata": {},
   "outputs": [
    {
     "data": {
      "text/html": [
       "<div>\n",
       "<style scoped>\n",
       "    .dataframe tbody tr th:only-of-type {\n",
       "        vertical-align: middle;\n",
       "    }\n",
       "\n",
       "    .dataframe tbody tr th {\n",
       "        vertical-align: top;\n",
       "    }\n",
       "\n",
       "    .dataframe thead th {\n",
       "        text-align: right;\n",
       "    }\n",
       "</style>\n",
       "<table border=\"1\" class=\"dataframe\">\n",
       "  <thead>\n",
       "    <tr style=\"text-align: right;\">\n",
       "      <th></th>\n",
       "      <th>gender</th>\n",
       "      <th>frame_number</th>\n",
       "      <th>gender_screentime</th>\n",
       "    </tr>\n",
       "  </thead>\n",
       "  <tbody>\n",
       "    <tr>\n",
       "      <th>0</th>\n",
       "      <td>Man</td>\n",
       "      <td>954</td>\n",
       "      <td>81.122449</td>\n",
       "    </tr>\n",
       "    <tr>\n",
       "      <th>1</th>\n",
       "      <td>Woman</td>\n",
       "      <td>222</td>\n",
       "      <td>18.877551</td>\n",
       "    </tr>\n",
       "  </tbody>\n",
       "</table>\n",
       "</div>"
      ],
      "text/plain": [
       "  gender  frame_number  gender_screentime\n",
       "0    Man           954          81.122449\n",
       "1  Woman           222          18.877551"
      ]
     },
     "execution_count": 41,
     "metadata": {},
     "output_type": "execute_result"
    }
   ],
   "source": [
    "df_gender['gender_screentime']=df_gender['frame_number']/df_gender['frame_number'].sum()*100\n",
    "df_gender"
   ]
  },
  {
   "cell_type": "code",
   "execution_count": 42,
   "id": "4b9831fc",
   "metadata": {},
   "outputs": [
    {
     "data": {
      "text/html": [
       "<div>\n",
       "<style scoped>\n",
       "    .dataframe tbody tr th:only-of-type {\n",
       "        vertical-align: middle;\n",
       "    }\n",
       "\n",
       "    .dataframe tbody tr th {\n",
       "        vertical-align: top;\n",
       "    }\n",
       "\n",
       "    .dataframe thead th {\n",
       "        text-align: right;\n",
       "    }\n",
       "</style>\n",
       "<table border=\"1\" class=\"dataframe\">\n",
       "  <thead>\n",
       "    <tr style=\"text-align: right;\">\n",
       "      <th></th>\n",
       "      <th>gender</th>\n",
       "      <th>only_1_gender</th>\n",
       "    </tr>\n",
       "  </thead>\n",
       "  <tbody>\n",
       "    <tr>\n",
       "      <th>0</th>\n",
       "      <td>Man</td>\n",
       "      <td>433</td>\n",
       "    </tr>\n",
       "    <tr>\n",
       "      <th>1</th>\n",
       "      <td>Woman</td>\n",
       "      <td>108</td>\n",
       "    </tr>\n",
       "  </tbody>\n",
       "</table>\n",
       "</div>"
      ],
      "text/plain": [
       "  gender  only_1_gender\n",
       "0    Man            433\n",
       "1  Woman            108"
      ]
     },
     "execution_count": 42,
     "metadata": {},
     "output_type": "execute_result"
    }
   ],
   "source": [
    "df_only = df3.groupby(['gender_value']).count().reset_index().drop(columns=['gender'])\n",
    "df_only = df_only.rename(columns={'frame_number': 'only_1_gender', 'gender_value':'gender'})\n",
    "df_only"
   ]
  },
  {
   "cell_type": "code",
   "execution_count": 43,
   "id": "0f758fab",
   "metadata": {},
   "outputs": [
    {
     "data": {
      "text/html": [
       "<div>\n",
       "<style scoped>\n",
       "    .dataframe tbody tr th:only-of-type {\n",
       "        vertical-align: middle;\n",
       "    }\n",
       "\n",
       "    .dataframe tbody tr th {\n",
       "        vertical-align: top;\n",
       "    }\n",
       "\n",
       "    .dataframe thead th {\n",
       "        text-align: right;\n",
       "    }\n",
       "</style>\n",
       "<table border=\"1\" class=\"dataframe\">\n",
       "  <thead>\n",
       "    <tr style=\"text-align: right;\">\n",
       "      <th></th>\n",
       "      <th>gender</th>\n",
       "      <th>frame_number</th>\n",
       "      <th>gender_screentime</th>\n",
       "      <th>only_1_gender</th>\n",
       "      <th>only_1_screentime</th>\n",
       "    </tr>\n",
       "  </thead>\n",
       "  <tbody>\n",
       "    <tr>\n",
       "      <th>0</th>\n",
       "      <td>Man</td>\n",
       "      <td>954</td>\n",
       "      <td>81.122449</td>\n",
       "      <td>433</td>\n",
       "      <td>80.036969</td>\n",
       "    </tr>\n",
       "    <tr>\n",
       "      <th>1</th>\n",
       "      <td>Woman</td>\n",
       "      <td>222</td>\n",
       "      <td>18.877551</td>\n",
       "      <td>108</td>\n",
       "      <td>19.963031</td>\n",
       "    </tr>\n",
       "  </tbody>\n",
       "</table>\n",
       "</div>"
      ],
      "text/plain": [
       "  gender  frame_number  gender_screentime  only_1_gender  only_1_screentime\n",
       "0    Man           954          81.122449            433          80.036969\n",
       "1  Woman           222          18.877551            108          19.963031"
      ]
     },
     "execution_count": 43,
     "metadata": {},
     "output_type": "execute_result"
    }
   ],
   "source": [
    "dfg = [df_gender, df_only]\n",
    "df_gender_final = reduce(lambda left,right: pd.merge(left,right,on='gender'), dfg)\n",
    "df_gender_final['only_1_screentime'] = df_gender_final['only_1_gender']/df_gender_final['only_1_gender'].sum()*100\n",
    "df_gender_final"
   ]
  },
  {
   "cell_type": "markdown",
   "id": "f95848a7",
   "metadata": {},
   "source": [
    "## Race"
   ]
  },
  {
   "cell_type": "code",
   "execution_count": 44,
   "id": "32616e84",
   "metadata": {},
   "outputs": [],
   "source": [
    "df_race = df.groupby(['race']).count().reset_index()"
   ]
  },
  {
   "cell_type": "code",
   "execution_count": 45,
   "id": "c06950fc",
   "metadata": {},
   "outputs": [
    {
     "data": {
      "text/plain": [
       "1176"
      ]
     },
     "execution_count": 45,
     "metadata": {},
     "output_type": "execute_result"
    }
   ],
   "source": [
    "df_race['frame_number'].sum()"
   ]
  },
  {
   "cell_type": "code",
   "execution_count": 46,
   "id": "d8e371e1",
   "metadata": {},
   "outputs": [],
   "source": [
    "df_race['race_screentime']=df_race['frame_number']/df_race['frame_number'].sum()*100"
   ]
  },
  {
   "cell_type": "code",
   "execution_count": 47,
   "id": "88997cb7",
   "metadata": {},
   "outputs": [],
   "source": [
    "df_race = df_race.drop(columns=['face_id','gender'])"
   ]
  },
  {
   "cell_type": "code",
   "execution_count": 48,
   "id": "f7658a31",
   "metadata": {
    "scrolled": true
   },
   "outputs": [
    {
     "data": {
      "text/html": [
       "<div>\n",
       "<style scoped>\n",
       "    .dataframe tbody tr th:only-of-type {\n",
       "        vertical-align: middle;\n",
       "    }\n",
       "\n",
       "    .dataframe tbody tr th {\n",
       "        vertical-align: top;\n",
       "    }\n",
       "\n",
       "    .dataframe thead th {\n",
       "        text-align: right;\n",
       "    }\n",
       "</style>\n",
       "<table border=\"1\" class=\"dataframe\">\n",
       "  <thead>\n",
       "    <tr style=\"text-align: right;\">\n",
       "      <th></th>\n",
       "      <th>race</th>\n",
       "      <th>frame_number</th>\n",
       "      <th>race_screentime</th>\n",
       "    </tr>\n",
       "  </thead>\n",
       "  <tbody>\n",
       "    <tr>\n",
       "      <th>0</th>\n",
       "      <td>asian</td>\n",
       "      <td>103</td>\n",
       "      <td>8.758503</td>\n",
       "    </tr>\n",
       "    <tr>\n",
       "      <th>1</th>\n",
       "      <td>black</td>\n",
       "      <td>72</td>\n",
       "      <td>6.122449</td>\n",
       "    </tr>\n",
       "    <tr>\n",
       "      <th>2</th>\n",
       "      <td>indian</td>\n",
       "      <td>7</td>\n",
       "      <td>0.595238</td>\n",
       "    </tr>\n",
       "    <tr>\n",
       "      <th>3</th>\n",
       "      <td>latino hispanic</td>\n",
       "      <td>98</td>\n",
       "      <td>8.333333</td>\n",
       "    </tr>\n",
       "    <tr>\n",
       "      <th>4</th>\n",
       "      <td>middle eastern</td>\n",
       "      <td>96</td>\n",
       "      <td>8.163265</td>\n",
       "    </tr>\n",
       "    <tr>\n",
       "      <th>5</th>\n",
       "      <td>white</td>\n",
       "      <td>800</td>\n",
       "      <td>68.027211</td>\n",
       "    </tr>\n",
       "  </tbody>\n",
       "</table>\n",
       "</div>"
      ],
      "text/plain": [
       "              race  frame_number  race_screentime\n",
       "0            asian           103         8.758503\n",
       "1            black            72         6.122449\n",
       "2           indian             7         0.595238\n",
       "3  latino hispanic            98         8.333333\n",
       "4   middle eastern            96         8.163265\n",
       "5            white           800        68.027211"
      ]
     },
     "execution_count": 48,
     "metadata": {},
     "output_type": "execute_result"
    }
   ],
   "source": [
    "df_race"
   ]
  },
  {
   "cell_type": "code",
   "execution_count": 49,
   "id": "8282ee37",
   "metadata": {},
   "outputs": [
    {
     "data": {
      "text/html": [
       "<div>\n",
       "<style scoped>\n",
       "    .dataframe tbody tr th:only-of-type {\n",
       "        vertical-align: middle;\n",
       "    }\n",
       "\n",
       "    .dataframe tbody tr th {\n",
       "        vertical-align: top;\n",
       "    }\n",
       "\n",
       "    .dataframe thead th {\n",
       "        text-align: right;\n",
       "    }\n",
       "</style>\n",
       "<table border=\"1\" class=\"dataframe\">\n",
       "  <thead>\n",
       "    <tr style=\"text-align: right;\">\n",
       "      <th></th>\n",
       "      <th>race</th>\n",
       "      <th>woman_frames</th>\n",
       "    </tr>\n",
       "  </thead>\n",
       "  <tbody>\n",
       "    <tr>\n",
       "      <th>0</th>\n",
       "      <td>asian</td>\n",
       "      <td>10</td>\n",
       "    </tr>\n",
       "    <tr>\n",
       "      <th>1</th>\n",
       "      <td>black</td>\n",
       "      <td>3</td>\n",
       "    </tr>\n",
       "    <tr>\n",
       "      <th>2</th>\n",
       "      <td>indian</td>\n",
       "      <td>1</td>\n",
       "    </tr>\n",
       "    <tr>\n",
       "      <th>3</th>\n",
       "      <td>latino hispanic</td>\n",
       "      <td>15</td>\n",
       "    </tr>\n",
       "    <tr>\n",
       "      <th>4</th>\n",
       "      <td>middle eastern</td>\n",
       "      <td>8</td>\n",
       "    </tr>\n",
       "    <tr>\n",
       "      <th>5</th>\n",
       "      <td>white</td>\n",
       "      <td>185</td>\n",
       "    </tr>\n",
       "  </tbody>\n",
       "</table>\n",
       "</div>"
      ],
      "text/plain": [
       "              race  woman_frames\n",
       "0            asian            10\n",
       "1            black             3\n",
       "2           indian             1\n",
       "3  latino hispanic            15\n",
       "4   middle eastern             8\n",
       "5            white           185"
      ]
     },
     "execution_count": 49,
     "metadata": {},
     "output_type": "execute_result"
    }
   ],
   "source": [
    "women_by_race = woman_df.groupby(['race']).count().reset_index()\n",
    "women_by_race = women_by_race.drop(columns=['face_id','gender'])\n",
    "women_by_race = women_by_race.rename(columns={'frame_number': 'woman_frames'})\n",
    "women_by_race"
   ]
  },
  {
   "cell_type": "code",
   "execution_count": 50,
   "id": "ff2193df",
   "metadata": {},
   "outputs": [
    {
     "data": {
      "text/html": [
       "<div>\n",
       "<style scoped>\n",
       "    .dataframe tbody tr th:only-of-type {\n",
       "        vertical-align: middle;\n",
       "    }\n",
       "\n",
       "    .dataframe tbody tr th {\n",
       "        vertical-align: top;\n",
       "    }\n",
       "\n",
       "    .dataframe thead th {\n",
       "        text-align: right;\n",
       "    }\n",
       "</style>\n",
       "<table border=\"1\" class=\"dataframe\">\n",
       "  <thead>\n",
       "    <tr style=\"text-align: right;\">\n",
       "      <th></th>\n",
       "      <th>race</th>\n",
       "      <th>man_frames</th>\n",
       "    </tr>\n",
       "  </thead>\n",
       "  <tbody>\n",
       "    <tr>\n",
       "      <th>0</th>\n",
       "      <td>asian</td>\n",
       "      <td>93</td>\n",
       "    </tr>\n",
       "    <tr>\n",
       "      <th>1</th>\n",
       "      <td>black</td>\n",
       "      <td>69</td>\n",
       "    </tr>\n",
       "    <tr>\n",
       "      <th>2</th>\n",
       "      <td>indian</td>\n",
       "      <td>6</td>\n",
       "    </tr>\n",
       "    <tr>\n",
       "      <th>3</th>\n",
       "      <td>latino hispanic</td>\n",
       "      <td>83</td>\n",
       "    </tr>\n",
       "    <tr>\n",
       "      <th>4</th>\n",
       "      <td>middle eastern</td>\n",
       "      <td>88</td>\n",
       "    </tr>\n",
       "    <tr>\n",
       "      <th>5</th>\n",
       "      <td>white</td>\n",
       "      <td>615</td>\n",
       "    </tr>\n",
       "  </tbody>\n",
       "</table>\n",
       "</div>"
      ],
      "text/plain": [
       "              race  man_frames\n",
       "0            asian          93\n",
       "1            black          69\n",
       "2           indian           6\n",
       "3  latino hispanic          83\n",
       "4   middle eastern          88\n",
       "5            white         615"
      ]
     },
     "execution_count": 50,
     "metadata": {},
     "output_type": "execute_result"
    }
   ],
   "source": [
    "men_by_race = man_df.groupby(['race']).count().reset_index()\n",
    "men_by_race = men_by_race.drop(columns=['face_id','gender'])\n",
    "men_by_race = men_by_race.rename(columns={'frame_number': 'man_frames'})\n",
    "men_by_race"
   ]
  },
  {
   "cell_type": "code",
   "execution_count": 51,
   "id": "7d368a34",
   "metadata": {},
   "outputs": [],
   "source": [
    "dfs = [df_race, women_by_race, men_by_race]\n",
    "\n",
    "df_race_final = reduce(lambda left,right: pd.merge(left,right,on='race'), dfs)\n",
    "df_race_final['woman_r_screentime'] = df_race_final['woman_frames']/df_race_final['frame_number']*100\n",
    "df_race_final['man_r_screentime'] = df_race_final['man_frames']/df_race_final['frame_number']*100"
   ]
  },
  {
   "cell_type": "markdown",
   "id": "6d8589ac",
   "metadata": {},
   "source": [
    "# Final dataframes to csvs"
   ]
  },
  {
   "cell_type": "code",
   "execution_count": 210,
   "id": "7406b136",
   "metadata": {},
   "outputs": [
    {
     "data": {
      "text/html": [
       "<div>\n",
       "<style scoped>\n",
       "    .dataframe tbody tr th:only-of-type {\n",
       "        vertical-align: middle;\n",
       "    }\n",
       "\n",
       "    .dataframe tbody tr th {\n",
       "        vertical-align: top;\n",
       "    }\n",
       "\n",
       "    .dataframe thead th {\n",
       "        text-align: right;\n",
       "    }\n",
       "</style>\n",
       "<table border=\"1\" class=\"dataframe\">\n",
       "  <thead>\n",
       "    <tr style=\"text-align: right;\">\n",
       "      <th></th>\n",
       "      <th>race</th>\n",
       "      <th>frame_number</th>\n",
       "      <th>race_screentime</th>\n",
       "      <th>woman_frames</th>\n",
       "      <th>man_frames</th>\n",
       "      <th>woman_r_screentime</th>\n",
       "      <th>man_r_screentime</th>\n",
       "    </tr>\n",
       "  </thead>\n",
       "  <tbody>\n",
       "    <tr>\n",
       "      <th>0</th>\n",
       "      <td>asian</td>\n",
       "      <td>103</td>\n",
       "      <td>8.758503</td>\n",
       "      <td>10</td>\n",
       "      <td>93</td>\n",
       "      <td>9.708738</td>\n",
       "      <td>90.291262</td>\n",
       "    </tr>\n",
       "    <tr>\n",
       "      <th>1</th>\n",
       "      <td>black</td>\n",
       "      <td>72</td>\n",
       "      <td>6.122449</td>\n",
       "      <td>3</td>\n",
       "      <td>69</td>\n",
       "      <td>4.166667</td>\n",
       "      <td>95.833333</td>\n",
       "    </tr>\n",
       "    <tr>\n",
       "      <th>2</th>\n",
       "      <td>indian</td>\n",
       "      <td>7</td>\n",
       "      <td>0.595238</td>\n",
       "      <td>1</td>\n",
       "      <td>6</td>\n",
       "      <td>14.285714</td>\n",
       "      <td>85.714286</td>\n",
       "    </tr>\n",
       "    <tr>\n",
       "      <th>3</th>\n",
       "      <td>latino hispanic</td>\n",
       "      <td>98</td>\n",
       "      <td>8.333333</td>\n",
       "      <td>15</td>\n",
       "      <td>83</td>\n",
       "      <td>15.306122</td>\n",
       "      <td>84.693878</td>\n",
       "    </tr>\n",
       "    <tr>\n",
       "      <th>4</th>\n",
       "      <td>middle eastern</td>\n",
       "      <td>96</td>\n",
       "      <td>8.163265</td>\n",
       "      <td>8</td>\n",
       "      <td>88</td>\n",
       "      <td>8.333333</td>\n",
       "      <td>91.666667</td>\n",
       "    </tr>\n",
       "    <tr>\n",
       "      <th>5</th>\n",
       "      <td>white</td>\n",
       "      <td>800</td>\n",
       "      <td>68.027211</td>\n",
       "      <td>185</td>\n",
       "      <td>615</td>\n",
       "      <td>23.125000</td>\n",
       "      <td>76.875000</td>\n",
       "    </tr>\n",
       "  </tbody>\n",
       "</table>\n",
       "</div>"
      ],
      "text/plain": [
       "              race  frame_number  race_screentime  woman_frames  man_frames  \\\n",
       "0            asian           103         8.758503            10          93   \n",
       "1            black            72         6.122449             3          69   \n",
       "2           indian             7         0.595238             1           6   \n",
       "3  latino hispanic            98         8.333333            15          83   \n",
       "4   middle eastern            96         8.163265             8          88   \n",
       "5            white           800        68.027211           185         615   \n",
       "\n",
       "   woman_r_screentime  man_r_screentime  \n",
       "0            9.708738         90.291262  \n",
       "1            4.166667         95.833333  \n",
       "2           14.285714         85.714286  \n",
       "3           15.306122         84.693878  \n",
       "4            8.333333         91.666667  \n",
       "5           23.125000         76.875000  "
      ]
     },
     "execution_count": 210,
     "metadata": {},
     "output_type": "execute_result"
    }
   ],
   "source": [
    "df_race_final"
   ]
  },
  {
   "cell_type": "code",
   "execution_count": 246,
   "id": "0dae254c",
   "metadata": {},
   "outputs": [
    {
     "data": {
      "text/html": [
       "<div>\n",
       "<style scoped>\n",
       "    .dataframe tbody tr th:only-of-type {\n",
       "        vertical-align: middle;\n",
       "    }\n",
       "\n",
       "    .dataframe tbody tr th {\n",
       "        vertical-align: top;\n",
       "    }\n",
       "\n",
       "    .dataframe thead th {\n",
       "        text-align: right;\n",
       "    }\n",
       "</style>\n",
       "<table border=\"1\" class=\"dataframe\">\n",
       "  <thead>\n",
       "    <tr style=\"text-align: right;\">\n",
       "      <th></th>\n",
       "      <th>gender</th>\n",
       "      <th>frame_number</th>\n",
       "      <th>gender_screentime</th>\n",
       "      <th>only_1_gender</th>\n",
       "      <th>only_1_screentime</th>\n",
       "    </tr>\n",
       "  </thead>\n",
       "  <tbody>\n",
       "    <tr>\n",
       "      <th>0</th>\n",
       "      <td>Man</td>\n",
       "      <td>954</td>\n",
       "      <td>81.122449</td>\n",
       "      <td>433</td>\n",
       "      <td>80.036969</td>\n",
       "    </tr>\n",
       "    <tr>\n",
       "      <th>1</th>\n",
       "      <td>Woman</td>\n",
       "      <td>222</td>\n",
       "      <td>18.877551</td>\n",
       "      <td>108</td>\n",
       "      <td>19.963031</td>\n",
       "    </tr>\n",
       "  </tbody>\n",
       "</table>\n",
       "</div>"
      ],
      "text/plain": [
       "  gender  frame_number  gender_screentime  only_1_gender  only_1_screentime\n",
       "0    Man           954          81.122449            433          80.036969\n",
       "1  Woman           222          18.877551            108          19.963031"
      ]
     },
     "execution_count": 246,
     "metadata": {},
     "output_type": "execute_result"
    }
   ],
   "source": [
    "df_gender_final"
   ]
  },
  {
   "cell_type": "code",
   "execution_count": 247,
   "id": "5736a18a",
   "metadata": {},
   "outputs": [],
   "source": [
    "#df_race_final.to_csv(r'Path where you want to store the exported CSV file\\File Name.csv', index = False)"
   ]
  },
  {
   "cell_type": "code",
   "execution_count": 248,
   "id": "4be63bd3",
   "metadata": {},
   "outputs": [],
   "source": [
    "#df_gender_final.to_csv(r'Path where you want to store the exported CSV file\\File Name.csv', index = False)"
   ]
  }
 ],
 "metadata": {
  "kernelspec": {
   "display_name": "Python 3 (ipykernel)",
   "language": "python",
   "name": "python3"
  },
  "language_info": {
   "codemirror_mode": {
    "name": "ipython",
    "version": 3
   },
   "file_extension": ".py",
   "mimetype": "text/x-python",
   "name": "python",
   "nbconvert_exporter": "python",
   "pygments_lexer": "ipython3",
   "version": "3.8.12"
  },
  "toc": {
   "base_numbering": 1,
   "nav_menu": {},
   "number_sections": true,
   "sideBar": true,
   "skip_h1_title": false,
   "title_cell": "Table of Contents",
   "title_sidebar": "Contents",
   "toc_cell": false,
   "toc_position": {},
   "toc_section_display": true,
   "toc_window_display": false
  }
 },
 "nbformat": 4,
 "nbformat_minor": 5
}
