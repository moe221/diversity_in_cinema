{
 "cells": [
  {
   "cell_type": "code",
   "execution_count": 1,
   "id": "ffab68d9",
   "metadata": {},
   "outputs": [],
   "source": [
    "import pandas as pd\n",
    "import numpy as np\n",
    "from functools import reduce"
   ]
  },
  {
   "cell_type": "code",
   "execution_count": 5,
   "id": "4dea6e28",
   "metadata": {},
   "outputs": [],
   "source": [
    "ace_ventura_df = pd.read_csv(\"https://raw.githubusercontent.com/moe221/diversity_in_cinema/moe221_prediction_pipeline/results/ace_ventura_results.csv\")"
   ]
  },
  {
   "cell_type": "code",
   "execution_count": 6,
   "id": "4683eef5",
   "metadata": {},
   "outputs": [
    {
     "data": {
      "text/html": [
       "<div>\n",
       "<style scoped>\n",
       "    .dataframe tbody tr th:only-of-type {\n",
       "        vertical-align: middle;\n",
       "    }\n",
       "\n",
       "    .dataframe tbody tr th {\n",
       "        vertical-align: top;\n",
       "    }\n",
       "\n",
       "    .dataframe thead th {\n",
       "        text-align: right;\n",
       "    }\n",
       "</style>\n",
       "<table border=\"1\" class=\"dataframe\">\n",
       "  <thead>\n",
       "    <tr style=\"text-align: right;\">\n",
       "      <th></th>\n",
       "      <th>Unnamed: 0</th>\n",
       "      <th>frame_number</th>\n",
       "      <th>face_id</th>\n",
       "      <th>gender</th>\n",
       "      <th>race</th>\n",
       "    </tr>\n",
       "  </thead>\n",
       "  <tbody>\n",
       "    <tr>\n",
       "      <th>0</th>\n",
       "      <td>0</td>\n",
       "      <td>31.0</td>\n",
       "      <td>0.0</td>\n",
       "      <td>Man</td>\n",
       "      <td>white</td>\n",
       "    </tr>\n",
       "    <tr>\n",
       "      <th>1</th>\n",
       "      <td>0</td>\n",
       "      <td>51.0</td>\n",
       "      <td>1.0</td>\n",
       "      <td>Man</td>\n",
       "      <td>white</td>\n",
       "    </tr>\n",
       "    <tr>\n",
       "      <th>2</th>\n",
       "      <td>0</td>\n",
       "      <td>71.0</td>\n",
       "      <td>2.0</td>\n",
       "      <td>Man</td>\n",
       "      <td>black</td>\n",
       "    </tr>\n",
       "    <tr>\n",
       "      <th>3</th>\n",
       "      <td>0</td>\n",
       "      <td>91.0</td>\n",
       "      <td>3.0</td>\n",
       "      <td>Man</td>\n",
       "      <td>latino hispanic</td>\n",
       "    </tr>\n",
       "    <tr>\n",
       "      <th>4</th>\n",
       "      <td>0</td>\n",
       "      <td>101.0</td>\n",
       "      <td>4.0</td>\n",
       "      <td>Man</td>\n",
       "      <td>asian</td>\n",
       "    </tr>\n",
       "    <tr>\n",
       "      <th>...</th>\n",
       "      <td>...</td>\n",
       "      <td>...</td>\n",
       "      <td>...</td>\n",
       "      <td>...</td>\n",
       "      <td>...</td>\n",
       "    </tr>\n",
       "    <tr>\n",
       "      <th>1171</th>\n",
       "      <td>0</td>\n",
       "      <td>9741.0</td>\n",
       "      <td>1171.0</td>\n",
       "      <td>Man</td>\n",
       "      <td>black</td>\n",
       "    </tr>\n",
       "    <tr>\n",
       "      <th>1172</th>\n",
       "      <td>1</td>\n",
       "      <td>9741.0</td>\n",
       "      <td>1172.0</td>\n",
       "      <td>Man</td>\n",
       "      <td>black</td>\n",
       "    </tr>\n",
       "    <tr>\n",
       "      <th>1173</th>\n",
       "      <td>2</td>\n",
       "      <td>9741.0</td>\n",
       "      <td>1173.0</td>\n",
       "      <td>Woman</td>\n",
       "      <td>white</td>\n",
       "    </tr>\n",
       "    <tr>\n",
       "      <th>1174</th>\n",
       "      <td>0</td>\n",
       "      <td>9761.0</td>\n",
       "      <td>1174.0</td>\n",
       "      <td>Man</td>\n",
       "      <td>asian</td>\n",
       "    </tr>\n",
       "    <tr>\n",
       "      <th>1175</th>\n",
       "      <td>0</td>\n",
       "      <td>9771.0</td>\n",
       "      <td>1175.0</td>\n",
       "      <td>Man</td>\n",
       "      <td>white</td>\n",
       "    </tr>\n",
       "  </tbody>\n",
       "</table>\n",
       "<p>1176 rows × 5 columns</p>\n",
       "</div>"
      ],
      "text/plain": [
       "      Unnamed: 0  frame_number  face_id gender             race\n",
       "0              0          31.0      0.0    Man            white\n",
       "1              0          51.0      1.0    Man            white\n",
       "2              0          71.0      2.0    Man            black\n",
       "3              0          91.0      3.0    Man  latino hispanic\n",
       "4              0         101.0      4.0    Man            asian\n",
       "...          ...           ...      ...    ...              ...\n",
       "1171           0        9741.0   1171.0    Man            black\n",
       "1172           1        9741.0   1172.0    Man            black\n",
       "1173           2        9741.0   1173.0  Woman            white\n",
       "1174           0        9761.0   1174.0    Man            asian\n",
       "1175           0        9771.0   1175.0    Man            white\n",
       "\n",
       "[1176 rows x 5 columns]"
      ]
     },
     "execution_count": 6,
     "metadata": {},
     "output_type": "execute_result"
    }
   ],
   "source": [
    "ace_ventura_df"
   ]
  },
  {
   "cell_type": "code",
   "execution_count": 7,
   "id": "dd77d7bd",
   "metadata": {},
   "outputs": [],
   "source": [
    "ace_ventura_df = ace_ventura_df.drop(columns=['Unnamed: 0'])"
   ]
  },
  {
   "cell_type": "markdown",
   "id": "c0533af8",
   "metadata": {},
   "source": [
    "# Movie data"
   ]
  },
  {
   "cell_type": "markdown",
   "id": "70c9b967",
   "metadata": {},
   "source": [
    "## Movie length"
   ]
  },
  {
   "cell_type": "markdown",
   "id": "4408252c",
   "metadata": {},
   "source": [
    "Movie in seconds, not sure if needed at all"
   ]
  },
  {
   "cell_type": "code",
   "execution_count": 52,
   "id": "91ddfb5e",
   "metadata": {},
   "outputs": [
    {
     "data": {
      "text/plain": [
       "array([  31.,   51.,   71.,   91.,  101.,  111.,  121.,  131.,  141.,\n",
       "        151.,  191.,  221.,  231.,  241.,  251.,  271.,  281.,  291.,\n",
       "        301.,  311.,  321.,  351.,  371.,  391.,  441.,  451.,  471.,\n",
       "        481.,  511.,  531.,  551.,  561.,  621.,  651.,  661.,  671.,\n",
       "        681.,  691.,  701.,  711.,  721.,  731.,  741.,  931.,  951.,\n",
       "        981.,  991., 1001., 1011., 1021., 1031., 1051., 1061., 1071.,\n",
       "       1081., 1111., 1121., 1141., 1151., 1161., 1171., 1181., 1191.,\n",
       "       1271., 1291., 1301., 1311., 1321., 1331., 1341., 1361., 1371.,\n",
       "       1381., 1391., 1401., 1411., 1421., 1431., 1441., 1451., 1461.,\n",
       "       1501., 1511., 1571., 1581., 1601., 1611., 1621., 1631., 1641.,\n",
       "       1651., 1661., 1681., 1691., 1701., 1721., 1731., 1741., 1761.,\n",
       "       1771., 1781., 1791., 1801., 1811., 1821., 1831., 1841., 1851.,\n",
       "       1861., 1901., 1941., 1951., 1961., 1991., 2001., 2011., 2021.,\n",
       "       2031., 2041., 2051., 2061., 2091., 2101., 2111., 2141., 2161.,\n",
       "       2171., 2181., 2191., 2201., 2211., 2221., 2231., 2241., 2251.,\n",
       "       2261., 2271., 2281., 2291., 2301., 2311., 2321., 2331., 2341.,\n",
       "       2351., 2361., 2371., 2381., 2391., 2401., 2411., 2421., 2431.,\n",
       "       2441., 2451., 2461., 2471., 2481., 2501., 2521., 2531., 2541.,\n",
       "       2551., 2561., 2571., 2581., 2591., 2601., 2611., 2621., 2631.,\n",
       "       2641., 2651., 2661., 2671., 2681., 2711., 2731., 2741., 2751.,\n",
       "       2761., 2771., 2821., 2831., 2841., 2861., 2871., 2891., 2911.,\n",
       "       2921., 2931., 2961., 2971., 2981., 3001., 3011., 3021., 3041.,\n",
       "       3051., 3061., 3071., 3081., 3091., 3101., 3111., 3121., 3131.,\n",
       "       3141., 3151., 3161., 3171., 3181., 3191., 3201., 3211., 3221.,\n",
       "       3231., 3241., 3251., 3261., 3271., 3281., 3291., 3301., 3311.,\n",
       "       3321., 3331., 3341., 3351., 3361., 3371., 3381., 3391., 3411.,\n",
       "       3461., 3471., 3541., 3581., 3611., 3661., 3671., 3681., 3701.,\n",
       "       3711., 3721., 3731., 3741., 3751., 3781., 3791., 3801., 3811.,\n",
       "       3831., 3841., 3851., 3871., 3881., 3891., 3901., 3911., 3921.,\n",
       "       3941., 3951., 3971., 3981., 3991., 4001., 4011., 4021., 4031.,\n",
       "       4051., 4061., 4091., 4101., 4111., 4121., 4141., 4151., 4161.,\n",
       "       4171., 4181., 4201., 4211., 4221., 4251., 4271., 4281., 4291.,\n",
       "       4301., 4311., 4361., 4371., 4381., 4391., 4401., 4411., 4421.,\n",
       "       4431., 4441., 4451., 4461., 4471., 4481., 4491., 4501., 4511.,\n",
       "       4521., 4531., 4541., 4561., 4601., 4621., 4631., 4641., 4651.,\n",
       "       4661., 4681., 4691., 4701., 4711., 4721., 4731., 4741., 4751.,\n",
       "       4761., 4771., 4791., 4801., 4811., 4821., 4831., 4841., 4851.,\n",
       "       4861., 4871., 4881., 4891., 4901., 4911., 4921., 4931., 4941.,\n",
       "       4951., 4961., 4971., 4981., 4991., 5001., 5011., 5021., 5031.,\n",
       "       5041., 5051., 5061., 5071., 5081., 5091., 5111., 5151., 5161.,\n",
       "       5171., 5181., 5191., 5201., 5211., 5221., 5231., 5241., 5251.,\n",
       "       5261., 5271., 5281., 5291., 5301., 5311., 5321., 5331., 5341.,\n",
       "       5351., 5361., 5391., 5401., 5411., 5421., 5431., 5441., 5451.,\n",
       "       5471., 5481., 5491., 5501., 5511., 5521., 5531., 5541., 5551.,\n",
       "       5561., 5601., 5641., 5651., 5661., 5671., 5771., 5781., 5801.,\n",
       "       5811., 5821., 5831., 5841., 5851., 5861., 5871., 5881., 5891.,\n",
       "       5911., 5921., 5931., 5941., 5951., 5961., 5971., 5981., 5991.,\n",
       "       6001., 6011., 6021., 6031., 6041., 6051., 6061., 6081., 6091.,\n",
       "       6111., 6131., 6151., 6211., 6241., 6251., 6261., 6271., 6281.,\n",
       "       6291., 6301., 6321., 6341., 6351., 6361., 6371., 6381., 6391.,\n",
       "       6421., 6431., 6451., 6461., 6491., 6501., 6511., 6521., 6531.,\n",
       "       6541., 6551., 6561., 6571., 6581., 6591., 6601., 6611., 6631.,\n",
       "       6641., 6651., 6661., 6671., 6681., 6701., 6711., 6721., 6731.,\n",
       "       6741., 6751., 6761., 6771., 6781., 6791., 6801., 6811., 6821.,\n",
       "       6831., 6841., 6851., 6861., 6871., 6881., 6901., 6911., 6921.,\n",
       "       6931., 6951., 6961., 7001., 7021., 7031., 7041., 7051., 7061.,\n",
       "       7071., 7081., 7091., 7101., 7111., 7121., 7131., 7151., 7171.,\n",
       "       7181., 7201., 7221., 7231., 7241., 7251., 7261., 7281., 7291.,\n",
       "       7311., 7321., 7341., 7351., 7361., 7411., 7421., 7441., 7451.,\n",
       "       7481., 7521., 7531., 7551., 7561., 7571., 7581., 7601., 7611.,\n",
       "       7661., 7711., 7721., 7731., 7741., 7751., 7761., 7771., 7781.,\n",
       "       7791., 7801., 7811., 7821., 7831., 7841., 7851., 7861., 7871.,\n",
       "       7891., 7901., 7911., 7921., 7931., 7941., 7951., 7961., 7971.,\n",
       "       7981., 8001., 8041., 8071., 8091., 8101., 8111., 8131., 8191.,\n",
       "       8221., 8231., 8241., 8261., 8271., 8281., 8291., 8311., 8341.,\n",
       "       8351., 8361., 8371., 8381., 8401., 8441., 8451., 8461., 8471.,\n",
       "       8481., 8491., 8541., 8561., 8581., 8601., 8611., 8641., 8651.,\n",
       "       8661., 8671., 8681., 8691., 8701., 8711., 8731., 8741., 8751.,\n",
       "       8781., 8791., 8801., 8811., 8821., 8841., 8851., 8861., 8871.,\n",
       "       8901., 8911., 8921., 8931., 8941., 8991., 9001., 9011., 9031.,\n",
       "       9041., 9051., 9061., 9071., 9081., 9091., 9101., 9111., 9121.,\n",
       "       9131., 9141., 9151., 9161., 9171., 9181., 9191., 9201., 9211.,\n",
       "       9221., 9231., 9241., 9251., 9261., 9271., 9281., 9291., 9301.,\n",
       "       9311., 9321., 9331., 9341., 9351., 9361., 9371., 9391., 9451.,\n",
       "       9471., 9531., 9541., 9561., 9581., 9591., 9601., 9611., 9621.,\n",
       "       9631., 9641., 9661., 9671., 9681., 9691., 9701., 9711., 9731.,\n",
       "       9741., 9761., 9771.])"
      ]
     },
     "execution_count": 52,
     "metadata": {},
     "output_type": "execute_result"
    }
   ],
   "source": [
    "pd.unique(ace_ventura_df['frame_number'])"
   ]
  },
  {
   "cell_type": "markdown",
   "id": "4b2ff850",
   "metadata": {},
   "source": [
    "## Face frames"
   ]
  },
  {
   "cell_type": "code",
   "execution_count": null,
   "id": "db105223",
   "metadata": {},
   "outputs": [],
   "source": []
  },
  {
   "cell_type": "code",
   "execution_count": 8,
   "id": "d487e1e5",
   "metadata": {},
   "outputs": [
    {
     "data": {
      "text/plain": [
       "687"
      ]
     },
     "execution_count": 8,
     "metadata": {},
     "output_type": "execute_result"
    }
   ],
   "source": [
    "face_frames = len(pd.unique(ace_ventura_df['frame_number']))\n",
    "face_frames"
   ]
  },
  {
   "cell_type": "markdown",
   "id": "6c9e28e1",
   "metadata": {},
   "source": [
    "`??` 1 sec = 2 frames `??`"
   ]
  },
  {
   "cell_type": "code",
   "execution_count": 9,
   "id": "a92e1772",
   "metadata": {},
   "outputs": [
    {
     "data": {
      "text/plain": [
       "343.5"
      ]
     },
     "execution_count": 9,
     "metadata": {},
     "output_type": "execute_result"
    }
   ],
   "source": [
    "face_frames_sec = face_frames / 2\n",
    "face_frames_sec"
   ]
  },
  {
   "cell_type": "markdown",
   "id": "ccde54ec",
   "metadata": {},
   "source": [
    "# Total number"
   ]
  },
  {
   "cell_type": "markdown",
   "id": "f42dfa8b",
   "metadata": {},
   "source": [
    "## people"
   ]
  },
  {
   "cell_type": "markdown",
   "id": "56d69ff1",
   "metadata": {},
   "source": [
    "`??` number of how many times a woman/men appears in frames != how many women/men are in the movie"
   ]
  },
  {
   "cell_type": "markdown",
   "id": "6219eac8",
   "metadata": {},
   "source": [
    "### total number of women"
   ]
  },
  {
   "cell_type": "code",
   "execution_count": 10,
   "id": "85713e46",
   "metadata": {},
   "outputs": [],
   "source": [
    "woman_df = ace_ventura_df[ace_ventura_df['gender']=='Woman']"
   ]
  },
  {
   "cell_type": "code",
   "execution_count": 11,
   "id": "7dc07ac8",
   "metadata": {},
   "outputs": [
    {
     "data": {
      "text/plain": [
       "222"
      ]
     },
     "execution_count": 11,
     "metadata": {},
     "output_type": "execute_result"
    }
   ],
   "source": [
    "number_women = len(woman_df)\n",
    "number_women"
   ]
  },
  {
   "cell_type": "markdown",
   "id": "60196935",
   "metadata": {},
   "source": [
    "### total number of men"
   ]
  },
  {
   "cell_type": "code",
   "execution_count": 12,
   "id": "b27e105a",
   "metadata": {},
   "outputs": [],
   "source": [
    "man_df = ace_ventura_df[ace_ventura_df['gender']=='Man']"
   ]
  },
  {
   "cell_type": "code",
   "execution_count": 13,
   "id": "b37f1f9e",
   "metadata": {},
   "outputs": [
    {
     "data": {
      "text/plain": [
       "954"
      ]
     },
     "execution_count": 13,
     "metadata": {},
     "output_type": "execute_result"
    }
   ],
   "source": [
    "number_men = len(man_df)\n",
    "number_men"
   ]
  },
  {
   "cell_type": "markdown",
   "id": "094a1d4c",
   "metadata": {},
   "source": [
    "## white"
   ]
  },
  {
   "cell_type": "markdown",
   "id": "97c793e0",
   "metadata": {},
   "source": [
    "### number of women-white"
   ]
  },
  {
   "cell_type": "code",
   "execution_count": 14,
   "id": "143a0a28",
   "metadata": {},
   "outputs": [
    {
     "data": {
      "text/plain": [
       "race\n",
       "asian               10\n",
       "black                3\n",
       "indian               1\n",
       "latino hispanic     15\n",
       "middle eastern       8\n",
       "white              185\n",
       "Name: race, dtype: int64"
      ]
     },
     "execution_count": 14,
     "metadata": {},
     "output_type": "execute_result"
    }
   ],
   "source": [
    "woman_df.groupby('race')['race'].count()"
   ]
  },
  {
   "cell_type": "code",
   "execution_count": 15,
   "id": "5fa73587",
   "metadata": {},
   "outputs": [
    {
     "data": {
      "text/plain": [
       "185"
      ]
     },
     "execution_count": 15,
     "metadata": {},
     "output_type": "execute_result"
    }
   ],
   "source": [
    "women_white = woman_df.groupby('race')['race'].count()['white']\n",
    "women_white"
   ]
  },
  {
   "cell_type": "markdown",
   "id": "2b0a8df9",
   "metadata": {},
   "source": [
    "### number of men-white"
   ]
  },
  {
   "cell_type": "code",
   "execution_count": 16,
   "id": "7740be93",
   "metadata": {},
   "outputs": [
    {
     "data": {
      "text/plain": [
       "race\n",
       "asian               93\n",
       "black               69\n",
       "indian               6\n",
       "latino hispanic     83\n",
       "middle eastern      88\n",
       "white              615\n",
       "Name: race, dtype: int64"
      ]
     },
     "execution_count": 16,
     "metadata": {},
     "output_type": "execute_result"
    }
   ],
   "source": [
    "man_df.groupby('race')['race'].count()"
   ]
  },
  {
   "cell_type": "code",
   "execution_count": 17,
   "id": "e3ad9b73",
   "metadata": {},
   "outputs": [
    {
     "data": {
      "text/plain": [
       "615"
      ]
     },
     "execution_count": 17,
     "metadata": {},
     "output_type": "execute_result"
    }
   ],
   "source": [
    "men_white = man_df.groupby('race')['race'].count()['white']\n",
    "men_white"
   ]
  },
  {
   "cell_type": "markdown",
   "id": "ee3f579f",
   "metadata": {},
   "source": [
    "## latino"
   ]
  },
  {
   "cell_type": "markdown",
   "id": "bad3113c",
   "metadata": {},
   "source": [
    "### number of women-latino"
   ]
  },
  {
   "cell_type": "code",
   "execution_count": 18,
   "id": "c834d870",
   "metadata": {},
   "outputs": [
    {
     "data": {
      "text/plain": [
       "15"
      ]
     },
     "execution_count": 18,
     "metadata": {},
     "output_type": "execute_result"
    }
   ],
   "source": [
    "women_latino = woman_df.groupby('race')['race'].count()['latino hispanic']\n",
    "women_latino"
   ]
  },
  {
   "cell_type": "markdown",
   "id": "dee652f6",
   "metadata": {},
   "source": [
    "### number of men-latino"
   ]
  },
  {
   "cell_type": "code",
   "execution_count": 19,
   "id": "69a56f40",
   "metadata": {},
   "outputs": [
    {
     "data": {
      "text/plain": [
       "83"
      ]
     },
     "execution_count": 19,
     "metadata": {},
     "output_type": "execute_result"
    }
   ],
   "source": [
    "men_latino = man_df.groupby('race')['race'].count()['latino hispanic']\n",
    "men_latino"
   ]
  },
  {
   "cell_type": "markdown",
   "id": "33290fa7",
   "metadata": {},
   "source": [
    "## black"
   ]
  },
  {
   "cell_type": "markdown",
   "id": "3f7284d5",
   "metadata": {},
   "source": [
    "### number of women-black"
   ]
  },
  {
   "cell_type": "code",
   "execution_count": 20,
   "id": "49d31602",
   "metadata": {},
   "outputs": [
    {
     "data": {
      "text/plain": [
       "3"
      ]
     },
     "execution_count": 20,
     "metadata": {},
     "output_type": "execute_result"
    }
   ],
   "source": [
    "women_black = woman_df.groupby('race')['race'].count()['black']\n",
    "women_black"
   ]
  },
  {
   "cell_type": "markdown",
   "id": "496d4aa0",
   "metadata": {},
   "source": [
    "### number of men-balck"
   ]
  },
  {
   "cell_type": "code",
   "execution_count": 21,
   "id": "6e447a6b",
   "metadata": {},
   "outputs": [
    {
     "data": {
      "text/plain": [
       "69"
      ]
     },
     "execution_count": 21,
     "metadata": {},
     "output_type": "execute_result"
    }
   ],
   "source": [
    "men_black = man_df.groupby('race')['race'].count()['black']\n",
    "men_black"
   ]
  },
  {
   "cell_type": "markdown",
   "id": "a01efc22",
   "metadata": {},
   "source": [
    "## asian"
   ]
  },
  {
   "cell_type": "markdown",
   "id": "548294f8",
   "metadata": {},
   "source": [
    "### number of women-asian"
   ]
  },
  {
   "cell_type": "code",
   "execution_count": 22,
   "id": "f41e2172",
   "metadata": {},
   "outputs": [
    {
     "data": {
      "text/plain": [
       "10"
      ]
     },
     "execution_count": 22,
     "metadata": {},
     "output_type": "execute_result"
    }
   ],
   "source": [
    "women_asian = woman_df.groupby('race')['race'].count()['asian']\n",
    "women_asian"
   ]
  },
  {
   "cell_type": "markdown",
   "id": "233da889",
   "metadata": {},
   "source": [
    "### number of men-asian"
   ]
  },
  {
   "cell_type": "code",
   "execution_count": 23,
   "id": "738a64f0",
   "metadata": {},
   "outputs": [
    {
     "data": {
      "text/plain": [
       "93"
      ]
     },
     "execution_count": 23,
     "metadata": {},
     "output_type": "execute_result"
    }
   ],
   "source": [
    "men_asian = man_df.groupby('race')['race'].count()['asian']\n",
    "men_asian"
   ]
  },
  {
   "cell_type": "markdown",
   "id": "b2403228",
   "metadata": {},
   "source": [
    "## middle eastern"
   ]
  },
  {
   "cell_type": "markdown",
   "id": "9c8efc8f",
   "metadata": {},
   "source": [
    "### number of women-middle eastern"
   ]
  },
  {
   "cell_type": "code",
   "execution_count": 24,
   "id": "e274d2f3",
   "metadata": {},
   "outputs": [
    {
     "data": {
      "text/plain": [
       "8"
      ]
     },
     "execution_count": 24,
     "metadata": {},
     "output_type": "execute_result"
    }
   ],
   "source": [
    "women_middleeastern = woman_df.groupby('race')['race'].count()['middle eastern']\n",
    "women_middleeastern"
   ]
  },
  {
   "cell_type": "markdown",
   "id": "e629eb12",
   "metadata": {},
   "source": [
    "### number of men-middle eastern"
   ]
  },
  {
   "cell_type": "code",
   "execution_count": 106,
   "id": "397e2914",
   "metadata": {},
   "outputs": [
    {
     "data": {
      "text/plain": [
       "88"
      ]
     },
     "execution_count": 106,
     "metadata": {},
     "output_type": "execute_result"
    }
   ],
   "source": [
    "men_middleeastern = man_df.groupby('race')['race'].count()['middle eastern']\n",
    "men_middleeastern"
   ]
  },
  {
   "cell_type": "markdown",
   "id": "e6599486",
   "metadata": {},
   "source": [
    "## indian"
   ]
  },
  {
   "cell_type": "markdown",
   "id": "76f2f5f0",
   "metadata": {},
   "source": [
    "### number of women-indian"
   ]
  },
  {
   "cell_type": "code",
   "execution_count": 99,
   "id": "d8c46128",
   "metadata": {},
   "outputs": [
    {
     "data": {
      "text/plain": [
       "1"
      ]
     },
     "execution_count": 99,
     "metadata": {},
     "output_type": "execute_result"
    }
   ],
   "source": [
    "women_indian = woman_df.groupby('race')['race'].count()['indian']\n",
    "women_indian"
   ]
  },
  {
   "cell_type": "markdown",
   "id": "26216e2d",
   "metadata": {},
   "source": [
    "### number of men-indian"
   ]
  },
  {
   "cell_type": "code",
   "execution_count": 25,
   "id": "dcbfe545",
   "metadata": {},
   "outputs": [
    {
     "data": {
      "text/plain": [
       "6"
      ]
     },
     "execution_count": 25,
     "metadata": {},
     "output_type": "execute_result"
    }
   ],
   "source": [
    "men_indian = man_df.groupby('race')['race'].count()['indian']\n",
    "men_indian"
   ]
  },
  {
   "cell_type": "markdown",
   "id": "80e50439",
   "metadata": {},
   "source": [
    "## non white"
   ]
  },
  {
   "cell_type": "markdown",
   "id": "f62bec6a",
   "metadata": {},
   "source": [
    "### number of women-non white"
   ]
  },
  {
   "cell_type": "code",
   "execution_count": 26,
   "id": "0248c77e",
   "metadata": {},
   "outputs": [],
   "source": [
    "women_nonwhite = number_women-women_white"
   ]
  },
  {
   "cell_type": "markdown",
   "id": "5e0d97ba",
   "metadata": {},
   "source": [
    "### number of men-non white"
   ]
  },
  {
   "cell_type": "code",
   "execution_count": 27,
   "id": "50eb9968",
   "metadata": {},
   "outputs": [],
   "source": [
    "men_nonwhite = number_men-men_white"
   ]
  },
  {
   "cell_type": "markdown",
   "id": "188f5a69",
   "metadata": {},
   "source": [
    "# Number of frames"
   ]
  },
  {
   "cell_type": "markdown",
   "id": "330d7deb",
   "metadata": {},
   "source": [
    "## number of frames with only women"
   ]
  },
  {
   "cell_type": "code",
   "execution_count": 28,
   "id": "81c4fa53",
   "metadata": {},
   "outputs": [],
   "source": [
    "df = ace_ventura_df"
   ]
  },
  {
   "cell_type": "code",
   "execution_count": 29,
   "id": "1a44662d",
   "metadata": {},
   "outputs": [],
   "source": [
    "df2 = df.groupby([\"frame_number\"]).nunique()[\"gender\"].reset_index()"
   ]
  },
  {
   "cell_type": "code",
   "execution_count": 30,
   "id": "aa3b286f",
   "metadata": {},
   "outputs": [],
   "source": [
    "df2['gender_value'] = df['gender']"
   ]
  },
  {
   "cell_type": "code",
   "execution_count": 31,
   "id": "32ee9f52",
   "metadata": {},
   "outputs": [
    {
     "data": {
      "text/plain": [
       "gender_value\n",
       "Man      433\n",
       "Woman    108\n",
       "Name: gender_value, dtype: int64"
      ]
     },
     "execution_count": 31,
     "metadata": {},
     "output_type": "execute_result"
    }
   ],
   "source": [
    "df3 = df2[df2.gender == 1]\n",
    "df3.groupby('gender_value')['gender_value'].count()"
   ]
  },
  {
   "cell_type": "code",
   "execution_count": 32,
   "id": "8dbd7203",
   "metadata": {},
   "outputs": [],
   "source": [
    "only_women = len(df3[df3['gender_value']=='Woman'])"
   ]
  },
  {
   "cell_type": "markdown",
   "id": "9e3d07f9",
   "metadata": {},
   "source": [
    "## number of frames with only men"
   ]
  },
  {
   "cell_type": "code",
   "execution_count": 33,
   "id": "d37e78ab",
   "metadata": {},
   "outputs": [],
   "source": [
    "only_men = len(df3[df3['gender_value']=='Man'])"
   ]
  },
  {
   "cell_type": "markdown",
   "id": "3f5db710",
   "metadata": {},
   "source": [
    "# Average screentime"
   ]
  },
  {
   "cell_type": "markdown",
   "id": "9e40ec63",
   "metadata": {},
   "source": [
    "## Gender"
   ]
  },
  {
   "cell_type": "code",
   "execution_count": 34,
   "id": "b3207393",
   "metadata": {},
   "outputs": [
    {
     "data": {
      "text/plain": [
       "687"
      ]
     },
     "execution_count": 34,
     "metadata": {},
     "output_type": "execute_result"
    }
   ],
   "source": [
    "face_frames"
   ]
  },
  {
   "cell_type": "code",
   "execution_count": 35,
   "id": "c07dadcd",
   "metadata": {},
   "outputs": [],
   "source": [
    "only_women_perc = only_women/face_frames*100"
   ]
  },
  {
   "cell_type": "code",
   "execution_count": 36,
   "id": "e3b35605",
   "metadata": {},
   "outputs": [
    {
     "data": {
      "text/plain": [
       "15.72052401746725"
      ]
     },
     "execution_count": 36,
     "metadata": {},
     "output_type": "execute_result"
    }
   ],
   "source": [
    "only_women_perc"
   ]
  },
  {
   "cell_type": "code",
   "execution_count": 38,
   "id": "c06e7672",
   "metadata": {},
   "outputs": [],
   "source": [
    "only_men_perc = only_men/face_frames*100"
   ]
  },
  {
   "cell_type": "code",
   "execution_count": 39,
   "id": "801a4e71",
   "metadata": {},
   "outputs": [
    {
     "data": {
      "text/plain": [
       "63.02765647743813"
      ]
     },
     "execution_count": 39,
     "metadata": {},
     "output_type": "execute_result"
    }
   ],
   "source": [
    "only_men_perc"
   ]
  },
  {
   "cell_type": "code",
   "execution_count": 40,
   "id": "c7d43385",
   "metadata": {},
   "outputs": [],
   "source": [
    "df_gender = df.groupby(['gender']).count().reset_index().drop(columns=['face_id','race'])"
   ]
  },
  {
   "cell_type": "code",
   "execution_count": 41,
   "id": "bb33132f",
   "metadata": {},
   "outputs": [
    {
     "data": {
      "text/html": [
       "<div>\n",
       "<style scoped>\n",
       "    .dataframe tbody tr th:only-of-type {\n",
       "        vertical-align: middle;\n",
       "    }\n",
       "\n",
       "    .dataframe tbody tr th {\n",
       "        vertical-align: top;\n",
       "    }\n",
       "\n",
       "    .dataframe thead th {\n",
       "        text-align: right;\n",
       "    }\n",
       "</style>\n",
       "<table border=\"1\" class=\"dataframe\">\n",
       "  <thead>\n",
       "    <tr style=\"text-align: right;\">\n",
       "      <th></th>\n",
       "      <th>gender</th>\n",
       "      <th>frame_number</th>\n",
       "      <th>gender_screentime</th>\n",
       "    </tr>\n",
       "  </thead>\n",
       "  <tbody>\n",
       "    <tr>\n",
       "      <th>0</th>\n",
       "      <td>Man</td>\n",
       "      <td>954</td>\n",
       "      <td>81.122449</td>\n",
       "    </tr>\n",
       "    <tr>\n",
       "      <th>1</th>\n",
       "      <td>Woman</td>\n",
       "      <td>222</td>\n",
       "      <td>18.877551</td>\n",
       "    </tr>\n",
       "  </tbody>\n",
       "</table>\n",
       "</div>"
      ],
      "text/plain": [
       "  gender  frame_number  gender_screentime\n",
       "0    Man           954          81.122449\n",
       "1  Woman           222          18.877551"
      ]
     },
     "execution_count": 41,
     "metadata": {},
     "output_type": "execute_result"
    }
   ],
   "source": [
    "df_gender['gender_screentime']=df_gender['frame_number']/df_gender['frame_number'].sum()*100\n",
    "df_gender"
   ]
  },
  {
   "cell_type": "code",
   "execution_count": 42,
   "id": "4b9831fc",
   "metadata": {},
   "outputs": [
    {
     "data": {
      "text/html": [
       "<div>\n",
       "<style scoped>\n",
       "    .dataframe tbody tr th:only-of-type {\n",
       "        vertical-align: middle;\n",
       "    }\n",
       "\n",
       "    .dataframe tbody tr th {\n",
       "        vertical-align: top;\n",
       "    }\n",
       "\n",
       "    .dataframe thead th {\n",
       "        text-align: right;\n",
       "    }\n",
       "</style>\n",
       "<table border=\"1\" class=\"dataframe\">\n",
       "  <thead>\n",
       "    <tr style=\"text-align: right;\">\n",
       "      <th></th>\n",
       "      <th>gender</th>\n",
       "      <th>only_1_gender</th>\n",
       "    </tr>\n",
       "  </thead>\n",
       "  <tbody>\n",
       "    <tr>\n",
       "      <th>0</th>\n",
       "      <td>Man</td>\n",
       "      <td>433</td>\n",
       "    </tr>\n",
       "    <tr>\n",
       "      <th>1</th>\n",
       "      <td>Woman</td>\n",
       "      <td>108</td>\n",
       "    </tr>\n",
       "  </tbody>\n",
       "</table>\n",
       "</div>"
      ],
      "text/plain": [
       "  gender  only_1_gender\n",
       "0    Man            433\n",
       "1  Woman            108"
      ]
     },
     "execution_count": 42,
     "metadata": {},
     "output_type": "execute_result"
    }
   ],
   "source": [
    "df_only = df3.groupby(['gender_value']).count().reset_index().drop(columns=['gender'])\n",
    "df_only = df_only.rename(columns={'frame_number': 'only_1_gender', 'gender_value':'gender'})\n",
    "df_only"
   ]
  },
  {
   "cell_type": "code",
   "execution_count": 43,
   "id": "0f758fab",
   "metadata": {},
   "outputs": [
    {
     "data": {
      "text/html": [
       "<div>\n",
       "<style scoped>\n",
       "    .dataframe tbody tr th:only-of-type {\n",
       "        vertical-align: middle;\n",
       "    }\n",
       "\n",
       "    .dataframe tbody tr th {\n",
       "        vertical-align: top;\n",
       "    }\n",
       "\n",
       "    .dataframe thead th {\n",
       "        text-align: right;\n",
       "    }\n",
       "</style>\n",
       "<table border=\"1\" class=\"dataframe\">\n",
       "  <thead>\n",
       "    <tr style=\"text-align: right;\">\n",
       "      <th></th>\n",
       "      <th>gender</th>\n",
       "      <th>frame_number</th>\n",
       "      <th>gender_screentime</th>\n",
       "      <th>only_1_gender</th>\n",
       "      <th>only_1_screentime</th>\n",
       "    </tr>\n",
       "  </thead>\n",
       "  <tbody>\n",
       "    <tr>\n",
       "      <th>0</th>\n",
       "      <td>Man</td>\n",
       "      <td>954</td>\n",
       "      <td>81.122449</td>\n",
       "      <td>433</td>\n",
       "      <td>80.036969</td>\n",
       "    </tr>\n",
       "    <tr>\n",
       "      <th>1</th>\n",
       "      <td>Woman</td>\n",
       "      <td>222</td>\n",
       "      <td>18.877551</td>\n",
       "      <td>108</td>\n",
       "      <td>19.963031</td>\n",
       "    </tr>\n",
       "  </tbody>\n",
       "</table>\n",
       "</div>"
      ],
      "text/plain": [
       "  gender  frame_number  gender_screentime  only_1_gender  only_1_screentime\n",
       "0    Man           954          81.122449            433          80.036969\n",
       "1  Woman           222          18.877551            108          19.963031"
      ]
     },
     "execution_count": 43,
     "metadata": {},
     "output_type": "execute_result"
    }
   ],
   "source": [
    "dfg = [df_gender, df_only]\n",
    "df_gender_final = reduce(lambda left,right: pd.merge(left,right,on='gender'), dfg)\n",
    "df_gender_final['only_1_screentime'] = df_gender_final['only_1_gender']/df_gender_final['only_1_gender'].sum()*100\n",
    "df_gender_final"
   ]
  },
  {
   "cell_type": "markdown",
   "id": "f95848a7",
   "metadata": {},
   "source": [
    "## Race"
   ]
  },
  {
   "cell_type": "code",
   "execution_count": 44,
   "id": "32616e84",
   "metadata": {},
   "outputs": [],
   "source": [
    "df_race = df.groupby(['race']).count().reset_index()"
   ]
  },
  {
   "cell_type": "code",
   "execution_count": 45,
   "id": "c06950fc",
   "metadata": {},
   "outputs": [
    {
     "data": {
      "text/plain": [
       "1176"
      ]
     },
     "execution_count": 45,
     "metadata": {},
     "output_type": "execute_result"
    }
   ],
   "source": [
    "df_race['frame_number'].sum()"
   ]
  },
  {
   "cell_type": "code",
   "execution_count": 46,
   "id": "d8e371e1",
   "metadata": {},
   "outputs": [],
   "source": [
    "df_race['race_screentime']=df_race['frame_number']/df_race['frame_number'].sum()*100"
   ]
  },
  {
   "cell_type": "code",
   "execution_count": 47,
   "id": "88997cb7",
   "metadata": {},
   "outputs": [],
   "source": [
    "df_race = df_race.drop(columns=['face_id','gender'])"
   ]
  },
  {
   "cell_type": "code",
   "execution_count": 48,
   "id": "f7658a31",
   "metadata": {
    "scrolled": true
   },
   "outputs": [
    {
     "data": {
      "text/html": [
       "<div>\n",
       "<style scoped>\n",
       "    .dataframe tbody tr th:only-of-type {\n",
       "        vertical-align: middle;\n",
       "    }\n",
       "\n",
       "    .dataframe tbody tr th {\n",
       "        vertical-align: top;\n",
       "    }\n",
       "\n",
       "    .dataframe thead th {\n",
       "        text-align: right;\n",
       "    }\n",
       "</style>\n",
       "<table border=\"1\" class=\"dataframe\">\n",
       "  <thead>\n",
       "    <tr style=\"text-align: right;\">\n",
       "      <th></th>\n",
       "      <th>race</th>\n",
       "      <th>frame_number</th>\n",
       "      <th>race_screentime</th>\n",
       "    </tr>\n",
       "  </thead>\n",
       "  <tbody>\n",
       "    <tr>\n",
       "      <th>0</th>\n",
       "      <td>asian</td>\n",
       "      <td>103</td>\n",
       "      <td>8.758503</td>\n",
       "    </tr>\n",
       "    <tr>\n",
       "      <th>1</th>\n",
       "      <td>black</td>\n",
       "      <td>72</td>\n",
       "      <td>6.122449</td>\n",
       "    </tr>\n",
       "    <tr>\n",
       "      <th>2</th>\n",
       "      <td>indian</td>\n",
       "      <td>7</td>\n",
       "      <td>0.595238</td>\n",
       "    </tr>\n",
       "    <tr>\n",
       "      <th>3</th>\n",
       "      <td>latino hispanic</td>\n",
       "      <td>98</td>\n",
       "      <td>8.333333</td>\n",
       "    </tr>\n",
       "    <tr>\n",
       "      <th>4</th>\n",
       "      <td>middle eastern</td>\n",
       "      <td>96</td>\n",
       "      <td>8.163265</td>\n",
       "    </tr>\n",
       "    <tr>\n",
       "      <th>5</th>\n",
       "      <td>white</td>\n",
       "      <td>800</td>\n",
       "      <td>68.027211</td>\n",
       "    </tr>\n",
       "  </tbody>\n",
       "</table>\n",
       "</div>"
      ],
      "text/plain": [
       "              race  frame_number  race_screentime\n",
       "0            asian           103         8.758503\n",
       "1            black            72         6.122449\n",
       "2           indian             7         0.595238\n",
       "3  latino hispanic            98         8.333333\n",
       "4   middle eastern            96         8.163265\n",
       "5            white           800        68.027211"
      ]
     },
     "execution_count": 48,
     "metadata": {},
     "output_type": "execute_result"
    }
   ],
   "source": [
    "df_race"
   ]
  },
  {
   "cell_type": "code",
   "execution_count": 49,
   "id": "8282ee37",
   "metadata": {},
   "outputs": [
    {
     "data": {
      "text/html": [
       "<div>\n",
       "<style scoped>\n",
       "    .dataframe tbody tr th:only-of-type {\n",
       "        vertical-align: middle;\n",
       "    }\n",
       "\n",
       "    .dataframe tbody tr th {\n",
       "        vertical-align: top;\n",
       "    }\n",
       "\n",
       "    .dataframe thead th {\n",
       "        text-align: right;\n",
       "    }\n",
       "</style>\n",
       "<table border=\"1\" class=\"dataframe\">\n",
       "  <thead>\n",
       "    <tr style=\"text-align: right;\">\n",
       "      <th></th>\n",
       "      <th>race</th>\n",
       "      <th>woman_frames</th>\n",
       "    </tr>\n",
       "  </thead>\n",
       "  <tbody>\n",
       "    <tr>\n",
       "      <th>0</th>\n",
       "      <td>asian</td>\n",
       "      <td>10</td>\n",
       "    </tr>\n",
       "    <tr>\n",
       "      <th>1</th>\n",
       "      <td>black</td>\n",
       "      <td>3</td>\n",
       "    </tr>\n",
       "    <tr>\n",
       "      <th>2</th>\n",
       "      <td>indian</td>\n",
       "      <td>1</td>\n",
       "    </tr>\n",
       "    <tr>\n",
       "      <th>3</th>\n",
       "      <td>latino hispanic</td>\n",
       "      <td>15</td>\n",
       "    </tr>\n",
       "    <tr>\n",
       "      <th>4</th>\n",
       "      <td>middle eastern</td>\n",
       "      <td>8</td>\n",
       "    </tr>\n",
       "    <tr>\n",
       "      <th>5</th>\n",
       "      <td>white</td>\n",
       "      <td>185</td>\n",
       "    </tr>\n",
       "  </tbody>\n",
       "</table>\n",
       "</div>"
      ],
      "text/plain": [
       "              race  woman_frames\n",
       "0            asian            10\n",
       "1            black             3\n",
       "2           indian             1\n",
       "3  latino hispanic            15\n",
       "4   middle eastern             8\n",
       "5            white           185"
      ]
     },
     "execution_count": 49,
     "metadata": {},
     "output_type": "execute_result"
    }
   ],
   "source": [
    "women_by_race = woman_df.groupby(['race']).count().reset_index()\n",
    "women_by_race = women_by_race.drop(columns=['face_id','gender'])\n",
    "women_by_race = women_by_race.rename(columns={'frame_number': 'woman_frames'})\n",
    "women_by_race"
   ]
  },
  {
   "cell_type": "code",
   "execution_count": 50,
   "id": "ff2193df",
   "metadata": {},
   "outputs": [
    {
     "data": {
      "text/html": [
       "<div>\n",
       "<style scoped>\n",
       "    .dataframe tbody tr th:only-of-type {\n",
       "        vertical-align: middle;\n",
       "    }\n",
       "\n",
       "    .dataframe tbody tr th {\n",
       "        vertical-align: top;\n",
       "    }\n",
       "\n",
       "    .dataframe thead th {\n",
       "        text-align: right;\n",
       "    }\n",
       "</style>\n",
       "<table border=\"1\" class=\"dataframe\">\n",
       "  <thead>\n",
       "    <tr style=\"text-align: right;\">\n",
       "      <th></th>\n",
       "      <th>race</th>\n",
       "      <th>man_frames</th>\n",
       "    </tr>\n",
       "  </thead>\n",
       "  <tbody>\n",
       "    <tr>\n",
       "      <th>0</th>\n",
       "      <td>asian</td>\n",
       "      <td>93</td>\n",
       "    </tr>\n",
       "    <tr>\n",
       "      <th>1</th>\n",
       "      <td>black</td>\n",
       "      <td>69</td>\n",
       "    </tr>\n",
       "    <tr>\n",
       "      <th>2</th>\n",
       "      <td>indian</td>\n",
       "      <td>6</td>\n",
       "    </tr>\n",
       "    <tr>\n",
       "      <th>3</th>\n",
       "      <td>latino hispanic</td>\n",
       "      <td>83</td>\n",
       "    </tr>\n",
       "    <tr>\n",
       "      <th>4</th>\n",
       "      <td>middle eastern</td>\n",
       "      <td>88</td>\n",
       "    </tr>\n",
       "    <tr>\n",
       "      <th>5</th>\n",
       "      <td>white</td>\n",
       "      <td>615</td>\n",
       "    </tr>\n",
       "  </tbody>\n",
       "</table>\n",
       "</div>"
      ],
      "text/plain": [
       "              race  man_frames\n",
       "0            asian          93\n",
       "1            black          69\n",
       "2           indian           6\n",
       "3  latino hispanic          83\n",
       "4   middle eastern          88\n",
       "5            white         615"
      ]
     },
     "execution_count": 50,
     "metadata": {},
     "output_type": "execute_result"
    }
   ],
   "source": [
    "men_by_race = man_df.groupby(['race']).count().reset_index()\n",
    "men_by_race = men_by_race.drop(columns=['face_id','gender'])\n",
    "men_by_race = men_by_race.rename(columns={'frame_number': 'man_frames'})\n",
    "men_by_race"
   ]
  },
  {
   "cell_type": "code",
   "execution_count": 51,
   "id": "7d368a34",
   "metadata": {},
   "outputs": [],
   "source": [
    "dfs = [df_race, women_by_race, men_by_race]\n",
    "\n",
    "df_race_final = reduce(lambda left,right: pd.merge(left,right,on='race'), dfs)\n",
    "df_race_final['woman_r_screentime'] = df_race_final['woman_frames']/df_race_final['frame_number']*100\n",
    "df_race_final['man_r_screentime'] = df_race_final['man_frames']/df_race_final['frame_number']*100"
   ]
  },
  {
   "cell_type": "markdown",
   "id": "6d8589ac",
   "metadata": {},
   "source": [
    "# Final dataframes to csvs"
   ]
  },
  {
   "cell_type": "code",
   "execution_count": 210,
   "id": "7406b136",
   "metadata": {},
   "outputs": [
    {
     "data": {
      "text/html": [
       "<div>\n",
       "<style scoped>\n",
       "    .dataframe tbody tr th:only-of-type {\n",
       "        vertical-align: middle;\n",
       "    }\n",
       "\n",
       "    .dataframe tbody tr th {\n",
       "        vertical-align: top;\n",
       "    }\n",
       "\n",
       "    .dataframe thead th {\n",
       "        text-align: right;\n",
       "    }\n",
       "</style>\n",
       "<table border=\"1\" class=\"dataframe\">\n",
       "  <thead>\n",
       "    <tr style=\"text-align: right;\">\n",
       "      <th></th>\n",
       "      <th>race</th>\n",
       "      <th>frame_number</th>\n",
       "      <th>race_screentime</th>\n",
       "      <th>woman_frames</th>\n",
       "      <th>man_frames</th>\n",
       "      <th>woman_r_screentime</th>\n",
       "      <th>man_r_screentime</th>\n",
       "    </tr>\n",
       "  </thead>\n",
       "  <tbody>\n",
       "    <tr>\n",
       "      <th>0</th>\n",
       "      <td>asian</td>\n",
       "      <td>103</td>\n",
       "      <td>8.758503</td>\n",
       "      <td>10</td>\n",
       "      <td>93</td>\n",
       "      <td>9.708738</td>\n",
       "      <td>90.291262</td>\n",
       "    </tr>\n",
       "    <tr>\n",
       "      <th>1</th>\n",
       "      <td>black</td>\n",
       "      <td>72</td>\n",
       "      <td>6.122449</td>\n",
       "      <td>3</td>\n",
       "      <td>69</td>\n",
       "      <td>4.166667</td>\n",
       "      <td>95.833333</td>\n",
       "    </tr>\n",
       "    <tr>\n",
       "      <th>2</th>\n",
       "      <td>indian</td>\n",
       "      <td>7</td>\n",
       "      <td>0.595238</td>\n",
       "      <td>1</td>\n",
       "      <td>6</td>\n",
       "      <td>14.285714</td>\n",
       "      <td>85.714286</td>\n",
       "    </tr>\n",
       "    <tr>\n",
       "      <th>3</th>\n",
       "      <td>latino hispanic</td>\n",
       "      <td>98</td>\n",
       "      <td>8.333333</td>\n",
       "      <td>15</td>\n",
       "      <td>83</td>\n",
       "      <td>15.306122</td>\n",
       "      <td>84.693878</td>\n",
       "    </tr>\n",
       "    <tr>\n",
       "      <th>4</th>\n",
       "      <td>middle eastern</td>\n",
       "      <td>96</td>\n",
       "      <td>8.163265</td>\n",
       "      <td>8</td>\n",
       "      <td>88</td>\n",
       "      <td>8.333333</td>\n",
       "      <td>91.666667</td>\n",
       "    </tr>\n",
       "    <tr>\n",
       "      <th>5</th>\n",
       "      <td>white</td>\n",
       "      <td>800</td>\n",
       "      <td>68.027211</td>\n",
       "      <td>185</td>\n",
       "      <td>615</td>\n",
       "      <td>23.125000</td>\n",
       "      <td>76.875000</td>\n",
       "    </tr>\n",
       "  </tbody>\n",
       "</table>\n",
       "</div>"
      ],
      "text/plain": [
       "              race  frame_number  race_screentime  woman_frames  man_frames  \\\n",
       "0            asian           103         8.758503            10          93   \n",
       "1            black            72         6.122449             3          69   \n",
       "2           indian             7         0.595238             1           6   \n",
       "3  latino hispanic            98         8.333333            15          83   \n",
       "4   middle eastern            96         8.163265             8          88   \n",
       "5            white           800        68.027211           185         615   \n",
       "\n",
       "   woman_r_screentime  man_r_screentime  \n",
       "0            9.708738         90.291262  \n",
       "1            4.166667         95.833333  \n",
       "2           14.285714         85.714286  \n",
       "3           15.306122         84.693878  \n",
       "4            8.333333         91.666667  \n",
       "5           23.125000         76.875000  "
      ]
     },
     "execution_count": 210,
     "metadata": {},
     "output_type": "execute_result"
    }
   ],
   "source": [
    "df_race_final"
   ]
  },
  {
   "cell_type": "code",
   "execution_count": 246,
   "id": "0dae254c",
   "metadata": {},
   "outputs": [
    {
     "data": {
      "text/html": [
       "<div>\n",
       "<style scoped>\n",
       "    .dataframe tbody tr th:only-of-type {\n",
       "        vertical-align: middle;\n",
       "    }\n",
       "\n",
       "    .dataframe tbody tr th {\n",
       "        vertical-align: top;\n",
       "    }\n",
       "\n",
       "    .dataframe thead th {\n",
       "        text-align: right;\n",
       "    }\n",
       "</style>\n",
       "<table border=\"1\" class=\"dataframe\">\n",
       "  <thead>\n",
       "    <tr style=\"text-align: right;\">\n",
       "      <th></th>\n",
       "      <th>gender</th>\n",
       "      <th>frame_number</th>\n",
       "      <th>gender_screentime</th>\n",
       "      <th>only_1_gender</th>\n",
       "      <th>only_1_screentime</th>\n",
       "    </tr>\n",
       "  </thead>\n",
       "  <tbody>\n",
       "    <tr>\n",
       "      <th>0</th>\n",
       "      <td>Man</td>\n",
       "      <td>954</td>\n",
       "      <td>81.122449</td>\n",
       "      <td>433</td>\n",
       "      <td>80.036969</td>\n",
       "    </tr>\n",
       "    <tr>\n",
       "      <th>1</th>\n",
       "      <td>Woman</td>\n",
       "      <td>222</td>\n",
       "      <td>18.877551</td>\n",
       "      <td>108</td>\n",
       "      <td>19.963031</td>\n",
       "    </tr>\n",
       "  </tbody>\n",
       "</table>\n",
       "</div>"
      ],
      "text/plain": [
       "  gender  frame_number  gender_screentime  only_1_gender  only_1_screentime\n",
       "0    Man           954          81.122449            433          80.036969\n",
       "1  Woman           222          18.877551            108          19.963031"
      ]
     },
     "execution_count": 246,
     "metadata": {},
     "output_type": "execute_result"
    }
   ],
   "source": [
    "df_gender_final"
   ]
  },
  {
   "cell_type": "code",
   "execution_count": 247,
   "id": "5736a18a",
   "metadata": {},
   "outputs": [],
   "source": [
    "#df_race_final.to_csv(r'Path where you want to store the exported CSV file\\File Name.csv', index = False)"
   ]
  },
  {
   "cell_type": "code",
   "execution_count": 248,
   "id": "4be63bd3",
   "metadata": {},
   "outputs": [],
   "source": [
    "#df_gender_final.to_csv(r'Path where you want to store the exported CSV file\\File Name.csv', index = False)"
   ]
  }
 ],
 "metadata": {
  "kernelspec": {
   "display_name": "Python 3 (ipykernel)",
   "language": "python",
   "name": "python3"
  },
  "language_info": {
   "codemirror_mode": {
    "name": "ipython",
    "version": 3
   },
   "file_extension": ".py",
   "mimetype": "text/x-python",
   "name": "python",
   "nbconvert_exporter": "python",
   "pygments_lexer": "ipython3",
   "version": "3.8.12"
  },
  "toc": {
   "base_numbering": 1,
   "nav_menu": {},
   "number_sections": true,
   "sideBar": true,
   "skip_h1_title": false,
   "title_cell": "Table of Contents",
   "title_sidebar": "Contents",
   "toc_cell": false,
   "toc_position": {},
   "toc_section_display": true,
   "toc_window_display": false
  }
 },
 "nbformat": 4,
 "nbformat_minor": 5
}
