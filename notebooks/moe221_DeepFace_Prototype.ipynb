{
 "cells": [
  {
   "cell_type": "markdown",
   "metadata": {
    "toc": true
   },
   "source": [
    "<h1>Table of Contents<span class=\"tocSkip\"></span></h1>\n",
    "<div class=\"toc\"><ul class=\"toc-item\"><li><span><a href=\"#Prototyping-DeepFace\" data-toc-modified-id=\"Prototyping-DeepFace-1\"><span class=\"toc-item-num\">1&nbsp;&nbsp;</span>Prototyping DeepFace</a></span><ul class=\"toc-item\"><li><span><a href=\"#1.-Mount-Google-Storage-Bucket\" data-toc-modified-id=\"1.-Mount-Google-Storage-Bucket-1.1\"><span class=\"toc-item-num\">1.1&nbsp;&nbsp;</span>1. Mount Google Storage Bucket</a></span></li><li><span><a href=\"#2.-Transfer-Learning\" data-toc-modified-id=\"2.-Transfer-Learning-1.2\"><span class=\"toc-item-num\">1.2&nbsp;&nbsp;</span>2. Transfer Learning</a></span></li></ul></li></ul></div>"
   ]
  },
  {
   "cell_type": "markdown",
   "metadata": {
    "id": "2QCKrCbbYWSy"
   },
   "source": [
    "# Prototyping DeepFace "
   ]
  },
  {
   "cell_type": "markdown",
   "metadata": {
    "id": "SgOvtDCsYWlQ"
   },
   "source": [
    "## 1. Mount Google Storage Bucket "
   ]
  },
  {
   "cell_type": "code",
   "execution_count": 1,
   "metadata": {
    "id": "PII43_d6YW5J"
   },
   "outputs": [],
   "source": [
    "from google.colab import auth\n",
    "auth.authenticate_user()"
   ]
  },
  {
   "cell_type": "code",
   "execution_count": 2,
   "metadata": {
    "colab": {
     "base_uri": "https://localhost:8080/"
    },
    "id": "yz5FPNOjVn3g",
    "outputId": "dc70565a-79dd-48df-966b-94dc6f7fd21c"
   },
   "outputs": [
    {
     "name": "stdout",
     "output_type": "stream",
     "text": [
      "  % Total    % Received % Xferd  Average Speed   Time    Time     Time  Current\n",
      "                                 Dload  Upload   Total   Spent    Left  Speed\n",
      "\r",
      "  0     0    0     0    0     0      0      0 --:--:-- --:--:-- --:--:--     0\r",
      "100  2537  100  2537    0     0  87482      0 --:--:-- --:--:-- --:--:-- 87482\n",
      "OK\n",
      "39 packages can be upgraded. Run 'apt list --upgradable' to see them.\n",
      "The following NEW packages will be installed:\n",
      "  gcsfuse\n",
      "0 upgraded, 1 newly installed, 0 to remove and 39 not upgraded.\n",
      "Need to get 11.3 MB of archives.\n",
      "After this operation, 24.0 MB of additional disk space will be used.\n",
      "Selecting previously unselected package gcsfuse.\n",
      "(Reading database ... 155222 files and directories currently installed.)\n",
      "Preparing to unpack .../gcsfuse_0.37.0_amd64.deb ...\n",
      "Unpacking gcsfuse (0.37.0) ...\n",
      "Setting up gcsfuse (0.37.0) ...\n"
     ]
    }
   ],
   "source": [
    "!echo \"deb http://packages.cloud.google.com/apt gcsfuse-bionic main\" > /etc/apt/sources.list.d/gcsfuse.list\n",
    "!curl https://packages.cloud.google.com/apt/doc/apt-key.gpg | apt-key add -\n",
    "!apt -qq update\n",
    "!apt -qq install gcsfuse"
   ]
  },
  {
   "cell_type": "code",
   "execution_count": 3,
   "metadata": {
    "colab": {
     "base_uri": "https://localhost:8080/"
    },
    "id": "URkhtScZV1EF",
    "outputId": "e9c87230-50dd-4638-cb47-7c0715426f4b"
   },
   "outputs": [
    {
     "name": "stdout",
     "output_type": "stream",
     "text": [
      "2021/11/23 18:59:51.311335 Start gcsfuse/0.37.0 (Go version go1.17.2) for app \"\" using mount point: /content/data\n",
      "2021/11/23 18:59:51.320934 Opening GCS connection...\n",
      "2021/11/23 18:59:51.881226 Mounting file system \"diversity-in-cinema-735\"...\n",
      "2021/11/23 18:59:51.913663 File system has been successfully mounted.\n"
     ]
    }
   ],
   "source": [
    "!mkdir data\n",
    "!gcsfuse --implicit-dirs diversity-in-cinema-735 data "
   ]
  },
  {
   "cell_type": "code",
   "execution_count": 12,
   "metadata": {
    "id": "wdqO-N_4XFhz"
   },
   "outputs": [],
   "source": [
    "# imports\n",
    "import numpy as np\n",
    "import pandas as pd\n",
    "import os\n",
    "\n",
    "from PIL import Image\n",
    "\n",
    "\n",
    "from tensorflow.keras import layers, models, Sequential \n",
    "from tensorflow.keras.utils import to_categorical\n",
    "from tensorflow.keras import optimizers\n",
    "\n",
    "from sklearn.model_selection import train_test_split\n",
    "from sklearn.preprocessing import LabelEncoder"
   ]
  },
  {
   "cell_type": "markdown",
   "metadata": {
    "id": "wRrb5KsWdL-i"
   },
   "source": [
    "## 2. Transfer Learning"
   ]
  },
  {
   "cell_type": "code",
   "execution_count": 7,
   "metadata": {
    "id": "64W74MPIdQD6"
   },
   "outputs": [],
   "source": [
    "# build deepface model using published architecture\n",
    "# https://www.cs.toronto.edu/~ranzato/publications/taigman_cvpr14.pdf\n",
    "\n",
    "def load_model():\n",
    "\n",
    "    model = Sequential()\n",
    "    model.add(layers.Convolution2D(32, (11, 11), activation='relu', name='C1', input_shape=(152, 152, 3)))\n",
    "    model.add(layers.MaxPooling2D(pool_size=3, strides=2, padding='same', name='M2'))\n",
    "    model.add(layers.Convolution2D(16, (9, 9), activation='relu', name='C3'))\n",
    "    model.add(layers.LocallyConnected2D(16, (9, 9), activation='relu', name='L4'))\n",
    "    model.add(layers.LocallyConnected2D(16, (7, 7), strides=2, activation='relu', name='L5') )\n",
    "    model.add(layers.LocallyConnected2D(16, (5, 5), activation='relu', name='L6'))\n",
    "    \n",
    "\n",
    "    # remove fully connected layers\n",
    "    \n",
    "    # model.add(layers.Flatten(name='F0'))\n",
    "    # model.add(layers.Dense(4096, activation='relu', name='F7'))\n",
    "    # model.add(layers.Dropout(rate=0.5, name='D0'))\n",
    "    # model.add(layers.Dense(8631, activation='softmax', name='F8'))\n",
    "\n",
    "    # load pretrained weigths\n",
    "    # https://github.com/swghosh/DeepFace/releases\n",
    "    model.load_weights(\"data/model/model_weights/DeepFace_weights.h5\", skip_mismatch=True, by_name=True)\n",
    "\n",
    "    return model"
   ]
  },
  {
   "cell_type": "code",
   "execution_count": 8,
   "metadata": {
    "id": "SF_JqT0y3ERj"
   },
   "outputs": [],
   "source": [
    "def set_nontrainable_layers(model):\n",
    "    # Set the first layers to be untrainable\n",
    "    model.trainable = False\n",
    "    return model"
   ]
  },
  {
   "cell_type": "code",
   "execution_count": 64,
   "metadata": {
    "id": "WCA_N0rK3cps"
   },
   "outputs": [],
   "source": [
    "def add_last_layers(model):\n",
    "    '''Take a pre-trained model, set its parameters as non-trainables, and add additional trainable layers on top'''\n",
    "    \n",
    "    flattening_layer = layers.Flatten()\n",
    "    dense_layer = layers.Dense(1000, activation=\"relu\")\n",
    "    prediction_layer = layers.Dense(14, activation=\"softmax\")\n",
    "\n",
    "    model = Sequential([\n",
    "                        model,\n",
    "                        flattening_layer,\n",
    "                        dense_layer,\n",
    "                        prediction_layer \n",
    "                        ])\n",
    "    return model"
   ]
  },
  {
   "cell_type": "code",
   "execution_count": 65,
   "metadata": {
    "id": "8_tk24T94f6S"
   },
   "outputs": [],
   "source": [
    "def build_model():\n",
    "\n",
    "\n",
    "    model = load_model()\n",
    "    model = set_nontrainable_layers(model)\n",
    "    model = add_last_layers(model)\n",
    "\n",
    "    model.compile(loss=\"categorical_crossentropy\",\n",
    "                  optimizer=optimizers.Adam(learning_rate=1e-4),\n",
    "                  metrics=[\"accuracy\"])\n",
    "\n",
    "    return model"
   ]
  },
  {
   "cell_type": "code",
   "execution_count": 66,
   "metadata": {
    "id": "UHQ2IVGK5hHQ"
   },
   "outputs": [],
   "source": [
    "def encode_labels(y):\n",
    "    le = LabelEncoder()\n",
    "    le.fit(y)\n",
    "    return le.transform(y)"
   ]
  },
  {
   "cell_type": "code",
   "execution_count": 58,
   "metadata": {
    "id": "CNK_GUOXYSSn"
   },
   "outputs": [],
   "source": [
    "def get_labels():\n",
    "\n",
    "  path = \"data/data/training_data/train\"\n",
    "\n",
    "  df = pd.read_csv(\"data/data/training_data/fairface_label_train.csv\")\n",
    "\n",
    "  df[\"target\"] = df[\"gender\"] + \"-\" + df[\"race\"]\n",
    "\n",
    "  return df"
   ]
  },
  {
   "cell_type": "code",
   "execution_count": 59,
   "metadata": {
    "id": "IbCuBTeKLOaE"
   },
   "outputs": [],
   "source": [
    "def random_balanced_sample(dataframe, sample_size=5000, balance_on=\"target\"):\n",
    "\n",
    "  \"\"\"\n",
    "  function that given a dataframe returns a random balanced subsample balanced\n",
    "  on a desired feature\n",
    "  \n",
    "  \"\"\"\n",
    "\n",
    "  classes = dataframe[balance_on].unique()\n",
    "  number_of_classes = len(classes)\n",
    "\n",
    "  sample_dfs = []\n",
    "  for label in classes:\n",
    "\n",
    "      df_class = dataframe[dataframe[balance_on] == label]\n",
    "      sample = df_class.sample(int(sample_size/len(classes)))\n",
    "      sample_dfs.append(sample)\n",
    "\n",
    "  return pd.concat(sample_dfs, axis=0)\n"
   ]
  },
  {
   "cell_type": "code",
   "execution_count": 61,
   "metadata": {
    "id": "1aHeU63j3-ng"
   },
   "outputs": [],
   "source": [
    "from tqdm import tqdm\n",
    "\n",
    "def get_training_data():\n",
    "\n",
    "    image_path = \"data/data/training_data/train\"\n",
    "\n",
    "    labels = get_labels()\n",
    "    labels = random_balanced_sample(labels, sample_size=5000, balance_on=\"target\")\n",
    "\n",
    "    img_list = []\n",
    "\n",
    "    for image_name in tqdm(labels[\"file\"].values):\n",
    "        img_path = os.path.join(\"data/data/training_data\", image_name)\n",
    "        image = np.array(Image.open(img_path).resize((152,152)))\n",
    "        img_list.append(image)\n",
    "    \n",
    "    X = np.array(img_list)\n",
    "    print(len(X))\n",
    "    y = labels[\"target\"].values\n",
    "    y_encoded = encode_labels(y)\n",
    "    y_cat = to_categorical(y_encoded)  \n",
    "    \n",
    "    X_train, X_test, y_train, y_test = train_test_split(X, y_cat, test_size=0.3)\n",
    "    X_train, X_val, y_train, y_val = train_test_split(X_train, y_train, test_size=0.3)\n",
    "    \n",
    "    return X_train, y_train, X_val, y_val, X_test, y_test"
   ]
  },
  {
   "cell_type": "code",
   "execution_count": 62,
   "metadata": {
    "colab": {
     "base_uri": "https://localhost:8080/"
    },
    "id": "pDwkJOcrFUJb",
    "outputId": "1bdd25b5-99b4-4468-fcfe-438ee787ae06"
   },
   "outputs": [
    {
     "name": "stdout",
     "output_type": "stream",
     "text": [
      "4998\n"
     ]
    }
   ],
   "source": [
    "X_train, y_train, X_val, y_val, X_test, y_test = get_training_data()"
   ]
  },
  {
   "cell_type": "code",
   "execution_count": null,
   "metadata": {
    "colab": {
     "base_uri": "https://localhost:8080/"
    },
    "id": "qZWQxPbxjuE_",
    "outputId": "8447237a-0952-4baf-dec4-3d608344cb60"
   },
   "outputs": [
    {
     "name": "stdout",
     "output_type": "stream",
     "text": [
      "Epoch 1/20\n"
     ]
    }
   ],
   "source": [
    "from tensorflow.keras.callbacks import EarlyStopping\n",
    "es = EarlyStopping(patience=20, restore_best_weights=True)\n",
    "\n",
    "model = build_model()\n",
    "model.fit(x=X_train,\n",
    "          y=y_train,\n",
    "          validation_data=(X_val, y_val),\n",
    "          batch_size=16,\n",
    "          epochs=20,\n",
    "          callbacks=[es],\n",
    "          verbose=2)"
   ]
  },
  {
   "cell_type": "code",
   "execution_count": null,
   "metadata": {
    "id": "EALW1zBpQjdz"
   },
   "outputs": [],
   "source": []
  }
 ],
 "metadata": {
  "accelerator": "GPU",
  "colab": {
   "collapsed_sections": [],
   "name": "moe221_DeepFace_Prototype.ipynb",
   "provenance": []
  },
  "kernelspec": {
   "display_name": "Python 3",
   "language": "python",
   "name": "python3"
  },
  "language_info": {
   "name": "python"
  },
  "toc": {
   "base_numbering": 1,
   "nav_menu": {},
   "number_sections": true,
   "sideBar": true,
   "skip_h1_title": false,
   "title_cell": "Table of Contents",
   "title_sidebar": "Contents",
   "toc_cell": true,
   "toc_position": {},
   "toc_section_display": true,
   "toc_window_display": true
  }
 },
 "nbformat": 4,
 "nbformat_minor": 1
}
