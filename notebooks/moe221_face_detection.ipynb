{
 "cells": [
  {
   "cell_type": "markdown",
   "id": "c85e304f",
   "metadata": {
    "toc": true
   },
   "source": [
    "<h1>Table of Contents<span class=\"tocSkip\"></span></h1>\n",
    "<div class=\"toc\"><ul class=\"toc-item\"><li><span><a href=\"#Function-for-detecting-faces\" data-toc-modified-id=\"Function-for-detecting-faces-1\"><span class=\"toc-item-num\">1&nbsp;&nbsp;</span>Function for detecting faces</a></span></li></ul></div>"
   ]
  },
  {
   "cell_type": "code",
   "execution_count": 1,
   "id": "d617a5d8",
   "metadata": {},
   "outputs": [],
   "source": [
    "%load_ext autoreload\n",
    "%autoreload 2"
   ]
  },
  {
   "cell_type": "code",
   "execution_count": 36,
   "id": "851ce037",
   "metadata": {},
   "outputs": [],
   "source": [
    "import pandas as pd\n",
    "import numpy as np\n",
    "import os\n",
    "\n",
    "import matplotlib.pyplot as plt\n",
    "\n",
    "from PIL import Image\n",
    "from mtcnn import MTCNN\n",
    "import cv2"
   ]
  },
  {
   "cell_type": "markdown",
   "id": "463d3533",
   "metadata": {},
   "source": [
    "## Function for detecting faces"
   ]
  },
  {
   "cell_type": "code",
   "execution_count": 46,
   "id": "bc614530",
   "metadata": {},
   "outputs": [],
   "source": [
    "def load_faces_dataset(rows=100):\n",
    "    \n",
    "    \"\"\"\n",
    "    function to load dataset of faces \n",
    "    \n",
    "    \"\"\"\n",
    "    img_data_path = \"../raw_data/train/image_data/\"\n",
    "    face_count_data_path = \"../raw_data/train/train.csv\"\n",
    "    \n",
    "    face_count_df = pd.read_csv(face_count_data_path)\n",
    "    \n",
    "    face_count = []\n",
    "    imgs = []\n",
    "    \n",
    "    i = 0\n",
    "    for img_name, faces in zip(face_count_df[\"Name\"], face_count_df[\"HeadCount\"]):\n",
    "        path = os.path.join(img_data_path, img_name)\n",
    "        if os.path.exists(path):\n",
    "            image = Image.open(path)\n",
    "            imgs.append(np.array(image))\n",
    "            face_count.append(faces)\n",
    "            i += 1\n",
    "        if i == rows:\n",
    "            break     \n",
    "    \n",
    "    X = np.array(imgs, dtype=object)\n",
    "    y = np.array(face_count)\n",
    "    \n",
    "    return X, y"
   ]
  },
  {
   "cell_type": "code",
   "execution_count": 47,
   "id": "c642ab68",
   "metadata": {},
   "outputs": [],
   "source": [
    " X, y = load_faces_dataset()"
   ]
  },
  {
   "cell_type": "code",
   "execution_count": 57,
   "id": "95d710e3",
   "metadata": {},
   "outputs": [],
   "source": [
    "def get_faces(image):\n",
    "    \n",
    "    \"\"\"\n",
    "    \n",
    "    Function which takes in an image as input and returns a list of pixels representing\n",
    "    each detected face\n",
    "    \n",
    "    \"\"\"\n",
    "    \n",
    "    detector = MTCNN(min_face_size=30)\n",
    "    results = detector.detect_faces(image)\n",
    "    \n",
    "    face_list = []\n",
    "    \n",
    "    # extract all faces in image\n",
    "    for face in results:\n",
    "\n",
    "        x1, y1, width, height = face['box']\n",
    "        # bug fix\n",
    "        x1, y1 = abs(x1), abs(y1)\n",
    "        x2, y2 = x1 + width, y1 + height\n",
    "        face = image[y1:y2, x1:x2]\n",
    "\n",
    "        # resize\n",
    "        face_image = Image.fromarray(face)\n",
    "        #face_image = face_image.resize((160, 160))\n",
    "        face_array = np.asarray(face_image)\n",
    "\n",
    "        face_list.append(face_array)\n",
    "        \n",
    "        return face_list"
   ]
  },
  {
   "cell_type": "code",
   "execution_count": 59,
   "id": "8fef7158",
   "metadata": {},
   "outputs": [
    {
     "ename": "ValueError",
     "evalue": "not enough values to unpack (expected 3, got 2)",
     "output_type": "error",
     "traceback": [
      "\u001b[0;31m---------------------------------------------------------------------------\u001b[0m",
      "\u001b[0;31mValueError\u001b[0m                                Traceback (most recent call last)",
      "\u001b[0;32m/var/folders/vp/w0q6bwv17zg47jg_mhc4nsdh0000gp/T/ipykernel_20365/2256218721.py\u001b[0m in \u001b[0;36m<module>\u001b[0;34m\u001b[0m\n\u001b[1;32m      1\u001b[0m \u001b[0;32mfor\u001b[0m \u001b[0mimage\u001b[0m \u001b[0;32min\u001b[0m \u001b[0mX\u001b[0m\u001b[0;34m:\u001b[0m\u001b[0;34m\u001b[0m\u001b[0;34m\u001b[0m\u001b[0m\n\u001b[0;32m----> 2\u001b[0;31m     \u001b[0mface_list\u001b[0m \u001b[0;34m=\u001b[0m \u001b[0mget_faces\u001b[0m\u001b[0;34m(\u001b[0m\u001b[0mimage\u001b[0m\u001b[0;34m)\u001b[0m\u001b[0;34m\u001b[0m\u001b[0;34m\u001b[0m\u001b[0m\n\u001b[0m",
      "\u001b[0;32m/var/folders/vp/w0q6bwv17zg47jg_mhc4nsdh0000gp/T/ipykernel_20365/2984627259.py\u001b[0m in \u001b[0;36mget_faces\u001b[0;34m(image)\u001b[0m\n\u001b[1;32m      9\u001b[0m \u001b[0;34m\u001b[0m\u001b[0m\n\u001b[1;32m     10\u001b[0m     \u001b[0mdetector\u001b[0m \u001b[0;34m=\u001b[0m \u001b[0mMTCNN\u001b[0m\u001b[0;34m(\u001b[0m\u001b[0mmin_face_size\u001b[0m\u001b[0;34m=\u001b[0m\u001b[0;36m30\u001b[0m\u001b[0;34m)\u001b[0m\u001b[0;34m\u001b[0m\u001b[0;34m\u001b[0m\u001b[0m\n\u001b[0;32m---> 11\u001b[0;31m     \u001b[0mresults\u001b[0m \u001b[0;34m=\u001b[0m \u001b[0mdetector\u001b[0m\u001b[0;34m.\u001b[0m\u001b[0mdetect_faces\u001b[0m\u001b[0;34m(\u001b[0m\u001b[0mimage\u001b[0m\u001b[0;34m)\u001b[0m\u001b[0;34m\u001b[0m\u001b[0;34m\u001b[0m\u001b[0m\n\u001b[0m\u001b[1;32m     12\u001b[0m \u001b[0;34m\u001b[0m\u001b[0m\n\u001b[1;32m     13\u001b[0m     \u001b[0mface_list\u001b[0m \u001b[0;34m=\u001b[0m \u001b[0;34m[\u001b[0m\u001b[0;34m]\u001b[0m\u001b[0;34m\u001b[0m\u001b[0;34m\u001b[0m\u001b[0m\n",
      "\u001b[0;32m~/.pyenv/versions/diversity_in_cinema/lib/python3.8/site-packages/mtcnn/mtcnn.py\u001b[0m in \u001b[0;36mdetect_faces\u001b[0;34m(self, img)\u001b[0m\n\u001b[1;32m    285\u001b[0m             \u001b[0;32mraise\u001b[0m \u001b[0mInvalidImage\u001b[0m\u001b[0;34m(\u001b[0m\u001b[0;34m\"Image not valid.\"\u001b[0m\u001b[0;34m)\u001b[0m\u001b[0;34m\u001b[0m\u001b[0;34m\u001b[0m\u001b[0m\n\u001b[1;32m    286\u001b[0m \u001b[0;34m\u001b[0m\u001b[0m\n\u001b[0;32m--> 287\u001b[0;31m         \u001b[0mheight\u001b[0m\u001b[0;34m,\u001b[0m \u001b[0mwidth\u001b[0m\u001b[0;34m,\u001b[0m \u001b[0m_\u001b[0m \u001b[0;34m=\u001b[0m \u001b[0mimg\u001b[0m\u001b[0;34m.\u001b[0m\u001b[0mshape\u001b[0m\u001b[0;34m\u001b[0m\u001b[0;34m\u001b[0m\u001b[0m\n\u001b[0m\u001b[1;32m    288\u001b[0m         \u001b[0mstage_status\u001b[0m \u001b[0;34m=\u001b[0m \u001b[0mStageStatus\u001b[0m\u001b[0;34m(\u001b[0m\u001b[0mwidth\u001b[0m\u001b[0;34m=\u001b[0m\u001b[0mwidth\u001b[0m\u001b[0;34m,\u001b[0m \u001b[0mheight\u001b[0m\u001b[0;34m=\u001b[0m\u001b[0mheight\u001b[0m\u001b[0;34m)\u001b[0m\u001b[0;34m\u001b[0m\u001b[0;34m\u001b[0m\u001b[0m\n\u001b[1;32m    289\u001b[0m \u001b[0;34m\u001b[0m\u001b[0m\n",
      "\u001b[0;31mValueError\u001b[0m: not enough values to unpack (expected 3, got 2)"
     ]
    }
   ],
   "source": [
    "for image in X:\n",
    "    face_list = get_faces(image)"
   ]
  },
  {
   "cell_type": "code",
   "execution_count": null,
   "id": "d1d610a3",
   "metadata": {},
   "outputs": [],
   "source": []
  }
 ],
 "metadata": {
  "kernelspec": {
   "display_name": "diversity_in_cinema",
   "language": "python",
   "name": "diversity_in_cinema"
  },
  "language_info": {
   "codemirror_mode": {
    "name": "ipython",
    "version": 3
   },
   "file_extension": ".py",
   "mimetype": "text/x-python",
   "name": "python",
   "nbconvert_exporter": "python",
   "pygments_lexer": "ipython3",
   "version": "3.8.12"
  },
  "toc": {
   "base_numbering": 1,
   "nav_menu": {},
   "number_sections": true,
   "sideBar": true,
   "skip_h1_title": false,
   "title_cell": "Table of Contents",
   "title_sidebar": "Contents",
   "toc_cell": true,
   "toc_position": {},
   "toc_section_display": true,
   "toc_window_display": true
  }
 },
 "nbformat": 4,
 "nbformat_minor": 5
}
