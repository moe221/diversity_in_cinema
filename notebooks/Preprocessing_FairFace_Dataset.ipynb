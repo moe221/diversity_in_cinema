{
 "cells": [
  {
   "cell_type": "markdown",
   "id": "bdd4ca4a",
   "metadata": {
    "toc": true
   },
   "source": [
    "<h1>Table of Contents<span class=\"tocSkip\"></span></h1>\n",
    "<div class=\"toc\"><ul class=\"toc-item\"></ul></div>"
   ]
  },
  {
   "cell_type": "code",
   "execution_count": 3,
   "id": "e3991e47",
   "metadata": {},
   "outputs": [],
   "source": [
    "import pandas as pd\n",
    "import numpy as np\n",
    "import os\n",
    "from tensorflow.keras.preprocessing.image import load_img, img_to_array"
   ]
  },
  {
   "cell_type": "code",
   "execution_count": 4,
   "id": "b5dc7996",
   "metadata": {},
   "outputs": [],
   "source": [
    "train_df = pd.read_csv(\"../raw_data/fairface/fairface_label_train.csv\")\n",
    "test_df = pd.read_csv(\"../raw_data/fairface/fairface_label_val.csv\")"
   ]
  },
  {
   "cell_type": "code",
   "execution_count": 5,
   "id": "20d850d4",
   "metadata": {},
   "outputs": [
    {
     "data": {
      "text/html": [
       "<div>\n",
       "<style scoped>\n",
       "    .dataframe tbody tr th:only-of-type {\n",
       "        vertical-align: middle;\n",
       "    }\n",
       "\n",
       "    .dataframe tbody tr th {\n",
       "        vertical-align: top;\n",
       "    }\n",
       "\n",
       "    .dataframe thead th {\n",
       "        text-align: right;\n",
       "    }\n",
       "</style>\n",
       "<table border=\"1\" class=\"dataframe\">\n",
       "  <thead>\n",
       "    <tr style=\"text-align: right;\">\n",
       "      <th></th>\n",
       "      <th>file</th>\n",
       "      <th>age</th>\n",
       "      <th>gender</th>\n",
       "      <th>race</th>\n",
       "      <th>service_test</th>\n",
       "    </tr>\n",
       "  </thead>\n",
       "  <tbody>\n",
       "    <tr>\n",
       "      <th>0</th>\n",
       "      <td>train/1.jpg</td>\n",
       "      <td>50-59</td>\n",
       "      <td>Male</td>\n",
       "      <td>East Asian</td>\n",
       "      <td>True</td>\n",
       "    </tr>\n",
       "    <tr>\n",
       "      <th>1</th>\n",
       "      <td>train/2.jpg</td>\n",
       "      <td>30-39</td>\n",
       "      <td>Female</td>\n",
       "      <td>Indian</td>\n",
       "      <td>False</td>\n",
       "    </tr>\n",
       "    <tr>\n",
       "      <th>2</th>\n",
       "      <td>train/3.jpg</td>\n",
       "      <td>3-9</td>\n",
       "      <td>Female</td>\n",
       "      <td>Black</td>\n",
       "      <td>False</td>\n",
       "    </tr>\n",
       "    <tr>\n",
       "      <th>3</th>\n",
       "      <td>train/4.jpg</td>\n",
       "      <td>20-29</td>\n",
       "      <td>Female</td>\n",
       "      <td>Indian</td>\n",
       "      <td>True</td>\n",
       "    </tr>\n",
       "    <tr>\n",
       "      <th>4</th>\n",
       "      <td>train/5.jpg</td>\n",
       "      <td>20-29</td>\n",
       "      <td>Female</td>\n",
       "      <td>Indian</td>\n",
       "      <td>True</td>\n",
       "    </tr>\n",
       "    <tr>\n",
       "      <th>...</th>\n",
       "      <td>...</td>\n",
       "      <td>...</td>\n",
       "      <td>...</td>\n",
       "      <td>...</td>\n",
       "      <td>...</td>\n",
       "    </tr>\n",
       "    <tr>\n",
       "      <th>86739</th>\n",
       "      <td>train/86740.jpg</td>\n",
       "      <td>20-29</td>\n",
       "      <td>Male</td>\n",
       "      <td>Indian</td>\n",
       "      <td>True</td>\n",
       "    </tr>\n",
       "    <tr>\n",
       "      <th>86740</th>\n",
       "      <td>train/86741.jpg</td>\n",
       "      <td>10-19</td>\n",
       "      <td>Male</td>\n",
       "      <td>Indian</td>\n",
       "      <td>True</td>\n",
       "    </tr>\n",
       "    <tr>\n",
       "      <th>86741</th>\n",
       "      <td>train/86742.jpg</td>\n",
       "      <td>more than 70</td>\n",
       "      <td>Female</td>\n",
       "      <td>Indian</td>\n",
       "      <td>True</td>\n",
       "    </tr>\n",
       "    <tr>\n",
       "      <th>86742</th>\n",
       "      <td>train/86743.jpg</td>\n",
       "      <td>10-19</td>\n",
       "      <td>Female</td>\n",
       "      <td>Black</td>\n",
       "      <td>True</td>\n",
       "    </tr>\n",
       "    <tr>\n",
       "      <th>86743</th>\n",
       "      <td>train/86744.jpg</td>\n",
       "      <td>40-49</td>\n",
       "      <td>Male</td>\n",
       "      <td>White</td>\n",
       "      <td>False</td>\n",
       "    </tr>\n",
       "  </tbody>\n",
       "</table>\n",
       "<p>86744 rows × 5 columns</p>\n",
       "</div>"
      ],
      "text/plain": [
       "                  file           age  gender        race  service_test\n",
       "0          train/1.jpg         50-59    Male  East Asian          True\n",
       "1          train/2.jpg         30-39  Female      Indian         False\n",
       "2          train/3.jpg           3-9  Female       Black         False\n",
       "3          train/4.jpg         20-29  Female      Indian          True\n",
       "4          train/5.jpg         20-29  Female      Indian          True\n",
       "...                ...           ...     ...         ...           ...\n",
       "86739  train/86740.jpg         20-29    Male      Indian          True\n",
       "86740  train/86741.jpg         10-19    Male      Indian          True\n",
       "86741  train/86742.jpg  more than 70  Female      Indian          True\n",
       "86742  train/86743.jpg         10-19  Female       Black          True\n",
       "86743  train/86744.jpg         40-49    Male       White         False\n",
       "\n",
       "[86744 rows x 5 columns]"
      ]
     },
     "execution_count": 5,
     "metadata": {},
     "output_type": "execute_result"
    }
   ],
   "source": [
    "train_df"
   ]
  },
  {
   "cell_type": "code",
   "execution_count": 6,
   "id": "5ae5e0d2",
   "metadata": {},
   "outputs": [
    {
     "data": {
      "text/html": [
       "<div>\n",
       "<style scoped>\n",
       "    .dataframe tbody tr th:only-of-type {\n",
       "        vertical-align: middle;\n",
       "    }\n",
       "\n",
       "    .dataframe tbody tr th {\n",
       "        vertical-align: top;\n",
       "    }\n",
       "\n",
       "    .dataframe thead th {\n",
       "        text-align: right;\n",
       "    }\n",
       "</style>\n",
       "<table border=\"1\" class=\"dataframe\">\n",
       "  <thead>\n",
       "    <tr style=\"text-align: right;\">\n",
       "      <th></th>\n",
       "      <th>file</th>\n",
       "    </tr>\n",
       "    <tr>\n",
       "      <th>race</th>\n",
       "      <th></th>\n",
       "    </tr>\n",
       "  </thead>\n",
       "  <tbody>\n",
       "    <tr>\n",
       "      <th>Black</th>\n",
       "      <td>14.102416</td>\n",
       "    </tr>\n",
       "    <tr>\n",
       "      <th>East Asian</th>\n",
       "      <td>14.164668</td>\n",
       "    </tr>\n",
       "    <tr>\n",
       "      <th>Indian</th>\n",
       "      <td>14.201559</td>\n",
       "    </tr>\n",
       "    <tr>\n",
       "      <th>Latino_Hispanic</th>\n",
       "      <td>15.409711</td>\n",
       "    </tr>\n",
       "    <tr>\n",
       "      <th>Middle Eastern</th>\n",
       "      <td>10.624366</td>\n",
       "    </tr>\n",
       "    <tr>\n",
       "      <th>Southeast Asian</th>\n",
       "      <td>12.444665</td>\n",
       "    </tr>\n",
       "    <tr>\n",
       "      <th>White</th>\n",
       "      <td>19.052615</td>\n",
       "    </tr>\n",
       "  </tbody>\n",
       "</table>\n",
       "</div>"
      ],
      "text/plain": [
       "                      file\n",
       "race                      \n",
       "Black            14.102416\n",
       "East Asian       14.164668\n",
       "Indian           14.201559\n",
       "Latino_Hispanic  15.409711\n",
       "Middle Eastern   10.624366\n",
       "Southeast Asian  12.444665\n",
       "White            19.052615"
      ]
     },
     "execution_count": 6,
     "metadata": {},
     "output_type": "execute_result"
    }
   ],
   "source": [
    "100*train_df.groupby(['race']).count()[['file']]/train_df.groupby(['race']).count()[['file']].sum()"
   ]
  },
  {
   "cell_type": "code",
   "execution_count": 7,
   "id": "001ea75a",
   "metadata": {},
   "outputs": [],
   "source": [
    "idx = train_df[(train_df['race'] == 'East Asian') | (train_df['race'] == 'Southeast Asian')].index\n",
    "train_df.loc[idx, 'race'] = 'Asian'\n",
    " \n",
    "idx = test_df[(test_df['race'] == 'East Asian') | (test_df['race'] == 'Southeast Asian')].index\n",
    "test_df.loc[idx, 'race'] = 'Asian'"
   ]
  },
  {
   "cell_type": "code",
   "execution_count": 8,
   "id": "3d4d3f44",
   "metadata": {},
   "outputs": [],
   "source": [
    "target_size = (224, 224)\n",
    "def getImagePixels(file):\n",
    "    \n",
    "    path = os.path.join(\"../raw_data/fairface\", file)\n",
    "    \n",
    "    img = load_img(path, grayscale=False, target_size=target_size)\n",
    "    x = np.array(img)\n",
    "    return x"
   ]
  },
  {
   "cell_type": "code",
   "execution_count": 9,
   "id": "faad55d7",
   "metadata": {},
   "outputs": [
    {
     "name": "stderr",
     "output_type": "stream",
     "text": [
      "/var/folders/vp/w0q6bwv17zg47jg_mhc4nsdh0000gp/T/ipykernel_35246/4172621959.py:5: SettingWithCopyWarning: \n",
      "A value is trying to be set on a copy of a slice from a DataFrame.\n",
      "Try using .loc[row_indexer,col_indexer] = value instead\n",
      "\n",
      "See the caveats in the documentation: https://pandas.pydata.org/pandas-docs/stable/user_guide/indexing.html#returning-a-view-versus-a-copy\n",
      "  train_df_1k['pixels'] = train_df_1k['file'].apply(getImagePixels)\n",
      "/var/folders/vp/w0q6bwv17zg47jg_mhc4nsdh0000gp/T/ipykernel_35246/4172621959.py:6: SettingWithCopyWarning: \n",
      "A value is trying to be set on a copy of a slice from a DataFrame.\n",
      "Try using .loc[row_indexer,col_indexer] = value instead\n",
      "\n",
      "See the caveats in the documentation: https://pandas.pydata.org/pandas-docs/stable/user_guide/indexing.html#returning-a-view-versus-a-copy\n",
      "  test_df_1k['pixels'] = test_df_1k['file'].apply(getImagePixels)\n"
     ]
    }
   ],
   "source": [
    "train_df_1k = train_df.iloc[:1000,:]\n",
    "test_df_1k = test_df.iloc[:1000,:]\n",
    "\n",
    "\n",
    "train_df_1k['pixels'] = train_df_1k['file'].apply(getImagePixels)\n",
    "test_df_1k['pixels'] = test_df_1k['file'].apply(getImagePixels)\n",
    "# Now, images pixels are stored as a column"
   ]
  },
  {
   "cell_type": "code",
   "execution_count": 12,
   "id": "30f6a409",
   "metadata": {},
   "outputs": [
    {
     "data": {
      "text/html": [
       "<div>\n",
       "<style scoped>\n",
       "    .dataframe tbody tr th:only-of-type {\n",
       "        vertical-align: middle;\n",
       "    }\n",
       "\n",
       "    .dataframe tbody tr th {\n",
       "        vertical-align: top;\n",
       "    }\n",
       "\n",
       "    .dataframe thead th {\n",
       "        text-align: right;\n",
       "    }\n",
       "</style>\n",
       "<table border=\"1\" class=\"dataframe\">\n",
       "  <thead>\n",
       "    <tr style=\"text-align: right;\">\n",
       "      <th></th>\n",
       "      <th>file</th>\n",
       "      <th>age</th>\n",
       "      <th>gender</th>\n",
       "      <th>race</th>\n",
       "      <th>service_test</th>\n",
       "      <th>pixels</th>\n",
       "    </tr>\n",
       "  </thead>\n",
       "  <tbody>\n",
       "    <tr>\n",
       "      <th>0</th>\n",
       "      <td>train/1.jpg</td>\n",
       "      <td>50-59</td>\n",
       "      <td>Male</td>\n",
       "      <td>Asian</td>\n",
       "      <td>True</td>\n",
       "      <td>[[[8.0, 8.0, 10.0], [9.0, 9.0, 11.0], [10.0, 8...</td>\n",
       "    </tr>\n",
       "    <tr>\n",
       "      <th>1</th>\n",
       "      <td>train/2.jpg</td>\n",
       "      <td>30-39</td>\n",
       "      <td>Female</td>\n",
       "      <td>Indian</td>\n",
       "      <td>False</td>\n",
       "      <td>[[[129.0, 127.0, 104.0], [127.0, 125.0, 102.0]...</td>\n",
       "    </tr>\n",
       "    <tr>\n",
       "      <th>2</th>\n",
       "      <td>train/3.jpg</td>\n",
       "      <td>3-9</td>\n",
       "      <td>Female</td>\n",
       "      <td>Black</td>\n",
       "      <td>False</td>\n",
       "      <td>[[[216.0, 171.0, 174.0], [212.0, 167.0, 170.0]...</td>\n",
       "    </tr>\n",
       "    <tr>\n",
       "      <th>3</th>\n",
       "      <td>train/4.jpg</td>\n",
       "      <td>20-29</td>\n",
       "      <td>Female</td>\n",
       "      <td>Indian</td>\n",
       "      <td>True</td>\n",
       "      <td>[[[42.0, 47.0, 50.0], [42.0, 47.0, 50.0], [41....</td>\n",
       "    </tr>\n",
       "    <tr>\n",
       "      <th>4</th>\n",
       "      <td>train/5.jpg</td>\n",
       "      <td>20-29</td>\n",
       "      <td>Female</td>\n",
       "      <td>Indian</td>\n",
       "      <td>True</td>\n",
       "      <td>[[[44.0, 39.0, 35.0], [44.0, 39.0, 35.0], [43....</td>\n",
       "    </tr>\n",
       "  </tbody>\n",
       "</table>\n",
       "</div>"
      ],
      "text/plain": [
       "          file    age  gender    race  service_test  \\\n",
       "0  train/1.jpg  50-59    Male   Asian          True   \n",
       "1  train/2.jpg  30-39  Female  Indian         False   \n",
       "2  train/3.jpg    3-9  Female   Black         False   \n",
       "3  train/4.jpg  20-29  Female  Indian          True   \n",
       "4  train/5.jpg  20-29  Female  Indian          True   \n",
       "\n",
       "                                              pixels  \n",
       "0  [[[8.0, 8.0, 10.0], [9.0, 9.0, 11.0], [10.0, 8...  \n",
       "1  [[[129.0, 127.0, 104.0], [127.0, 125.0, 102.0]...  \n",
       "2  [[[216.0, 171.0, 174.0], [212.0, 167.0, 170.0]...  \n",
       "3  [[[42.0, 47.0, 50.0], [42.0, 47.0, 50.0], [41....  \n",
       "4  [[[44.0, 39.0, 35.0], [44.0, 39.0, 35.0], [43....  "
      ]
     },
     "execution_count": 12,
     "metadata": {},
     "output_type": "execute_result"
    }
   ],
   "source": [
    "train_df_1k.head()"
   ]
  },
  {
   "cell_type": "code",
   "execution_count": 10,
   "id": "98b15191",
   "metadata": {},
   "outputs": [],
   "source": [
    "train_df['pixels'] = train_df['file'].apply(getImagePixels)\n",
    "test_df['pixels'] = test_df['file'].apply(getImagePixels)\n",
    "# Now, images pixels are stored as a column"
   ]
  },
  {
   "cell_type": "code",
   "execution_count": 12,
   "id": "8e17855a",
   "metadata": {},
   "outputs": [],
   "source": [
    "train_df.to_csv(\"../raw_data/fairface/train_df.csv\")"
   ]
  },
  {
   "cell_type": "code",
   "execution_count": 13,
   "id": "f003eb6a",
   "metadata": {},
   "outputs": [],
   "source": [
    "test_df.to_csv(\"../raw_data/fairface/test_df.csv\")"
   ]
  },
  {
   "cell_type": "code",
   "execution_count": 15,
   "id": "e620c4d3",
   "metadata": {},
   "outputs": [
    {
     "data": {
      "image/png": "[encoded data removed]",
      "text/plain": [
       "<Figure size 432x288 with 1 Axes>"
      ]
     },
     "metadata": {
      "needs_background": "light"
     },
     "output_type": "display_data"
    }
   ],
   "source": [
    "import matplotlib.pyplot as plt\n",
    "\n",
    "plt.imshow(test_df[\"pixels\"][0], cmap=\"gray\")\n",
    "plt.show()"
   ]
  },
  {
   "cell_type": "code",
   "execution_count": null,
   "id": "03a80974",
   "metadata": {},
   "outputs": [],
   "source": []
  }
 ],
 "metadata": {
  "kernelspec": {
   "display_name": "diversity_in_cinema",
   "language": "python",
   "name": "diversity_in_cinema"
  },
  "language_info": {
   "codemirror_mode": {
    "name": "ipython",
    "version": 3
   },
   "file_extension": ".py",
   "mimetype": "text/x-python",
   "name": "python",
   "nbconvert_exporter": "python",
   "pygments_lexer": "ipython3",
   "version": "3.8.12"
  },
  "toc": {
   "base_numbering": 1,
   "nav_menu": {},
   "number_sections": true,
   "sideBar": true,
   "skip_h1_title": false,
   "title_cell": "Table of Contents",
   "title_sidebar": "Contents",
   "toc_cell": true,
   "toc_position": {},
   "toc_section_display": true,
   "toc_window_display": true
  }
 },
 "nbformat": 4,
 "nbformat_minor": 5
}
