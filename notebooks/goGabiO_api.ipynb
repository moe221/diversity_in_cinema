{
 "cells": [
  {
   "cell_type": "markdown",
   "id": "169078df",
   "metadata": {},
   "source": [
    "# API requests for The Movie DB"
   ]
  },
  {
   "cell_type": "markdown",
   "id": "c34f3c4b",
   "metadata": {},
   "source": [
    "*GET requests from The Movie DB will return JSON with all requested movie metadata and image URLs*"
   ]
  },
  {
   "cell_type": "code",
   "execution_count": 5,
   "id": "9639c2db",
   "metadata": {},
   "outputs": [],
   "source": [
    "import requests\n",
    "import pandas as pd"
   ]
  },
  {
   "cell_type": "code",
   "execution_count": 6,
   "id": "849c9f2d",
   "metadata": {},
   "outputs": [],
   "source": [
    "movie = \"Man of Steel (2015)\""
   ]
  },
  {
   "cell_type": "code",
   "execution_count": 7,
   "id": "7c0baeee",
   "metadata": {},
   "outputs": [
    {
     "data": {
      "text/plain": [
       "['man', 'of', 'steel', '(2015)']"
      ]
     },
     "execution_count": 7,
     "metadata": {},
     "output_type": "execute_result"
    }
   ],
   "source": [
    "split_movie = movie.lower().split()\n",
    "split_movie"
   ]
  },
  {
   "cell_type": "code",
   "execution_count": 8,
   "id": "12d96d45",
   "metadata": {},
   "outputs": [
    {
     "data": {
      "text/plain": [
       "['man', 'of', 'steel']"
      ]
     },
     "execution_count": 8,
     "metadata": {},
     "output_type": "execute_result"
    }
   ],
   "source": [
    "search_terms = split_movie[:-1]\n",
    "search_terms"
   ]
  },
  {
   "cell_type": "code",
   "execution_count": 9,
   "id": "1a5ff895",
   "metadata": {},
   "outputs": [
    {
     "data": {
      "text/plain": [
       "'man+of+steel'"
      ]
     },
     "execution_count": 9,
     "metadata": {},
     "output_type": "execute_result"
    }
   ],
   "source": [
    "'+'.join(search_terms)"
   ]
  },
  {
   "cell_type": "code",
   "execution_count": 10,
   "id": "a1de559b",
   "metadata": {},
   "outputs": [],
   "source": [
    "import requests"
   ]
  },
  {
   "cell_type": "code",
   "execution_count": 11,
   "id": "6b827290",
   "metadata": {},
   "outputs": [],
   "source": [
    "movie_2 = \"The A-team (2010)\"\n",
    "api_key = '87337046eaf9c07ce51c68d19a21041a'"
   ]
  },
  {
   "cell_type": "markdown",
   "id": "1f30a25e",
   "metadata": {},
   "source": [
    "split_movie = movie_2.lower().split()\n",
    "search_terms = split_movie[:-1]\n",
    "title = '+'.join(search_terms)\n",
    "url = f'https://api.themoviedb.org/3/search/movie?api_key={api_key}&query={title}'\n",
    "response = requests.get(url)"
   ]
  },
  {
   "cell_type": "code",
   "execution_count": 12,
   "id": "a0c8b505",
   "metadata": {},
   "outputs": [],
   "source": [
    "year = '(2015)'"
   ]
  },
  {
   "cell_type": "code",
   "execution_count": 13,
   "id": "84d90761",
   "metadata": {},
   "outputs": [
    {
     "data": {
      "text/plain": [
       "'2015'"
      ]
     },
     "execution_count": 13,
     "metadata": {},
     "output_type": "execute_result"
    }
   ],
   "source": [
    "year.replace('(','').replace(')','')"
   ]
  },
  {
   "cell_type": "code",
   "execution_count": 57,
   "id": "e3542541",
   "metadata": {},
   "outputs": [
    {
     "data": {
      "text/plain": [
       "{'id': 21311,\n",
       " 'cast': [{'adult': False,\n",
       "   'gender': 1,\n",
       "   'id': 326,\n",
       "   'known_for_department': 'Acting',\n",
       "   'name': 'Kim Basinger',\n",
       "   'original_name': 'Kim Basinger',\n",
       "   'popularity': 7.39,\n",
       "   'profile_path': '/iqQ4o2sRna7J1Z9KkB9Avp9CIsk.jpg',\n",
       "   'cast_id': 1,\n",
       "   'character': 'Kuki Gallmann',\n",
       "   'credit_id': '52fe4414c3a368484e00e3a9',\n",
       "   'order': 0},\n",
       "  {'adult': False,\n",
       "   'gender': 2,\n",
       "   'id': 20239,\n",
       "   'known_for_department': 'Acting',\n",
       "   'name': 'Vincent Perez',\n",
       "   'original_name': 'Vincent Perez',\n",
       "   'popularity': 1.238,\n",
       "   'profile_path': '/4YQooUljg7Nb4hyi4gHlE0gjKz1.jpg',\n",
       "   'cast_id': 2,\n",
       "   'character': 'Paolo Gallmann',\n",
       "   'credit_id': '52fe4414c3a368484e00e3ad',\n",
       "   'order': 1},\n",
       "  {'adult': False,\n",
       "   'gender': 2,\n",
       "   'id': 19977,\n",
       "   'known_for_department': 'Acting',\n",
       "   'name': 'Liam Aiken',\n",
       "   'original_name': 'Liam Aiken',\n",
       "   'popularity': 4.213,\n",
       "   'profile_path': '/1kP7FOJgd5rZZlrVXuN57IZXtNK.jpg',\n",
       "   'cast_id': 3,\n",
       "   'character': '7-Year-Old Emanuele',\n",
       "   'credit_id': '52fe4414c3a368484e00e3b1',\n",
       "   'order': 2},\n",
       "  {'adult': False,\n",
       "   'gender': 2,\n",
       "   'id': 8784,\n",
       "   'known_for_department': 'Acting',\n",
       "   'name': 'Daniel Craig',\n",
       "   'original_name': 'Daniel Craig',\n",
       "   'popularity': 24.591,\n",
       "   'profile_path': '/iFerDZUmC5Fu26i4qI8xnUVEHc7.jpg',\n",
       "   'cast_id': 4,\n",
       "   'character': 'Declan Fielding',\n",
       "   'credit_id': '52fe4414c3a368484e00e3b5',\n",
       "   'order': 3},\n",
       "  {'adult': False,\n",
       "   'gender': 1,\n",
       "   'id': 2639,\n",
       "   'known_for_department': 'Acting',\n",
       "   'name': 'Eva Marie Saint',\n",
       "   'original_name': 'Eva Marie Saint',\n",
       "   'popularity': 3.226,\n",
       "   'profile_path': '/nJgTHDaCA3yl8vDu3nP8S6qjhIx.jpg',\n",
       "   'cast_id': 5,\n",
       "   'character': 'Franca',\n",
       "   'credit_id': '52fe4414c3a368484e00e3b9',\n",
       "   'order': 4},\n",
       "  {'adult': False,\n",
       "   'gender': 2,\n",
       "   'id': 129101,\n",
       "   'known_for_department': 'Acting',\n",
       "   'name': 'Lance Reddick',\n",
       "   'original_name': 'Lance Reddick',\n",
       "   'popularity': 5.918,\n",
       "   'profile_path': '/22mVtEXZbpt0J7S0LhIhdkfRrZV.jpg',\n",
       "   'cast_id': 9,\n",
       "   'character': 'Simon',\n",
       "   'credit_id': '5700373c92514167760030f6',\n",
       "   'order': 5},\n",
       "  {'adult': False,\n",
       "   'gender': 2,\n",
       "   'id': 1386160,\n",
       "   'known_for_department': 'Acting',\n",
       "   'name': 'Stephen Jennings',\n",
       "   'original_name': 'Stephen Jennings',\n",
       "   'popularity': 3.307,\n",
       "   'profile_path': '/4xolbERE7DgX4qQBzryoAs4DAZP.jpg',\n",
       "   'cast_id': 10,\n",
       "   'character': 'Vincenzo',\n",
       "   'credit_id': '597d09589251415dba007722',\n",
       "   'order': 6},\n",
       "  {'adult': False,\n",
       "   'gender': 2,\n",
       "   'id': 47969,\n",
       "   'known_for_department': 'Acting',\n",
       "   'name': 'Nick Boraine',\n",
       "   'original_name': 'Nick Boraine',\n",
       "   'popularity': 1.089,\n",
       "   'profile_path': '/lcuyeUFhnYVp2YdUscYNFOQxkJ3.jpg',\n",
       "   'cast_id': 11,\n",
       "   'character': 'Duncan Maitland',\n",
       "   'credit_id': '597d09ad9251415d98007e8c',\n",
       "   'order': 7}],\n",
       " 'crew': [{'adult': False,\n",
       "   'gender': 2,\n",
       "   'id': 2704,\n",
       "   'known_for_department': 'Sound',\n",
       "   'name': 'Maurice Jarre',\n",
       "   'original_name': 'Maurice Jarre',\n",
       "   'popularity': 1.165,\n",
       "   'profile_path': '/44sZGwLqOKdHIkP3Mbz4ArXHT3w.jpg',\n",
       "   'credit_id': '611b26e3006b010046abfd68',\n",
       "   'department': 'Sound',\n",
       "   'job': 'Music'},\n",
       "  {'adult': False,\n",
       "   'gender': 1,\n",
       "   'id': 37427,\n",
       "   'known_for_department': 'Writing',\n",
       "   'name': 'Susan Shilliday',\n",
       "   'original_name': 'Susan Shilliday',\n",
       "   'popularity': 0.6,\n",
       "   'profile_path': None,\n",
       "   'credit_id': '5609d6f7c3a3686814000a38',\n",
       "   'department': 'Writing',\n",
       "   'job': 'Screenplay'},\n",
       "  {'adult': False,\n",
       "   'gender': 2,\n",
       "   'id': 58220,\n",
       "   'known_for_department': 'Directing',\n",
       "   'name': 'Hugh Hudson',\n",
       "   'original_name': 'Hugh Hudson',\n",
       "   'popularity': 1.237,\n",
       "   'profile_path': '/mVuyIOGwLBMGABMoZwLVCqowLuo.jpg',\n",
       "   'credit_id': '52fe4414c3a368484e00e3bf',\n",
       "   'department': 'Directing',\n",
       "   'job': 'Director'},\n",
       "  {'adult': False,\n",
       "   'gender': 1,\n",
       "   'id': 139158,\n",
       "   'known_for_department': 'Writing',\n",
       "   'name': 'Paula Milne',\n",
       "   'original_name': 'Paula Milne',\n",
       "   'popularity': 0.652,\n",
       "   'profile_path': None,\n",
       "   'credit_id': '56c144559251410a62001495',\n",
       "   'department': 'Writing',\n",
       "   'job': 'Screenplay'}]}"
      ]
     },
     "execution_count": 57,
     "metadata": {},
     "output_type": "execute_result"
    }
   ],
   "source": [
    "url = 'https://api.themoviedb.org/3/movie/21311/credits?api_key=87337046eaf9c07ce51c68d19a21041a&language=en-US'\n",
    "response = requests.get(url)\n",
    "data = response.json()\n",
    "data"
   ]
  },
  {
   "cell_type": "markdown",
   "id": "86ee8f10",
   "metadata": {},
   "source": [
    "## /movie endpoint"
   ]
  },
  {
   "cell_type": "markdown",
   "id": "22055434",
   "metadata": {},
   "source": [
    "- id\n",
    "- original_language\n",
    "- poster_path\n",
    "- release_date\n",
    "- vote_average"
   ]
  },
  {
   "cell_type": "markdown",
   "id": "97098edf",
   "metadata": {},
   "source": [
    "def fetch_movie_id():\n",
    "    \"\"\"\n",
    "    Get movie title ID from The Movie DB API. Returns error string if not found\n",
    "    \"\"\"\n",
    "    for movie in movie_list:\n",
    "        split_movie = movie.lower().split()\n",
    "        search_terms = split_movie[:-1]\n",
    "        title = '+'.join(search_terms)\n",
    "        url = f'https://api.themoviedb.org/3/search/movie?api_key={api_key}&query={title}'\n",
    "        \n",
    "        response = requests.get(url)\n",
    "        \n",
    "        if response.status_code != 200:\n",
    "            return 'Error: status code not 200'\n",
    "        \n",
    "        data = response.json()\n",
    "        \n",
    "        movie_ids[f'{movie}'] = data['results'][0]['id']"
   ]
  },
  {
   "cell_type": "code",
   "execution_count": 56,
   "id": "d8d569ac",
   "metadata": {},
   "outputs": [],
   "source": [
    "api_key = '87337046eaf9c07ce51c68d19a21041a'\n",
    "\n",
    "def fetch_movie_basic_data(movie):\n",
    "    \"\"\"\n",
    "    Get movie title ID from The Movie DB API. Returns error string if not found\n",
    "    \"\"\"\n",
    "    remove_4k = movie.lower().replace('[4k]','').strip()\n",
    "    split_movie = remove_4k.split()\n",
    "    year = split_movie[-1].replace('(','').replace(')','')\n",
    "    search_terms = split_movie[:-1]\n",
    "    title = '+'.join(search_terms)\n",
    "    url = f'https://api.themoviedb.org/3/search/movie?api_key={api_key}&query={title}'\n",
    "\n",
    "    response = requests.get(url)\n",
    "\n",
    "    if response.status_code != 200:\n",
    "        return 'Error: status code not 200'\n",
    "\n",
    "    data = response.json()\n",
    "    \n",
    "    keep_data = {}\n",
    "\n",
    "    for index in range(len(data['results'])):\n",
    "        if year in data['results'][index]['release_date']:\n",
    "            keep_data['release_date'] = data['results'][index]['release_date']\n",
    "            keep_data['original_language'] = data['results'][index]['original_language']\n",
    "            keep_data['poster_path'] = data['results'][index]['poster_path']\n",
    "            return data['results'][index]['id'], keep_data"
   ]
  },
  {
   "cell_type": "code",
   "execution_count": 57,
   "id": "cf5d9c88",
   "metadata": {},
   "outputs": [
    {
     "data": {
      "text/plain": [
       "(21311,\n",
       " {'release_date': '2000-05-05',\n",
       "  'original_language': 'en',\n",
       "  'poster_path': '/kuDIrcsUI0duLSTUgKKLKEiEdrK.jpg'})"
      ]
     },
     "execution_count": 57,
     "metadata": {},
     "output_type": "execute_result"
    }
   ],
   "source": [
    "fetch_movie_basic_data('I Dreamed of Africa (2000) [4K]')"
   ]
  },
  {
   "cell_type": "markdown",
   "id": "cceae7c6",
   "metadata": {},
   "source": [
    "## /details endpoint"
   ]
  },
  {
   "cell_type": "markdown",
   "id": "efba227d",
   "metadata": {},
   "source": [
    "- genres\n",
    "- spoken_lanaguges\n",
    "- runtime\n",
    "- revenue"
   ]
  },
  {
   "cell_type": "code",
   "execution_count": 58,
   "id": "a864e12a",
   "metadata": {},
   "outputs": [],
   "source": [
    "def fetch_movie_details(movie):\n",
    "    \"\"\"\n",
    "    Get desired movie details from The Movie DB API. Returns error string if not found\n",
    "    \"\"\"\n",
    "\n",
    "    movie_id = fetch_movie_basic_data(movie)\n",
    "\n",
    "    url = f'https://api.themoviedb.org/3/movie/{movie_id[0]}?api_key={api_key}&language=en-US'\n",
    "\n",
    "    response = requests.get(url)\n",
    "\n",
    "    if response.status_code != 200:\n",
    "\n",
    "        return 'Error: status code not 200'\n",
    "\n",
    "    data = response.json()\n",
    "    \n",
    "    keep_data = {}\n",
    "\n",
    "    keep_data['genres'] = data['genres']\n",
    "    keep_data['spoken_languages'] = data['spoken_languages']\n",
    "    keep_data['runtime'] = data['runtime']\n",
    "    keep_data['revenue'] = data['revenue']\n",
    "    \n",
    "    # pd.DataFrame.from_dict(data)\n",
    "    return keep_data"
   ]
  },
  {
   "cell_type": "code",
   "execution_count": 59,
   "id": "3d95ec4c",
   "metadata": {},
   "outputs": [
    {
     "data": {
      "text/plain": [
       "{'genres': [{'id': 10749, 'name': 'Romance'},\n",
       "  {'id': 18, 'name': 'Drama'},\n",
       "  {'id': 12, 'name': 'Adventure'}],\n",
       " 'spoken_languages': [{'english_name': 'English',\n",
       "   'iso_639_1': 'en',\n",
       "   'name': 'English'}],\n",
       " 'runtime': 114,\n",
       " 'revenue': 14400327}"
      ]
     },
     "execution_count": 59,
     "metadata": {},
     "output_type": "execute_result"
    }
   ],
   "source": [
    "fetch_movie_details('I Dreamed of Africa (2000) [4K]')"
   ]
  },
  {
   "cell_type": "markdown",
   "id": "be03720a",
   "metadata": {},
   "source": [
    "## /credits endpoint"
   ]
  },
  {
   "cell_type": "markdown",
   "id": "a7362ae9",
   "metadata": {},
   "source": [
    "- cast\n",
    "- crew"
   ]
  },
  {
   "cell_type": "code",
   "execution_count": 64,
   "id": "c80e723f",
   "metadata": {},
   "outputs": [],
   "source": [
    "def fetch_movie_credits(movie):\n",
    "    \"\"\"\n",
    "    Get desired movie credits from The Movie DB API. Returns error string if not found\n",
    "    \"\"\"\n",
    "\n",
    "    movie_id = fetch_movie_basic_data(movie)\n",
    "\n",
    "    url = f'https://api.themoviedb.org/3/movie/{movie_id[0]}/credits?api_key={api_key}&language=en-US&append_to_response={movie_id}'\n",
    "\n",
    "    response = requests.get(url)\n",
    "\n",
    "    if response.status_code != 200:\n",
    "\n",
    "        return 'Error: status code not 200'\n",
    "\n",
    "    data = response.json()\n",
    "    \n",
    "    keep_data = {}\n",
    "\n",
    "    keep_data['cast'] = data['cast']\n",
    "    keep_data['crew'] = data['crew']\n",
    "\n",
    "    # pd.DataFrame.from_dict(data)\n",
    "    return keep_data\n"
   ]
  },
  {
   "cell_type": "code",
   "execution_count": 65,
   "id": "cd22fc8e",
   "metadata": {},
   "outputs": [
    {
     "data": {
      "text/plain": [
       "{'cast': [{'adult': False,\n",
       "   'gender': 1,\n",
       "   'id': 326,\n",
       "   'known_for_department': 'Acting',\n",
       "   'name': 'Kim Basinger',\n",
       "   'original_name': 'Kim Basinger',\n",
       "   'popularity': 9.88,\n",
       "   'profile_path': '/iqQ4o2sRna7J1Z9KkB9Avp9CIsk.jpg',\n",
       "   'cast_id': 1,\n",
       "   'character': 'Kuki Gallmann',\n",
       "   'credit_id': '52fe4414c3a368484e00e3a9',\n",
       "   'order': 0},\n",
       "  {'adult': False,\n",
       "   'gender': 2,\n",
       "   'id': 20239,\n",
       "   'known_for_department': 'Acting',\n",
       "   'name': 'Vincent Perez',\n",
       "   'original_name': 'Vincent Perez',\n",
       "   'popularity': 1.292,\n",
       "   'profile_path': '/4YQooUljg7Nb4hyi4gHlE0gjKz1.jpg',\n",
       "   'cast_id': 2,\n",
       "   'character': 'Paolo Gallmann',\n",
       "   'credit_id': '52fe4414c3a368484e00e3ad',\n",
       "   'order': 1},\n",
       "  {'adult': False,\n",
       "   'gender': 2,\n",
       "   'id': 19977,\n",
       "   'known_for_department': 'Acting',\n",
       "   'name': 'Liam Aiken',\n",
       "   'original_name': 'Liam Aiken',\n",
       "   'popularity': 4.411,\n",
       "   'profile_path': '/1kP7FOJgd5rZZlrVXuN57IZXtNK.jpg',\n",
       "   'cast_id': 3,\n",
       "   'character': '7-Year-Old Emanuele',\n",
       "   'credit_id': '52fe4414c3a368484e00e3b1',\n",
       "   'order': 2},\n",
       "  {'adult': False,\n",
       "   'gender': 2,\n",
       "   'id': 8784,\n",
       "   'known_for_department': 'Acting',\n",
       "   'name': 'Daniel Craig',\n",
       "   'original_name': 'Daniel Craig',\n",
       "   'popularity': 26.96,\n",
       "   'profile_path': '/iFerDZUmC5Fu26i4qI8xnUVEHc7.jpg',\n",
       "   'cast_id': 4,\n",
       "   'character': 'Declan Fielding',\n",
       "   'credit_id': '52fe4414c3a368484e00e3b5',\n",
       "   'order': 3},\n",
       "  {'adult': False,\n",
       "   'gender': 1,\n",
       "   'id': 2639,\n",
       "   'known_for_department': 'Acting',\n",
       "   'name': 'Eva Marie Saint',\n",
       "   'original_name': 'Eva Marie Saint',\n",
       "   'popularity': 4.382,\n",
       "   'profile_path': '/nJgTHDaCA3yl8vDu3nP8S6qjhIx.jpg',\n",
       "   'cast_id': 5,\n",
       "   'character': 'Franca',\n",
       "   'credit_id': '52fe4414c3a368484e00e3b9',\n",
       "   'order': 4},\n",
       "  {'adult': False,\n",
       "   'gender': 2,\n",
       "   'id': 129101,\n",
       "   'known_for_department': 'Acting',\n",
       "   'name': 'Lance Reddick',\n",
       "   'original_name': 'Lance Reddick',\n",
       "   'popularity': 6.92,\n",
       "   'profile_path': '/22mVtEXZbpt0J7S0LhIhdkfRrZV.jpg',\n",
       "   'cast_id': 9,\n",
       "   'character': 'Simon',\n",
       "   'credit_id': '5700373c92514167760030f6',\n",
       "   'order': 5},\n",
       "  {'adult': False,\n",
       "   'gender': 2,\n",
       "   'id': 1386160,\n",
       "   'known_for_department': 'Acting',\n",
       "   'name': 'Stephen Jennings',\n",
       "   'original_name': 'Stephen Jennings',\n",
       "   'popularity': 2.733,\n",
       "   'profile_path': '/4xolbERE7DgX4qQBzryoAs4DAZP.jpg',\n",
       "   'cast_id': 10,\n",
       "   'character': 'Vincenzo',\n",
       "   'credit_id': '597d09589251415dba007722',\n",
       "   'order': 6},\n",
       "  {'adult': False,\n",
       "   'gender': 2,\n",
       "   'id': 47969,\n",
       "   'known_for_department': 'Acting',\n",
       "   'name': 'Nick Boraine',\n",
       "   'original_name': 'Nick Boraine',\n",
       "   'popularity': 0.84,\n",
       "   'profile_path': '/lcuyeUFhnYVp2YdUscYNFOQxkJ3.jpg',\n",
       "   'cast_id': 11,\n",
       "   'character': 'Duncan Maitland',\n",
       "   'credit_id': '597d09ad9251415d98007e8c',\n",
       "   'order': 7}],\n",
       " 'crew': [{'adult': False,\n",
       "   'gender': 2,\n",
       "   'id': 2704,\n",
       "   'known_for_department': 'Sound',\n",
       "   'name': 'Maurice Jarre',\n",
       "   'original_name': 'Maurice Jarre',\n",
       "   'popularity': 0.983,\n",
       "   'profile_path': '/44sZGwLqOKdHIkP3Mbz4ArXHT3w.jpg',\n",
       "   'credit_id': '611b26e3006b010046abfd68',\n",
       "   'department': 'Sound',\n",
       "   'job': 'Music'},\n",
       "  {'adult': False,\n",
       "   'gender': 1,\n",
       "   'id': 37427,\n",
       "   'known_for_department': 'Writing',\n",
       "   'name': 'Susan Shilliday',\n",
       "   'original_name': 'Susan Shilliday',\n",
       "   'popularity': 0.6,\n",
       "   'profile_path': None,\n",
       "   'credit_id': '5609d6f7c3a3686814000a38',\n",
       "   'department': 'Writing',\n",
       "   'job': 'Screenplay'},\n",
       "  {'adult': False,\n",
       "   'gender': 2,\n",
       "   'id': 58220,\n",
       "   'known_for_department': 'Directing',\n",
       "   'name': 'Hugh Hudson',\n",
       "   'original_name': 'Hugh Hudson',\n",
       "   'popularity': 0.6,\n",
       "   'profile_path': '/mVuyIOGwLBMGABMoZwLVCqowLuo.jpg',\n",
       "   'credit_id': '52fe4414c3a368484e00e3bf',\n",
       "   'department': 'Directing',\n",
       "   'job': 'Director'},\n",
       "  {'adult': False,\n",
       "   'gender': 1,\n",
       "   'id': 139158,\n",
       "   'known_for_department': 'Writing',\n",
       "   'name': 'Paula Milne',\n",
       "   'original_name': 'Paula Milne',\n",
       "   'popularity': 1.38,\n",
       "   'profile_path': None,\n",
       "   'credit_id': '56c144559251410a62001495',\n",
       "   'department': 'Writing',\n",
       "   'job': 'Screenplay'}]}"
      ]
     },
     "execution_count": 65,
     "metadata": {},
     "output_type": "execute_result"
    }
   ],
   "source": [
    "fetch_movie_credits('I Dreamed of Africa (2000) [4K]')"
   ]
  },
  {
   "cell_type": "code",
   "execution_count": null,
   "id": "074c9975",
   "metadata": {},
   "outputs": [],
   "source": []
  }
 ],
 "metadata": {
  "kernelspec": {
   "display_name": "Python 3 (ipykernel)",
   "language": "python",
   "name": "python3"
  },
  "language_info": {
   "codemirror_mode": {
    "name": "ipython",
    "version": 3
   },
   "file_extension": ".py",
   "mimetype": "text/x-python",
   "name": "python",
   "nbconvert_exporter": "python",
   "pygments_lexer": "ipython3",
   "version": "3.8.12"
  },
  "toc": {
   "base_numbering": 1,
   "nav_menu": {},
   "number_sections": true,
   "sideBar": true,
   "skip_h1_title": false,
   "title_cell": "Table of Contents",
   "title_sidebar": "Contents",
   "toc_cell": false,
   "toc_position": {},
   "toc_section_display": true,
   "toc_window_display": false
  }
 },
 "nbformat": 4,
 "nbformat_minor": 5
}
