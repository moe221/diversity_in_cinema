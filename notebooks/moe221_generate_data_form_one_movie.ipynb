{
 "cells": [
  {
   "cell_type": "markdown",
   "id": "7827c1b0",
   "metadata": {
    "toc": true
   },
   "source": [
    "<h1>Table of Contents<span class=\"tocSkip\"></span></h1>\n",
    "<div class=\"toc\"><ul class=\"toc-item\"><li><span><a href=\"#Retrieve-Movie-Frames\" data-toc-modified-id=\"Retrieve-Movie-Frames-1\"><span class=\"toc-item-num\">1&nbsp;&nbsp;</span>Retrieve Movie Frames</a></span></li><li><span><a href=\"#Extracting-Faces\" data-toc-modified-id=\"Extracting-Faces-2\"><span class=\"toc-item-num\">2&nbsp;&nbsp;</span>Extracting Faces</a></span></li><li><span><a href=\"#Classify-Each-face\" data-toc-modified-id=\"Classify-Each-face-3\"><span class=\"toc-item-num\">3&nbsp;&nbsp;</span>Classify Each face</a></span></li><li><span><a href=\"#Generate-Overview-for-one-Movie\" data-toc-modified-id=\"Generate-Overview-for-one-Movie-4\"><span class=\"toc-item-num\">4&nbsp;&nbsp;</span>Generate Overview for one Movie</a></span></li></ul></div>"
   ]
  },
  {
   "cell_type": "code",
   "execution_count": 1,
   "id": "da687d79",
   "metadata": {
    "scrolled": true
   },
   "outputs": [],
   "source": [
    "import sys\n",
    "sys.path.insert(0,'..')"
   ]
  },
  {
   "cell_type": "code",
   "execution_count": 97,
   "id": "ac90bf84",
   "metadata": {},
   "outputs": [],
   "source": [
    "import numpy as np\n",
    "import pandas as pd\n",
    "import matplotlib.pyplot as plt\n",
    "from tqdm import tqdm\n",
    "\n",
    "import mtcnn\n",
    "\n",
    "from cv2 import imread\n",
    "from cv2 import CascadeClassifier"
   ]
  },
  {
   "cell_type": "code",
   "execution_count": 2,
   "id": "59cd6b77",
   "metadata": {},
   "outputs": [],
   "source": [
    "from diversity_in_cinema.cnn_model import predict_face\n",
    "from diversity_in_cinema.data import get_images\n",
    "from diversity_in_cinema.scraper import get_movies"
   ]
  },
  {
   "cell_type": "markdown",
   "id": "8d65f55a",
   "metadata": {},
   "source": [
    "# Retrieve Movie Frames"
   ]
  },
  {
   "cell_type": "code",
   "execution_count": 107,
   "id": "ca496c1f",
   "metadata": {},
   "outputs": [
    {
     "data": {
      "text/plain": [
       "'Man of Steel (2013)'"
      ]
     },
     "execution_count": 107,
     "metadata": {},
     "output_type": "execute_result"
    }
   ],
   "source": [
    "# choose movie name\n",
    "movie_list = list(get_movies().keys())\n",
    "movie_list[420]"
   ]
  },
  {
   "cell_type": "code",
   "execution_count": 108,
   "id": "d9aee2a7",
   "metadata": {},
   "outputs": [],
   "source": [
    "df_movie = get_images(movie_list[420], frame_interval=4)"
   ]
  },
  {
   "cell_type": "code",
   "execution_count": 110,
   "id": "586df33e",
   "metadata": {},
   "outputs": [
    {
     "data": {
      "text/html": [
       "<div>\n",
       "<style scoped>\n",
       "    .dataframe tbody tr th:only-of-type {\n",
       "        vertical-align: middle;\n",
       "    }\n",
       "\n",
       "    .dataframe tbody tr th {\n",
       "        vertical-align: top;\n",
       "    }\n",
       "\n",
       "    .dataframe thead th {\n",
       "        text-align: right;\n",
       "    }\n",
       "</style>\n",
       "<table border=\"1\" class=\"dataframe\">\n",
       "  <thead>\n",
       "    <tr style=\"text-align: right;\">\n",
       "      <th></th>\n",
       "      <th>title</th>\n",
       "      <th>frame_no</th>\n",
       "      <th>img_array</th>\n",
       "    </tr>\n",
       "  </thead>\n",
       "  <tbody>\n",
       "    <tr>\n",
       "      <th>0</th>\n",
       "      <td>Man of Steel (2013)</td>\n",
       "      <td>1</td>\n",
       "      <td>[[[98, 91, 72], [96, 90, 68], [94, 88, 66], [9...</td>\n",
       "    </tr>\n",
       "    <tr>\n",
       "      <th>1</th>\n",
       "      <td>Man of Steel (2013)</td>\n",
       "      <td>5</td>\n",
       "      <td>[[[80, 83, 66], [82, 85, 68], [84, 87, 68], [8...</td>\n",
       "    </tr>\n",
       "    <tr>\n",
       "      <th>2</th>\n",
       "      <td>Man of Steel (2013)</td>\n",
       "      <td>9</td>\n",
       "      <td>[[[67, 71, 57], [66, 70, 56], [69, 73, 59], [6...</td>\n",
       "    </tr>\n",
       "    <tr>\n",
       "      <th>3</th>\n",
       "      <td>Man of Steel (2013)</td>\n",
       "      <td>13</td>\n",
       "      <td>[[[53, 57, 43], [54, 58, 44], [47, 51, 37], [4...</td>\n",
       "    </tr>\n",
       "    <tr>\n",
       "      <th>4</th>\n",
       "      <td>Man of Steel (2013)</td>\n",
       "      <td>17</td>\n",
       "      <td>[[[2, 2, 2], [2, 2, 2], [2, 2, 2], [2, 2, 2], ...</td>\n",
       "    </tr>\n",
       "  </tbody>\n",
       "</table>\n",
       "</div>"
      ],
      "text/plain": [
       "                 title  frame_no  \\\n",
       "0  Man of Steel (2013)         1   \n",
       "1  Man of Steel (2013)         5   \n",
       "2  Man of Steel (2013)         9   \n",
       "3  Man of Steel (2013)        13   \n",
       "4  Man of Steel (2013)        17   \n",
       "\n",
       "                                           img_array  \n",
       "0  [[[98, 91, 72], [96, 90, 68], [94, 88, 66], [9...  \n",
       "1  [[[80, 83, 66], [82, 85, 68], [84, 87, 68], [8...  \n",
       "2  [[[67, 71, 57], [66, 70, 56], [69, 73, 59], [6...  \n",
       "3  [[[53, 57, 43], [54, 58, 44], [47, 51, 37], [4...  \n",
       "4  [[[2, 2, 2], [2, 2, 2], [2, 2, 2], [2, 2, 2], ...  "
      ]
     },
     "execution_count": 110,
     "metadata": {},
     "output_type": "execute_result"
    }
   ],
   "source": [
    "df_movie.head()"
   ]
  },
  {
   "cell_type": "code",
   "execution_count": 115,
   "id": "a621c193",
   "metadata": {},
   "outputs": [],
   "source": [
    "df_movie.to_csv(\"man_of_steel_frames.csv\")"
   ]
  },
  {
   "cell_type": "markdown",
   "id": "e3dd6900",
   "metadata": {},
   "source": [
    "# Extracting Faces"
   ]
  },
  {
   "cell_type": "code",
   "execution_count": 145,
   "id": "c168c2bc",
   "metadata": {},
   "outputs": [],
   "source": [
    "def extract_face_mtcnn(dataframe):\n",
    "    \n",
    "    \"\"\"\n",
    "    Function which given a dataset of frame numbers and frame arrays\n",
    "    returns a dataframe of faces detected in each frame\n",
    "    \"\"\"\n",
    "\n",
    "    detector = mtcnn.MTCNN()   \n",
    "    \n",
    "    face_dict = {}\n",
    "    \n",
    "    print(\"Extracting faces...\")\n",
    "    \n",
    "    for frames, frame_id in zip(dataframe[\"img_array\"], tqdm(dataframe[\"frame_no\"])):\n",
    "        # print bounding box for each detected face\n",
    "        bboxes = detector.detect_faces(frames)\n",
    "        \n",
    "        faces_list = []\n",
    "        \n",
    "        if len(bboxes) > 0:\n",
    "            \n",
    "            # extract all faces in image\n",
    "            for box in bboxes:\n",
    "                \n",
    "                x1, y1, width, height = box[\"box\"]\n",
    "        \n",
    "                if (width * height) >= 10_000:\n",
    "                    x2, y2 = x1 + width, y1 + height\n",
    "                    face = frames[y1:y2, x1:x2]\n",
    "\n",
    "                    # resize\n",
    "                    faces_list.append(face)\n",
    "\n",
    "        face_dict[frame_id] = faces_list\n",
    "        \n",
    "        faces_df = pd.DataFrame(data={\"frame\":list(face_dict.keys()),\n",
    "                                      \"faces\": list(face_dict.values())})\n",
    "        \n",
    "    return faces_df"
   ]
  },
  {
   "cell_type": "code",
   "execution_count": 146,
   "id": "7fd7ad5d",
   "metadata": {},
   "outputs": [],
   "source": [
    "def extract_face_opencv(dataframe):\n",
    "    \n",
    "    \"\"\"\n",
    "    Function which given a dataset of frame numbers and frame arrays\n",
    "    returns a dataframe of faces detected in each frame\n",
    "    \"\"\"\n",
    "    \n",
    "\n",
    "    classifier = CascadeClassifier('haarcascade_frontalface_default.xml')\n",
    "        \n",
    "    face_dict = {}\n",
    "    \n",
    "    print(\"Extracting faces...\")\n",
    "    \n",
    "    for frames, frame_id in zip(dataframe[\"img_array\"], tqdm(dataframe[\"frame_no\"])):\n",
    "        \n",
    "        # perform face detection\n",
    "        bboxes = classifier.detectMultiScale(np.array(frames, dtype='uint8'))\n",
    "        \n",
    "        # print bounding box for each detected face\n",
    "\n",
    "        faces_list = []\n",
    "        if len(bboxes) > 0:\n",
    "            # extract all faces in image\n",
    "            for box in bboxes:\n",
    "\n",
    "                x1, y1, width, height = box\n",
    "\n",
    "                if (width * height) >= 10_000:\n",
    "                    x2, y2 = x1 + width, y1 + height\n",
    "                    face = frames[y1:y2, x1:x2]\n",
    "\n",
    "                    # resize\n",
    "                    faces_list.append(face)\n",
    "\n",
    "        face_dict[frame_id] = faces_list\n",
    "        \n",
    "        faces_df = pd.DataFrame(data={\"frame\":list(face_dict.keys()),\n",
    "                                      \"faces\": list(face_dict.values())})\n",
    "        \n",
    "        return faces_df"
   ]
  },
  {
   "cell_type": "markdown",
   "id": "f974e816",
   "metadata": {},
   "source": [
    "# Classify Each face "
   ]
  },
  {
   "cell_type": "code",
   "execution_count": 147,
   "id": "081a17f8",
   "metadata": {},
   "outputs": [],
   "source": [
    "# every rwo is a frame and every frame has n faces\n",
    "\n",
    "def classify_faces(dataframe):\n",
    "    \n",
    "    \"\"\"\n",
    "    A function which takes in a dataframe of frame number and the\n",
    "    extracted face images in each frame as an array\n",
    "    \n",
    "    \"\"\"\n",
    "    \n",
    "    df_list = []\n",
    "    i = 0\n",
    "    for frame, faces in zip(dataframe[\"frame\"], tqdm(dataframe[\"faces\"])):\n",
    "\n",
    "        frame_list = []\n",
    "        gender_list = []\n",
    "        race_list = []\n",
    "        face_id_list = []\n",
    "\n",
    "        results = predict_face(faces)\n",
    "\n",
    "        for faces in results.values():\n",
    "            gender = faces[\"gender\"]\n",
    "            race = faces[\"dominant_race\"]\n",
    "\n",
    "            frame_list.append(frame)\n",
    "            gender_list.append(gender)\n",
    "            race_list.append(race)\n",
    "\n",
    "            face_id_list.append(i)\n",
    "\n",
    "            i += 1\n",
    "\n",
    "        df = pd.DataFrame(data={\"frame_number\":frame_list,\n",
    "                                \"face_id\":face_id_list,\n",
    "                                \"gender\":gender_list,\n",
    "                                \"race\":race_list})\n",
    "        df_list.append(df) \n",
    "        \n",
    "    return pd.concat(df_list)"
   ]
  },
  {
   "cell_type": "markdown",
   "id": "800fcbe6",
   "metadata": {},
   "source": [
    "# Generate Overview for one Movie"
   ]
  },
  {
   "cell_type": "code",
   "execution_count": null,
   "id": "5784461b",
   "metadata": {},
   "outputs": [
    {
     "name": "stdout",
     "output_type": "stream",
     "text": [
      "Extracting faces...\n"
     ]
    },
    {
     "name": "stderr",
     "output_type": "stream",
     "text": [
      "  2%|▊                                      | 83/3951 [01:17<1:00:16,  1.07it/s]"
     ]
    }
   ],
   "source": [
    "faces_df = extract_face_mtcnn(df_movie)\n",
    "faces_df"
   ]
  },
  {
   "cell_type": "code",
   "execution_count": 89,
   "id": "e861c88d",
   "metadata": {},
   "outputs": [],
   "source": [
    "df_classified = classify_faces(faces_df)"
   ]
  },
  {
   "cell_type": "code",
   "execution_count": 91,
   "id": "6df05e1e",
   "metadata": {},
   "outputs": [
    {
     "data": {
      "text/plain": [
       "Man      954\n",
       "Woman    222\n",
       "Name: gender, dtype: int64"
      ]
     },
     "execution_count": 91,
     "metadata": {},
     "output_type": "execute_result"
    }
   ],
   "source": [
    "df_classified[\"gender\"].value_counts()"
   ]
  },
  {
   "cell_type": "code",
   "execution_count": 92,
   "id": "833acd6d",
   "metadata": {},
   "outputs": [
    {
     "data": {
      "text/plain": [
       "white              800\n",
       "asian              103\n",
       "latino hispanic     98\n",
       "middle eastern      96\n",
       "black               72\n",
       "indian               7\n",
       "Name: race, dtype: int64"
      ]
     },
     "execution_count": 92,
     "metadata": {},
     "output_type": "execute_result"
    }
   ],
   "source": [
    "df_classifyed[\"race\"].value_counts()"
   ]
  },
  {
   "cell_type": "code",
   "execution_count": 95,
   "id": "080487a7",
   "metadata": {},
   "outputs": [
    {
     "data": {
      "text/html": [
       "<div>\n",
       "<style scoped>\n",
       "    .dataframe tbody tr th:only-of-type {\n",
       "        vertical-align: middle;\n",
       "    }\n",
       "\n",
       "    .dataframe tbody tr th {\n",
       "        vertical-align: top;\n",
       "    }\n",
       "\n",
       "    .dataframe thead th {\n",
       "        text-align: right;\n",
       "    }\n",
       "</style>\n",
       "<table border=\"1\" class=\"dataframe\">\n",
       "  <thead>\n",
       "    <tr style=\"text-align: right;\">\n",
       "      <th></th>\n",
       "      <th>frame_number</th>\n",
       "      <th>face_id</th>\n",
       "      <th>gender</th>\n",
       "      <th>race</th>\n",
       "    </tr>\n",
       "  </thead>\n",
       "  <tbody>\n",
       "    <tr>\n",
       "      <th>0</th>\n",
       "      <td>31.0</td>\n",
       "      <td>0.0</td>\n",
       "      <td>Man</td>\n",
       "      <td>white</td>\n",
       "    </tr>\n",
       "    <tr>\n",
       "      <th>0</th>\n",
       "      <td>51.0</td>\n",
       "      <td>1.0</td>\n",
       "      <td>Man</td>\n",
       "      <td>white</td>\n",
       "    </tr>\n",
       "    <tr>\n",
       "      <th>0</th>\n",
       "      <td>131.0</td>\n",
       "      <td>7.0</td>\n",
       "      <td>Man</td>\n",
       "      <td>white</td>\n",
       "    </tr>\n",
       "    <tr>\n",
       "      <th>2</th>\n",
       "      <td>141.0</td>\n",
       "      <td>10.0</td>\n",
       "      <td>Man</td>\n",
       "      <td>white</td>\n",
       "    </tr>\n",
       "    <tr>\n",
       "      <th>3</th>\n",
       "      <td>141.0</td>\n",
       "      <td>11.0</td>\n",
       "      <td>Man</td>\n",
       "      <td>white</td>\n",
       "    </tr>\n",
       "    <tr>\n",
       "      <th>...</th>\n",
       "      <td>...</td>\n",
       "      <td>...</td>\n",
       "      <td>...</td>\n",
       "      <td>...</td>\n",
       "    </tr>\n",
       "    <tr>\n",
       "      <th>1</th>\n",
       "      <td>9731.0</td>\n",
       "      <td>1166.0</td>\n",
       "      <td>Woman</td>\n",
       "      <td>white</td>\n",
       "    </tr>\n",
       "    <tr>\n",
       "      <th>4</th>\n",
       "      <td>9731.0</td>\n",
       "      <td>1169.0</td>\n",
       "      <td>Man</td>\n",
       "      <td>white</td>\n",
       "    </tr>\n",
       "    <tr>\n",
       "      <th>5</th>\n",
       "      <td>9731.0</td>\n",
       "      <td>1170.0</td>\n",
       "      <td>Man</td>\n",
       "      <td>white</td>\n",
       "    </tr>\n",
       "    <tr>\n",
       "      <th>2</th>\n",
       "      <td>9741.0</td>\n",
       "      <td>1173.0</td>\n",
       "      <td>Woman</td>\n",
       "      <td>white</td>\n",
       "    </tr>\n",
       "    <tr>\n",
       "      <th>0</th>\n",
       "      <td>9771.0</td>\n",
       "      <td>1175.0</td>\n",
       "      <td>Man</td>\n",
       "      <td>white</td>\n",
       "    </tr>\n",
       "  </tbody>\n",
       "</table>\n",
       "<p>800 rows × 4 columns</p>\n",
       "</div>"
      ],
      "text/plain": [
       "    frame_number  face_id gender   race\n",
       "0           31.0      0.0    Man  white\n",
       "0           51.0      1.0    Man  white\n",
       "0          131.0      7.0    Man  white\n",
       "2          141.0     10.0    Man  white\n",
       "3          141.0     11.0    Man  white\n",
       "..           ...      ...    ...    ...\n",
       "1         9731.0   1166.0  Woman  white\n",
       "4         9731.0   1169.0    Man  white\n",
       "5         9731.0   1170.0    Man  white\n",
       "2         9741.0   1173.0  Woman  white\n",
       "0         9771.0   1175.0    Man  white\n",
       "\n",
       "[800 rows x 4 columns]"
      ]
     },
     "execution_count": 95,
     "metadata": {},
     "output_type": "execute_result"
    }
   ],
   "source": [
    "df_classifyed[df_classifyed[\"race\"] == \"white\"]"
   ]
  },
  {
   "cell_type": "code",
   "execution_count": 94,
   "id": "f35c9387",
   "metadata": {},
   "outputs": [
    {
     "data": {
      "text/html": [
       "<div>\n",
       "<style scoped>\n",
       "    .dataframe tbody tr th:only-of-type {\n",
       "        vertical-align: middle;\n",
       "    }\n",
       "\n",
       "    .dataframe tbody tr th {\n",
       "        vertical-align: top;\n",
       "    }\n",
       "\n",
       "    .dataframe thead th {\n",
       "        text-align: right;\n",
       "    }\n",
       "</style>\n",
       "<table border=\"1\" class=\"dataframe\">\n",
       "  <thead>\n",
       "    <tr style=\"text-align: right;\">\n",
       "      <th></th>\n",
       "      <th>frame_number</th>\n",
       "      <th>face_id</th>\n",
       "      <th>gender</th>\n",
       "      <th>race</th>\n",
       "    </tr>\n",
       "  </thead>\n",
       "  <tbody>\n",
       "    <tr>\n",
       "      <th>0</th>\n",
       "      <td>2221.0</td>\n",
       "      <td>212.0</td>\n",
       "      <td>Man</td>\n",
       "      <td>white</td>\n",
       "    </tr>\n",
       "    <tr>\n",
       "      <th>1</th>\n",
       "      <td>2221.0</td>\n",
       "      <td>213.0</td>\n",
       "      <td>Man</td>\n",
       "      <td>indian</td>\n",
       "    </tr>\n",
       "    <tr>\n",
       "      <th>2</th>\n",
       "      <td>2221.0</td>\n",
       "      <td>214.0</td>\n",
       "      <td>Man</td>\n",
       "      <td>white</td>\n",
       "    </tr>\n",
       "  </tbody>\n",
       "</table>\n",
       "</div>"
      ],
      "text/plain": [
       "   frame_number  face_id gender    race\n",
       "0        2221.0    212.0    Man   white\n",
       "1        2221.0    213.0    Man  indian\n",
       "2        2221.0    214.0    Man   white"
      ]
     },
     "execution_count": 94,
     "metadata": {},
     "output_type": "execute_result"
    }
   ],
   "source": [
    "df_classifyed[df_classifyed[\"frame_number\"] == 2221]"
   ]
  }
 ],
 "metadata": {
  "kernelspec": {
   "display_name": "diversity_in_cinema",
   "language": "python",
   "name": "diversity_in_cinema"
  },
  "language_info": {
   "codemirror_mode": {
    "name": "ipython",
    "version": 3
   },
   "file_extension": ".py",
   "mimetype": "text/x-python",
   "name": "python",
   "nbconvert_exporter": "python",
   "pygments_lexer": "ipython3",
   "version": "3.8.12"
  },
  "toc": {
   "base_numbering": 1,
   "nav_menu": {},
   "number_sections": true,
   "sideBar": true,
   "skip_h1_title": false,
   "title_cell": "Table of Contents",
   "title_sidebar": "Contents",
   "toc_cell": true,
   "toc_position": {},
   "toc_section_display": true,
   "toc_window_display": true
  }
 },
 "nbformat": 4,
 "nbformat_minor": 5
}
